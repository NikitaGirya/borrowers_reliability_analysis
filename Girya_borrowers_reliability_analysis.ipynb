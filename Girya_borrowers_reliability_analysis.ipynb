{
 "cells": [
  {
   "cell_type": "markdown",
   "metadata": {
    "toc": true
   },
   "source": [
    "<h1>Содержание<span class=\"tocSkip\"></span></h1>\n",
    "<div class=\"toc\"><ul class=\"toc-item\"><li><span><a href=\"#Получение-и-обзор-данных\" data-toc-modified-id=\"Получение-и-обзор-данных-1\"><span class=\"toc-item-num\">1&nbsp;&nbsp;</span>Получение и обзор данных</a></span></li><li><span><a href=\"#Предобработка-данных\" data-toc-modified-id=\"Предобработка-данных-2\"><span class=\"toc-item-num\">2&nbsp;&nbsp;</span>Предобработка данных</a></span><ul class=\"toc-item\"><li><span><a href=\"#Обработка-пропусков-и-некорректных-значений\" data-toc-modified-id=\"Обработка-пропусков-и-некорректных-значений-2.1\"><span class=\"toc-item-num\">2.1&nbsp;&nbsp;</span>Обработка пропусков и некорректных значений</a></span></li><li><span><a href=\"#Замена-типа-данных\" data-toc-modified-id=\"Замена-типа-данных-2.2\"><span class=\"toc-item-num\">2.2&nbsp;&nbsp;</span>Замена типа данных</a></span></li><li><span><a href=\"#Обработка-дубликатов\" data-toc-modified-id=\"Обработка-дубликатов-2.3\"><span class=\"toc-item-num\">2.3&nbsp;&nbsp;</span>Обработка дубликатов</a></span></li><li><span><a href=\"#Лемматизация-и-категоризация-данных\" data-toc-modified-id=\"Лемматизация-и-категоризация-данных-2.4\"><span class=\"toc-item-num\">2.4&nbsp;&nbsp;</span>Лемматизация и категоризация данных</a></span></li></ul></li><li><span><a href=\"#Проверка-гипотез-исследования\" data-toc-modified-id=\"Проверка-гипотез-исследования-3\"><span class=\"toc-item-num\">3&nbsp;&nbsp;</span>Проверка гипотез исследования</a></span></li><li><span><a href=\"#Общий-вывод-исследования\" data-toc-modified-id=\"Общий-вывод-исследования-4\"><span class=\"toc-item-num\">4&nbsp;&nbsp;</span>Общий вывод исследования</a></span></li></ul></div>"
   ]
  },
  {
   "cell_type": "markdown",
   "metadata": {},
   "source": [
    "# Исследование надёжности заёмщиков\n",
    "\n",
    "Заказчик — кредитный отдел банка. Нужно разобраться, влияет ли семейное положение и количество детей клиента на факт погашения кредита в срок. Входные данные от банка — статистика о платёжеспособности клиентов.\n",
    "\n",
    "Результаты исследования будут учтены при построении модели **кредитного скоринга** — специальной системы, которая оценивает способность потенциального заёмщика вернуть кредит банку.\n",
    "\n",
    "**Рабочие гипотезы**\n",
    "\n",
    "- наличие детей влияет на возврат кредита в срок\n",
    "- возврат кредита в срок зависит от семейного положения заемщика\n",
    "- возврат кредита в срок зависит от уровня дохода заемщика\n",
    "- различные цели кредита влияют на возврат его в срок"
   ]
  },
  {
   "cell_type": "markdown",
   "metadata": {},
   "source": [
    "## Получение и обзор данных"
   ]
  },
  {
   "cell_type": "code",
   "execution_count": 1,
   "metadata": {},
   "outputs": [],
   "source": [
    "# импортируем библиотеку pandas\n",
    "import pandas as pd\n",
    "# импортируем библиотеку для лемматизации pymystem3\n",
    "from pymystem3 import Mystem\n",
    "m = Mystem()"
   ]
  },
  {
   "cell_type": "markdown",
   "metadata": {},
   "source": [
    "Прочитаем файл *data.csv* и сохраним его в переменной `data`:"
   ]
  },
  {
   "cell_type": "code",
   "execution_count": 2,
   "metadata": {},
   "outputs": [],
   "source": [
    "# чтение файла с данными и сохранение в переменной 'data'\n",
    "data = pd.read_csv('data.csv')"
   ]
  },
  {
   "cell_type": "markdown",
   "metadata": {},
   "source": [
    "Получим первые десять строк таблицы:"
   ]
  },
  {
   "cell_type": "code",
   "execution_count": 3,
   "metadata": {},
   "outputs": [
    {
     "data": {
      "text/html": [
       "<div>\n",
       "<style scoped>\n",
       "    .dataframe tbody tr th:only-of-type {\n",
       "        vertical-align: middle;\n",
       "    }\n",
       "\n",
       "    .dataframe tbody tr th {\n",
       "        vertical-align: top;\n",
       "    }\n",
       "\n",
       "    .dataframe thead th {\n",
       "        text-align: right;\n",
       "    }\n",
       "</style>\n",
       "<table border=\"1\" class=\"dataframe\">\n",
       "  <thead>\n",
       "    <tr style=\"text-align: right;\">\n",
       "      <th></th>\n",
       "      <th>children</th>\n",
       "      <th>days_employed</th>\n",
       "      <th>dob_years</th>\n",
       "      <th>education</th>\n",
       "      <th>education_id</th>\n",
       "      <th>family_status</th>\n",
       "      <th>family_status_id</th>\n",
       "      <th>gender</th>\n",
       "      <th>income_type</th>\n",
       "      <th>debt</th>\n",
       "      <th>total_income</th>\n",
       "      <th>purpose</th>\n",
       "    </tr>\n",
       "  </thead>\n",
       "  <tbody>\n",
       "    <tr>\n",
       "      <td>0</td>\n",
       "      <td>1</td>\n",
       "      <td>-8437.673028</td>\n",
       "      <td>42</td>\n",
       "      <td>высшее</td>\n",
       "      <td>0</td>\n",
       "      <td>женат / замужем</td>\n",
       "      <td>0</td>\n",
       "      <td>F</td>\n",
       "      <td>сотрудник</td>\n",
       "      <td>0</td>\n",
       "      <td>253875.639453</td>\n",
       "      <td>покупка жилья</td>\n",
       "    </tr>\n",
       "    <tr>\n",
       "      <td>1</td>\n",
       "      <td>1</td>\n",
       "      <td>-4024.803754</td>\n",
       "      <td>36</td>\n",
       "      <td>среднее</td>\n",
       "      <td>1</td>\n",
       "      <td>женат / замужем</td>\n",
       "      <td>0</td>\n",
       "      <td>F</td>\n",
       "      <td>сотрудник</td>\n",
       "      <td>0</td>\n",
       "      <td>112080.014102</td>\n",
       "      <td>приобретение автомобиля</td>\n",
       "    </tr>\n",
       "    <tr>\n",
       "      <td>2</td>\n",
       "      <td>0</td>\n",
       "      <td>-5623.422610</td>\n",
       "      <td>33</td>\n",
       "      <td>Среднее</td>\n",
       "      <td>1</td>\n",
       "      <td>женат / замужем</td>\n",
       "      <td>0</td>\n",
       "      <td>M</td>\n",
       "      <td>сотрудник</td>\n",
       "      <td>0</td>\n",
       "      <td>145885.952297</td>\n",
       "      <td>покупка жилья</td>\n",
       "    </tr>\n",
       "    <tr>\n",
       "      <td>3</td>\n",
       "      <td>3</td>\n",
       "      <td>-4124.747207</td>\n",
       "      <td>32</td>\n",
       "      <td>среднее</td>\n",
       "      <td>1</td>\n",
       "      <td>женат / замужем</td>\n",
       "      <td>0</td>\n",
       "      <td>M</td>\n",
       "      <td>сотрудник</td>\n",
       "      <td>0</td>\n",
       "      <td>267628.550329</td>\n",
       "      <td>дополнительное образование</td>\n",
       "    </tr>\n",
       "    <tr>\n",
       "      <td>4</td>\n",
       "      <td>0</td>\n",
       "      <td>340266.072047</td>\n",
       "      <td>53</td>\n",
       "      <td>среднее</td>\n",
       "      <td>1</td>\n",
       "      <td>гражданский брак</td>\n",
       "      <td>1</td>\n",
       "      <td>F</td>\n",
       "      <td>пенсионер</td>\n",
       "      <td>0</td>\n",
       "      <td>158616.077870</td>\n",
       "      <td>сыграть свадьбу</td>\n",
       "    </tr>\n",
       "    <tr>\n",
       "      <td>5</td>\n",
       "      <td>0</td>\n",
       "      <td>-926.185831</td>\n",
       "      <td>27</td>\n",
       "      <td>высшее</td>\n",
       "      <td>0</td>\n",
       "      <td>гражданский брак</td>\n",
       "      <td>1</td>\n",
       "      <td>M</td>\n",
       "      <td>компаньон</td>\n",
       "      <td>0</td>\n",
       "      <td>255763.565419</td>\n",
       "      <td>покупка жилья</td>\n",
       "    </tr>\n",
       "    <tr>\n",
       "      <td>6</td>\n",
       "      <td>0</td>\n",
       "      <td>-2879.202052</td>\n",
       "      <td>43</td>\n",
       "      <td>высшее</td>\n",
       "      <td>0</td>\n",
       "      <td>женат / замужем</td>\n",
       "      <td>0</td>\n",
       "      <td>F</td>\n",
       "      <td>компаньон</td>\n",
       "      <td>0</td>\n",
       "      <td>240525.971920</td>\n",
       "      <td>операции с жильем</td>\n",
       "    </tr>\n",
       "    <tr>\n",
       "      <td>7</td>\n",
       "      <td>0</td>\n",
       "      <td>-152.779569</td>\n",
       "      <td>50</td>\n",
       "      <td>СРЕДНЕЕ</td>\n",
       "      <td>1</td>\n",
       "      <td>женат / замужем</td>\n",
       "      <td>0</td>\n",
       "      <td>M</td>\n",
       "      <td>сотрудник</td>\n",
       "      <td>0</td>\n",
       "      <td>135823.934197</td>\n",
       "      <td>образование</td>\n",
       "    </tr>\n",
       "    <tr>\n",
       "      <td>8</td>\n",
       "      <td>2</td>\n",
       "      <td>-6929.865299</td>\n",
       "      <td>35</td>\n",
       "      <td>ВЫСШЕЕ</td>\n",
       "      <td>0</td>\n",
       "      <td>гражданский брак</td>\n",
       "      <td>1</td>\n",
       "      <td>F</td>\n",
       "      <td>сотрудник</td>\n",
       "      <td>0</td>\n",
       "      <td>95856.832424</td>\n",
       "      <td>на проведение свадьбы</td>\n",
       "    </tr>\n",
       "    <tr>\n",
       "      <td>9</td>\n",
       "      <td>0</td>\n",
       "      <td>-2188.756445</td>\n",
       "      <td>41</td>\n",
       "      <td>среднее</td>\n",
       "      <td>1</td>\n",
       "      <td>женат / замужем</td>\n",
       "      <td>0</td>\n",
       "      <td>M</td>\n",
       "      <td>сотрудник</td>\n",
       "      <td>0</td>\n",
       "      <td>144425.938277</td>\n",
       "      <td>покупка жилья для семьи</td>\n",
       "    </tr>\n",
       "  </tbody>\n",
       "</table>\n",
       "</div>"
      ],
      "text/plain": [
       "   children  days_employed  dob_years education  education_id  \\\n",
       "0         1   -8437.673028         42    высшее             0   \n",
       "1         1   -4024.803754         36   среднее             1   \n",
       "2         0   -5623.422610         33   Среднее             1   \n",
       "3         3   -4124.747207         32   среднее             1   \n",
       "4         0  340266.072047         53   среднее             1   \n",
       "5         0    -926.185831         27    высшее             0   \n",
       "6         0   -2879.202052         43    высшее             0   \n",
       "7         0    -152.779569         50   СРЕДНЕЕ             1   \n",
       "8         2   -6929.865299         35    ВЫСШЕЕ             0   \n",
       "9         0   -2188.756445         41   среднее             1   \n",
       "\n",
       "      family_status  family_status_id gender income_type  debt   total_income  \\\n",
       "0   женат / замужем                 0      F   сотрудник     0  253875.639453   \n",
       "1   женат / замужем                 0      F   сотрудник     0  112080.014102   \n",
       "2   женат / замужем                 0      M   сотрудник     0  145885.952297   \n",
       "3   женат / замужем                 0      M   сотрудник     0  267628.550329   \n",
       "4  гражданский брак                 1      F   пенсионер     0  158616.077870   \n",
       "5  гражданский брак                 1      M   компаньон     0  255763.565419   \n",
       "6   женат / замужем                 0      F   компаньон     0  240525.971920   \n",
       "7   женат / замужем                 0      M   сотрудник     0  135823.934197   \n",
       "8  гражданский брак                 1      F   сотрудник     0   95856.832424   \n",
       "9   женат / замужем                 0      M   сотрудник     0  144425.938277   \n",
       "\n",
       "                      purpose  \n",
       "0               покупка жилья  \n",
       "1     приобретение автомобиля  \n",
       "2               покупка жилья  \n",
       "3  дополнительное образование  \n",
       "4             сыграть свадьбу  \n",
       "5               покупка жилья  \n",
       "6           операции с жильем  \n",
       "7                 образование  \n",
       "8       на проведение свадьбы  \n",
       "9     покупка жилья для семьи  "
      ]
     },
     "execution_count": 3,
     "metadata": {},
     "output_type": "execute_result"
    }
   ],
   "source": [
    "# получение первых 10 строк таблицы data методом head()\n",
    "data.head(10)"
   ]
  },
  {
   "cell_type": "markdown",
   "metadata": {},
   "source": [
    "Общая информация о данных в таблице:"
   ]
  },
  {
   "cell_type": "code",
   "execution_count": 4,
   "metadata": {},
   "outputs": [
    {
     "name": "stdout",
     "output_type": "stream",
     "text": [
      "<class 'pandas.core.frame.DataFrame'>\n",
      "RangeIndex: 21525 entries, 0 to 21524\n",
      "Data columns (total 12 columns):\n",
      "children            21525 non-null int64\n",
      "days_employed       19351 non-null float64\n",
      "dob_years           21525 non-null int64\n",
      "education           21525 non-null object\n",
      "education_id        21525 non-null int64\n",
      "family_status       21525 non-null object\n",
      "family_status_id    21525 non-null int64\n",
      "gender              21525 non-null object\n",
      "income_type         21525 non-null object\n",
      "debt                21525 non-null int64\n",
      "total_income        19351 non-null float64\n",
      "purpose             21525 non-null object\n",
      "dtypes: float64(2), int64(5), object(5)\n",
      "memory usage: 2.0+ MB\n"
     ]
    }
   ],
   "source": [
    "# получение общей информации о таблице data методом info()\n",
    "data.info()"
   ]
  },
  {
   "cell_type": "markdown",
   "metadata": {},
   "source": [
    "Рассмотрим полученную информацию подробнее.\n",
    "\n",
    "Всего в таблице 12 столбцов с типами данных - целочисленный `int64`, вещественный `float64` и строковый объект `object`.\n",
    "\n",
    "Опишем информацию в столбцах таблицы `data`:\n",
    "\n",
    "* `children` — количество детей в семье\n",
    "* `days_employed` — общий трудовой стаж в днях\n",
    "* `dob_years` — возраст клиента в годах\n",
    "* `education` — уровень образования клиента\n",
    "* `education_id` — идентификатор уровня образования\n",
    "* `family_status` — семейное положение\n",
    "* `family_status_id` — идентификатор семейного положения\n",
    "* `gender` — пол клиента\n",
    "* `income_type` — тип занятости\n",
    "* `debt` — имел ли задолженность по возврату кредитов\n",
    "* `total_income` — ежемесячный доход\n",
    "* `purpose` — цель получения кредита\n",
    "\n",
    "Определим видимые артефакты:\n",
    "- количество значений в столбцах `days_employed` и `total_income` отличается от общего количества записей в таблице, что говорит о пропущенных значениях в данных столбцах\n",
    "- значения полей в столбце `education` не приведены к нижнему регистру\n",
    "- в столбце `days_employed` присутствуют некорректные данные - довольно большие и отрицательные значения \n",
    "- словоформы значений в столбце `purpose` не приведены к лемме (начальной, словарной форме слова), что помешает категоризации данных\n",
    "\n",
    "Также в исходном датасете могут присутствовать скрытые аномалии в некоторых столбцах. Как и видимые, их предстоить выявить и обработать на следующем этапе исследования."
   ]
  },
  {
   "cell_type": "markdown",
   "metadata": {},
   "source": [
    "**Вывод**"
   ]
  },
  {
   "cell_type": "markdown",
   "metadata": {},
   "source": [
    "Каждая запись в таблице содержит информацию о платежеспособности клиентов банка: семейном, социальном и трудовом статусе, а также о целях кредита и задолженности по кредитным обязательствам. Входные данные содержат видимые проблемы: пропущенные и некорректные значения, возможные дубликаты данных, словоформы, не приведенные к лемме. Наиболее важные столбцы с точки зрения проверки гипотез - количество детей в семье (`children`), семейное положение (`family_status`), ежемесячный доход (`total_income`) и цель получения кредита (`purpose`)."
   ]
  },
  {
   "cell_type": "markdown",
   "metadata": {},
   "source": [
    "## Предобработка данных"
   ]
  },
  {
   "cell_type": "markdown",
   "metadata": {},
   "source": [
    "### Обработка пропусков и некорректных значений"
   ]
  },
  {
   "cell_type": "markdown",
   "metadata": {},
   "source": [
    "Узнаем, сколько значений явно пропущено в столбцах таблицы `data`:"
   ]
  },
  {
   "cell_type": "code",
   "execution_count": 5,
   "metadata": {
    "scrolled": true
   },
   "outputs": [
    {
     "data": {
      "text/plain": [
       "children               0\n",
       "days_employed       2174\n",
       "dob_years              0\n",
       "education              0\n",
       "education_id           0\n",
       "family_status          0\n",
       "family_status_id       0\n",
       "gender                 0\n",
       "income_type            0\n",
       "debt                   0\n",
       "total_income        2174\n",
       "purpose                0\n",
       "dtype: int64"
      ]
     },
     "execution_count": 5,
     "metadata": {},
     "output_type": "execute_result"
    }
   ],
   "source": [
    "# определение пропущенных значений в таблице data\n",
    "# методом isna() и их количества методом sum()\n",
    "data.isna().sum()"
   ]
  },
  {
   "cell_type": "markdown",
   "metadata": {},
   "source": [
    "В столбцах `days_employed` (общий трудовой стаж в днях) и `total_income` (ежемесячный доход) пропущено по 2174 записи. "
   ]
  },
  {
   "cell_type": "markdown",
   "metadata": {},
   "source": [
    "Рассмотрим столбец `days_employed` подробнее:"
   ]
  },
  {
   "cell_type": "code",
   "execution_count": 6,
   "metadata": {},
   "outputs": [
    {
     "data": {
      "text/plain": [
       "0     -8437.673028\n",
       "1     -4024.803754\n",
       "2     -5623.422610\n",
       "3     -4124.747207\n",
       "4    340266.072047\n",
       "5      -926.185831\n",
       "6     -2879.202052\n",
       "7      -152.779569\n",
       "8     -6929.865299\n",
       "9     -2188.756445\n",
       "Name: days_employed, dtype: float64"
      ]
     },
     "execution_count": 6,
     "metadata": {},
     "output_type": "execute_result"
    }
   ],
   "source": [
    "# получение первых 10 строк столбца 'days_employed' методом head()\n",
    "data['days_employed'].head(10)"
   ]
  },
  {
   "cell_type": "markdown",
   "metadata": {},
   "source": [
    "Присутствуют отрицательные значения, а также выбросы в виде несопоставимых с логикой данных в столбце больших чисел. Представленные артефакты могли появиться вследствие проблем с выгрузкой данных - строки могли быть получены из разных систем с разными видами хранения трудового стажа."
   ]
  },
  {
   "cell_type": "markdown",
   "metadata": {},
   "source": [
    "Вероятно, отрицательные числа - это разница между датой начала трудового стажа и датой его окончания (или датой выгрузки данных). Можем их исправить, взяв по модулю."
   ]
  },
  {
   "cell_type": "code",
   "execution_count": 7,
   "metadata": {},
   "outputs": [
    {
     "data": {
      "text/plain": [
       "0      8437.673028\n",
       "1      4024.803754\n",
       "2      5623.422610\n",
       "3      4124.747207\n",
       "4    340266.072047\n",
       "5       926.185831\n",
       "6      2879.202052\n",
       "7       152.779569\n",
       "8      6929.865299\n",
       "9      2188.756445\n",
       "Name: days_employed, dtype: float64"
      ]
     },
     "execution_count": 7,
     "metadata": {},
     "output_type": "execute_result"
    }
   ],
   "source": [
    "# получение значений столбца 'days_employed' по модулю\n",
    "data['days_employed'] = abs(data['days_employed'])\n",
    "\n",
    "# проверка - получение первых 10 строк методом head()\n",
    "data['days_employed'].head(10)"
   ]
  },
  {
   "cell_type": "markdown",
   "metadata": {},
   "source": [
    "Большие значения могут быть обусловлены хранением числовых данных не в днях, а в часах. Поэтому часть строк придется делить на 24, а часть оставить без изменений. "
   ]
  },
  {
   "cell_type": "markdown",
   "metadata": {},
   "source": [
    "Предположим, что максимальный стаж работы равен 60 годам. С помощью лямбда-функции поделим значения столбца на 365, и строки с числами меньше 60 будут стажем в годах (их оставим без изменения), больше 60 - в часах. Значения в часах поделим на 24 и заменим строки:"
   ]
  },
  {
   "cell_type": "code",
   "execution_count": 8,
   "metadata": {},
   "outputs": [
    {
     "data": {
      "text/plain": [
       "0     8437.673028\n",
       "1     4024.803754\n",
       "2     5623.422610\n",
       "3     4124.747207\n",
       "4    14177.753002\n",
       "5      926.185831\n",
       "6     2879.202052\n",
       "7      152.779569\n",
       "8     6929.865299\n",
       "9     2188.756445\n",
       "Name: days_employed, dtype: float64"
      ]
     },
     "execution_count": 8,
     "metadata": {},
     "output_type": "execute_result"
    }
   ],
   "source": [
    "# применение лямбда-функции к столбцу 'days_employed'\n",
    "data['days_employed'] = data['days_employed'].apply(lambda val: val if val / 365 <= 60 else val / 24)\n",
    "\n",
    "# проверка - получение первых 10 строк таблицы data методом head()\n",
    "data['days_employed'].head(10)"
   ]
  },
  {
   "cell_type": "markdown",
   "metadata": {},
   "source": [
    "Значения приведены к адекватному виду."
   ]
  },
  {
   "cell_type": "markdown",
   "metadata": {},
   "source": [
    "Возможно, что клиенты, у которых отсутствует информация о трудовом стаже и доходе, никогда официально не работали и на данный момент также нетрудоустроены. Проверим это:"
   ]
  },
  {
   "cell_type": "code",
   "execution_count": 9,
   "metadata": {},
   "outputs": [
    {
     "data": {
      "text/plain": [
       "(2174, 12)"
      ]
     },
     "execution_count": 9,
     "metadata": {},
     "output_type": "execute_result"
    }
   ],
   "source": [
    "# сохранение в переменную 'data_pass' строк, в которых отсутствуют значения  \n",
    "# для столбцов 'days_employed' и (&) 'total_income' методом isna()\n",
    "data_pass = data[data['days_employed'].isna() & data['total_income'].isna()]\n",
    "\n",
    "# проверка - получение размера таблицы data_pass методом shape\n",
    "data_pass.shape"
   ]
  },
  {
   "cell_type": "markdown",
   "metadata": {},
   "source": [
    "Определим тип занятости (`income_type`) клиентов в данной выборке:"
   ]
  },
  {
   "cell_type": "code",
   "execution_count": 10,
   "metadata": {},
   "outputs": [
    {
     "data": {
      "text/plain": [
       "сотрудник          1105\n",
       "компаньон           508\n",
       "пенсионер           413\n",
       "госслужащий         147\n",
       "предприниматель       1\n",
       "Name: income_type, dtype: int64"
      ]
     },
     "execution_count": 10,
     "metadata": {},
     "output_type": "execute_result"
    }
   ],
   "source": [
    "# получение уникальных значений по столбцу 'income_type'  \n",
    "# и их количества в выборке методом value_counts()\n",
    "data_pass['income_type'].value_counts()"
   ]
  },
  {
   "cell_type": "markdown",
   "metadata": {},
   "source": [
    "Как видно, у всех клиентов в данной выборке присутствует определенный тип занятости, значит должен иметься трудовой стаж и ежемесячный доход. Предположение о безработице клиентов с отсутствующей информацией о доходе не подтвердилось."
   ]
  },
  {
   "cell_type": "markdown",
   "metadata": {},
   "source": [
    "Возможной причиной пропусков является проблема с записью данных, так как в банке при подаче заявки на кредит не представляется возможным скрыть ежемесячный доход и трудовой стаж."
   ]
  },
  {
   "cell_type": "markdown",
   "metadata": {},
   "source": [
    "Заполним пропуски в полях `days_employed` (трудовой стаж в днях) и `total_income` (ежемесячный доход) медианными значениями стажа и дохода каждой категории клиентов."
   ]
  },
  {
   "cell_type": "markdown",
   "metadata": {},
   "source": [
    "Для начала создадим функцию `create_median_income_dict`, которая будет возвращать словарь, где ключ - категория занятости, значение - медиана числовых значений по категории занятости в переданном функции столбце:"
   ]
  },
  {
   "cell_type": "code",
   "execution_count": 11,
   "metadata": {
    "scrolled": true
   },
   "outputs": [],
   "source": [
    "# создание функции 'create_median_income_dict()' с аргументом 'columns':\n",
    "def create_median_income_dict(columns):\n",
    "    ''' \n",
    "    Возвращает словарь, где ключ - категория занятости, значение - медиана \n",
    "    числовых значений по категории занятости в переданном функции столбце.\n",
    "    ''' \n",
    "    median_dict = data.sort_values(by=columns)\\\n",
    "                          .groupby('income_type')[columns].median().to_dict()\n",
    "    return median_dict"
   ]
  },
  {
   "cell_type": "markdown",
   "metadata": {},
   "source": [
    "Вызовем функцию для столбца `days_employed`. Полученный словарь с ключом - категорией занятости, значением - медианой трудового стажа сохраним в переменной `median_employed`:"
   ]
  },
  {
   "cell_type": "code",
   "execution_count": 12,
   "metadata": {},
   "outputs": [
    {
     "data": {
      "text/plain": [
       "{'безработный': 15267.235531008522,\n",
       " 'в декрете': 3296.7599620220594,\n",
       " 'госслужащий': 2689.3683533043886,\n",
       " 'компаньон': 1547.3822226779334,\n",
       " 'пенсионер': 15217.221094405466,\n",
       " 'предприниматель': 520.8480834953765,\n",
       " 'сотрудник': 1574.2028211070851,\n",
       " 'студент': 578.7515535382181}"
      ]
     },
     "execution_count": 12,
     "metadata": {},
     "output_type": "execute_result"
    }
   ],
   "source": [
    "# создание словаря медианных значений трудового стажа 'median_employed'\n",
    "median_employed = create_median_income_dict('days_employed')\n",
    "\n",
    "#вывод переменной 'median_employed'\n",
    "median_employed"
   ]
  },
  {
   "cell_type": "markdown",
   "metadata": {},
   "source": [
    "Аналогично для столбца `total_income` и словаря `median_income`. Ключ - категория занятости, значение - медиана дохода: "
   ]
  },
  {
   "cell_type": "code",
   "execution_count": 13,
   "metadata": {},
   "outputs": [
    {
     "data": {
      "text/plain": [
       "{'безработный': 131339.7516762103,\n",
       " 'в декрете': 53829.13072905995,\n",
       " 'госслужащий': 150447.9352830068,\n",
       " 'компаньон': 172357.95096577113,\n",
       " 'пенсионер': 118514.48641164352,\n",
       " 'предприниматель': 499163.1449470857,\n",
       " 'сотрудник': 142594.39684740017,\n",
       " 'студент': 98201.62531401133}"
      ]
     },
     "execution_count": 13,
     "metadata": {},
     "output_type": "execute_result"
    }
   ],
   "source": [
    "# создание словаря медианных значений дохода 'median_income'\n",
    "median_income = create_median_income_dict('total_income')\n",
    "\n",
    "#вывод переменной 'median_income'\n",
    "median_income"
   ]
  },
  {
   "cell_type": "markdown",
   "metadata": {},
   "source": [
    "Заменим пропуски в столбце `days_employed` таблицы `data`. Убедимся, что их больше не осталось:"
   ]
  },
  {
   "cell_type": "code",
   "execution_count": 14,
   "metadata": {},
   "outputs": [
    {
     "data": {
      "text/plain": [
       "0"
      ]
     },
     "execution_count": 14,
     "metadata": {},
     "output_type": "execute_result"
    }
   ],
   "source": [
    "# замена пропущенных значений столбца 'days_employed' методом map()\n",
    "# с использованием словаря 'median_employed' в качестве значений для подстановки\n",
    "data.loc[data['days_employed'].isna(), 'days_employed'] = data['income_type'].map(median_employed)\n",
    "\n",
    "# проверка - определение пропущенных значений в столбце\n",
    "# 'days_employed' методом isna() и их количества методом sum()\n",
    "data['days_employed'].isna().sum()"
   ]
  },
  {
   "cell_type": "markdown",
   "metadata": {},
   "source": [
    "То же самое для столбца `total_income`:"
   ]
  },
  {
   "cell_type": "code",
   "execution_count": 15,
   "metadata": {},
   "outputs": [
    {
     "data": {
      "text/plain": [
       "0"
      ]
     },
     "execution_count": 15,
     "metadata": {},
     "output_type": "execute_result"
    }
   ],
   "source": [
    "# замена пропущенных значений столбца 'total_income' методом map()\n",
    "# с использованием словаря 'median_income' в качестве значений для подстановки\n",
    "data.loc[data['total_income'].isna(), 'total_income'] = data['income_type'].map(median_income)\n",
    "\n",
    "# проверка - определение пропущенных значений в столбце\n",
    "# 'total_income' методом isna() и их количества методом sum()\n",
    "data['total_income'].isna().sum()"
   ]
  },
  {
   "cell_type": "markdown",
   "metadata": {},
   "source": [
    "Продолжим искать пропуски в данных. Попробуем обнаружить скрытые несостыковки в числовых столбцах - они могли быть заполнены ранее некорректными дефолтными значениями или возникнуть из-за технических проблем."
   ]
  },
  {
   "cell_type": "markdown",
   "metadata": {},
   "source": [
    "Проверим столбец `dob_years` — возраст клиента в годах:"
   ]
  },
  {
   "cell_type": "code",
   "execution_count": 16,
   "metadata": {},
   "outputs": [
    {
     "data": {
      "text/plain": [
       "35    617\n",
       "40    609\n",
       "41    607\n",
       "34    603\n",
       "38    598\n",
       "42    597\n",
       "33    581\n",
       "39    573\n",
       "31    560\n",
       "36    555\n",
       "44    547\n",
       "29    545\n",
       "30    540\n",
       "48    538\n",
       "37    537\n",
       "50    514\n",
       "43    513\n",
       "32    510\n",
       "49    508\n",
       "28    503\n",
       "45    497\n",
       "27    493\n",
       "56    487\n",
       "52    484\n",
       "47    480\n",
       "54    479\n",
       "46    475\n",
       "58    461\n",
       "57    460\n",
       "53    459\n",
       "51    448\n",
       "59    444\n",
       "55    443\n",
       "26    408\n",
       "60    377\n",
       "25    357\n",
       "61    355\n",
       "62    352\n",
       "63    269\n",
       "64    265\n",
       "24    264\n",
       "23    254\n",
       "65    194\n",
       "66    183\n",
       "22    183\n",
       "67    167\n",
       "21    111\n",
       "0     101\n",
       "68     99\n",
       "69     85\n",
       "70     65\n",
       "71     58\n",
       "20     51\n",
       "72     33\n",
       "19     14\n",
       "73      8\n",
       "74      6\n",
       "75      1\n",
       "Name: dob_years, dtype: int64"
      ]
     },
     "execution_count": 16,
     "metadata": {},
     "output_type": "execute_result"
    }
   ],
   "source": [
    "# получение уникальных значений по столбцу 'dob_years'  \n",
    "# и их количества в выборке методом value_counts()\n",
    "data['dob_years'].value_counts()"
   ]
  },
  {
   "cell_type": "markdown",
   "metadata": {},
   "source": [
    "Видим возраст клиента со значением `0` - это явная ошибка. Исправим - заполним пропуски медианным значением по категориям занятости."
   ]
  },
  {
   "cell_type": "code",
   "execution_count": 17,
   "metadata": {},
   "outputs": [
    {
     "data": {
      "text/plain": [
       "{'безработный': 38.0,\n",
       " 'в декрете': 39.0,\n",
       " 'госслужащий': 40.0,\n",
       " 'компаньон': 39.0,\n",
       " 'пенсионер': 60.0,\n",
       " 'предприниматель': 42.5,\n",
       " 'сотрудник': 39.0,\n",
       " 'студент': 22.0}"
      ]
     },
     "execution_count": 17,
     "metadata": {},
     "output_type": "execute_result"
    }
   ],
   "source": [
    "# создание словаря медианных значений дохода 'median_age'\n",
    "median_age = create_median_income_dict('dob_years')\n",
    "\n",
    "#вывод перемнной 'median_income'\n",
    "median_age"
   ]
  },
  {
   "cell_type": "code",
   "execution_count": 18,
   "metadata": {
    "scrolled": false
   },
   "outputs": [
    {
     "data": {
      "text/plain": [
       "children            0\n",
       "days_employed       0\n",
       "dob_years           0\n",
       "education           0\n",
       "education_id        0\n",
       "family_status       0\n",
       "family_status_id    0\n",
       "gender              0\n",
       "income_type         0\n",
       "debt                0\n",
       "total_income        0\n",
       "purpose             0\n",
       "dtype: int64"
      ]
     },
     "execution_count": 18,
     "metadata": {},
     "output_type": "execute_result"
    }
   ],
   "source": [
    "# замена ошибочных значений столбца 'dob_years' методом map()\n",
    "# с использованием словаря 'median_age' в качестве значений для подстановки\n",
    "data.loc[data['dob_years'] == 0, 'dob_years'] = data['income_type'].map(median_age)\n",
    "\n",
    "# проверка - получение количества строк таблицы data с \n",
    "# нулевым значением столбца 'dob_years' методом count()\n",
    "data[data['dob_years'] == 0].count()"
   ]
  },
  {
   "cell_type": "markdown",
   "metadata": {},
   "source": [
    "Проверим также на скрытые пропуски столбец `total_income`:"
   ]
  },
  {
   "cell_type": "code",
   "execution_count": 19,
   "metadata": {
    "scrolled": false
   },
   "outputs": [
    {
     "data": {
      "text/plain": [
       "children            0\n",
       "days_employed       0\n",
       "dob_years           0\n",
       "education           0\n",
       "education_id        0\n",
       "family_status       0\n",
       "family_status_id    0\n",
       "gender              0\n",
       "income_type         0\n",
       "debt                0\n",
       "total_income        0\n",
       "purpose             0\n",
       "dtype: int64"
      ]
     },
     "execution_count": 19,
     "metadata": {},
     "output_type": "execute_result"
    }
   ],
   "source": [
    "# получение количества строк таблицы data с нулевым\n",
    "# значением столбца 'total_income' = методом count()\n",
    "data[data['total_income'] == 0].count()"
   ]
  },
  {
   "cell_type": "markdown",
   "metadata": {},
   "source": [
    "И поле `days_employed`:"
   ]
  },
  {
   "cell_type": "code",
   "execution_count": 20,
   "metadata": {
    "scrolled": false
   },
   "outputs": [
    {
     "data": {
      "text/plain": [
       "children            0\n",
       "days_employed       0\n",
       "dob_years           0\n",
       "education           0\n",
       "education_id        0\n",
       "family_status       0\n",
       "family_status_id    0\n",
       "gender              0\n",
       "income_type         0\n",
       "debt                0\n",
       "total_income        0\n",
       "purpose             0\n",
       "dtype: int64"
      ]
     },
     "execution_count": 20,
     "metadata": {},
     "output_type": "execute_result"
    }
   ],
   "source": [
    "# получение количества строк таблицы data с нулевым\n",
    "# значением столбца 'days_employed' = методом count()\n",
    "data[data['days_employed'] == 0].count()"
   ]
  },
  {
   "cell_type": "markdown",
   "metadata": {},
   "source": [
    "Нулевые и `NaN` значения в числовых данных исправлены. Но это еще не значит, что все значения, представленные в столбцах, корректны."
   ]
  },
  {
   "cell_type": "markdown",
   "metadata": {},
   "source": [
    "Проверим на отрицательные значения столбец `total_income`:"
   ]
  },
  {
   "cell_type": "code",
   "execution_count": 21,
   "metadata": {},
   "outputs": [
    {
     "data": {
      "text/plain": [
       "children            0\n",
       "days_employed       0\n",
       "dob_years           0\n",
       "education           0\n",
       "education_id        0\n",
       "family_status       0\n",
       "family_status_id    0\n",
       "gender              0\n",
       "income_type         0\n",
       "debt                0\n",
       "total_income        0\n",
       "purpose             0\n",
       "dtype: int64"
      ]
     },
     "execution_count": 21,
     "metadata": {},
     "output_type": "execute_result"
    }
   ],
   "source": [
    "# получение количества строк таблицы data со значением\n",
    "# меньше нуля столбца 'total_income' = методом count()\n",
    "data[data['total_income'] < 0].count()"
   ]
  },
  {
   "cell_type": "markdown",
   "metadata": {},
   "source": [
    "Отрицательные значения отсутствуют. Также проверим на корректность поле `children`:"
   ]
  },
  {
   "cell_type": "code",
   "execution_count": 22,
   "metadata": {
    "scrolled": true
   },
   "outputs": [
    {
     "data": {
      "text/plain": [
       " 0     14149\n",
       " 1      4818\n",
       " 2      2055\n",
       " 3       330\n",
       " 20       76\n",
       "-1        47\n",
       " 4        41\n",
       " 5         9\n",
       "Name: children, dtype: int64"
      ]
     },
     "execution_count": 22,
     "metadata": {},
     "output_type": "execute_result"
    }
   ],
   "source": [
    "# получение уникальных значений по столбцу 'children'  \n",
    "# и их количества в выборке методом value_counts()\n",
    "data['children'].value_counts()"
   ]
  },
  {
   "cell_type": "markdown",
   "metadata": {},
   "source": [
    "Наблюдаем выбросы в виде отрицательного и слишком большого количества детей. Данные артефакты могли появиться вследствие ранней передобработки данных в этом столбце, так как `-1` - распространенная \"заглушка\" для нулевых значений, значение `20` также похоже на дефолтное.\n",
    "\n",
    "Поэтому предположим, что в случае с `-1` и `20` детьми подразумевалось `0`. \n",
    "\n",
    "Произведем замену значений:"
   ]
  },
  {
   "cell_type": "code",
   "execution_count": 23,
   "metadata": {},
   "outputs": [
    {
     "data": {
      "text/plain": [
       "0    14272\n",
       "1     4818\n",
       "2     2055\n",
       "3      330\n",
       "4       41\n",
       "5        9\n",
       "Name: children, dtype: int64"
      ]
     },
     "execution_count": 23,
     "metadata": {},
     "output_type": "execute_result"
    }
   ],
   "source": [
    "# замена аномальных значений в столбце 'children' методом 'replace()'\n",
    "data['children'] = data['children'].replace({-1: 0, 20: 0})\n",
    "\n",
    "# проверка - получение уникальных значений по столбцу 'children'  \n",
    "# и их количества в выборке методом value_counts()\n",
    "data['children'].value_counts()"
   ]
  },
  {
   "cell_type": "markdown",
   "metadata": {},
   "source": [
    "**Вывод**"
   ]
  },
  {
   "cell_type": "markdown",
   "metadata": {},
   "source": [
    "В нашем случае имеет место *MAR (Missing At Random)*  - дословно \"отсутствует случайно\". \n",
    "При *MAR* пропуск может быть заполнен на основе имеющейся в наборе данных информации. В данном разделе заполнение явных и скрытых пропусков проводилось медианными значениями по категориям для сохранения репрезентативности числовых характеристик выборки."
   ]
  },
  {
   "cell_type": "markdown",
   "metadata": {},
   "source": [
    "### Замена типа данных"
   ]
  },
  {
   "cell_type": "markdown",
   "metadata": {},
   "source": [
    "После замены нулевых значений возраста медианными столбец `dob_years` приобрел вещественный тип данных:"
   ]
  },
  {
   "cell_type": "code",
   "execution_count": 24,
   "metadata": {},
   "outputs": [
    {
     "data": {
      "text/plain": [
       "dtype('float64')"
      ]
     },
     "execution_count": 24,
     "metadata": {},
     "output_type": "execute_result"
    }
   ],
   "source": [
    "# получение типа столбца 'dob_years' методом dtypes()\n",
    "data['dob_years'].dtypes"
   ]
  },
  {
   "cell_type": "markdown",
   "metadata": {},
   "source": [
    "Данный тип хранения значений возраста не совсем корректен и в последующем будет усложнять процесс анализа показателей. Вернем столбцу первоначальный тип:"
   ]
  },
  {
   "cell_type": "code",
   "execution_count": 25,
   "metadata": {},
   "outputs": [],
   "source": [
    "# приведение столбца 'dob_years' методом astype()\n",
    "# с аргументом 'int' к целочисленному типу\n",
    "data['dob_years'] = data['dob_years'].astype(int)"
   ]
  },
  {
   "cell_type": "markdown",
   "metadata": {},
   "source": [
    "Значения в полях `total_income` и `days_employed` также имеют вещественный тип `float64`. Для удобства и возрастания скорости расчетов приведем к целочисленному `int`:"
   ]
  },
  {
   "cell_type": "code",
   "execution_count": 26,
   "metadata": {},
   "outputs": [],
   "source": [
    "# приведение столбца 'total_income' методом astype()\n",
    "# с аргументом 'int' к целочисленному типу\n",
    "data['total_income'] = data['total_income'].astype(int)"
   ]
  },
  {
   "cell_type": "markdown",
   "metadata": {},
   "source": [
    "Аналогичные действия проведем и со столбцом `days_employed`:"
   ]
  },
  {
   "cell_type": "code",
   "execution_count": 27,
   "metadata": {},
   "outputs": [],
   "source": [
    "# приведение столбца 'days_employed' методом astype()\n",
    "# с аргументом 'int' к целочисленному типу\n",
    "data['days_employed'] = data['days_employed'].astype(int)"
   ]
  },
  {
   "cell_type": "markdown",
   "metadata": {},
   "source": [
    "Посмотрим на получившийся результат:"
   ]
  },
  {
   "cell_type": "code",
   "execution_count": 28,
   "metadata": {
    "scrolled": false
   },
   "outputs": [
    {
     "data": {
      "text/html": [
       "<div>\n",
       "<style scoped>\n",
       "    .dataframe tbody tr th:only-of-type {\n",
       "        vertical-align: middle;\n",
       "    }\n",
       "\n",
       "    .dataframe tbody tr th {\n",
       "        vertical-align: top;\n",
       "    }\n",
       "\n",
       "    .dataframe thead th {\n",
       "        text-align: right;\n",
       "    }\n",
       "</style>\n",
       "<table border=\"1\" class=\"dataframe\">\n",
       "  <thead>\n",
       "    <tr style=\"text-align: right;\">\n",
       "      <th></th>\n",
       "      <th>children</th>\n",
       "      <th>days_employed</th>\n",
       "      <th>dob_years</th>\n",
       "      <th>education</th>\n",
       "      <th>education_id</th>\n",
       "      <th>family_status</th>\n",
       "      <th>family_status_id</th>\n",
       "      <th>gender</th>\n",
       "      <th>income_type</th>\n",
       "      <th>debt</th>\n",
       "      <th>total_income</th>\n",
       "      <th>purpose</th>\n",
       "    </tr>\n",
       "  </thead>\n",
       "  <tbody>\n",
       "    <tr>\n",
       "      <td>0</td>\n",
       "      <td>1</td>\n",
       "      <td>8437</td>\n",
       "      <td>42</td>\n",
       "      <td>высшее</td>\n",
       "      <td>0</td>\n",
       "      <td>женат / замужем</td>\n",
       "      <td>0</td>\n",
       "      <td>F</td>\n",
       "      <td>сотрудник</td>\n",
       "      <td>0</td>\n",
       "      <td>253875</td>\n",
       "      <td>покупка жилья</td>\n",
       "    </tr>\n",
       "    <tr>\n",
       "      <td>1</td>\n",
       "      <td>1</td>\n",
       "      <td>4024</td>\n",
       "      <td>36</td>\n",
       "      <td>среднее</td>\n",
       "      <td>1</td>\n",
       "      <td>женат / замужем</td>\n",
       "      <td>0</td>\n",
       "      <td>F</td>\n",
       "      <td>сотрудник</td>\n",
       "      <td>0</td>\n",
       "      <td>112080</td>\n",
       "      <td>приобретение автомобиля</td>\n",
       "    </tr>\n",
       "    <tr>\n",
       "      <td>2</td>\n",
       "      <td>0</td>\n",
       "      <td>5623</td>\n",
       "      <td>33</td>\n",
       "      <td>Среднее</td>\n",
       "      <td>1</td>\n",
       "      <td>женат / замужем</td>\n",
       "      <td>0</td>\n",
       "      <td>M</td>\n",
       "      <td>сотрудник</td>\n",
       "      <td>0</td>\n",
       "      <td>145885</td>\n",
       "      <td>покупка жилья</td>\n",
       "    </tr>\n",
       "    <tr>\n",
       "      <td>3</td>\n",
       "      <td>3</td>\n",
       "      <td>4124</td>\n",
       "      <td>32</td>\n",
       "      <td>среднее</td>\n",
       "      <td>1</td>\n",
       "      <td>женат / замужем</td>\n",
       "      <td>0</td>\n",
       "      <td>M</td>\n",
       "      <td>сотрудник</td>\n",
       "      <td>0</td>\n",
       "      <td>267628</td>\n",
       "      <td>дополнительное образование</td>\n",
       "    </tr>\n",
       "    <tr>\n",
       "      <td>4</td>\n",
       "      <td>0</td>\n",
       "      <td>14177</td>\n",
       "      <td>53</td>\n",
       "      <td>среднее</td>\n",
       "      <td>1</td>\n",
       "      <td>гражданский брак</td>\n",
       "      <td>1</td>\n",
       "      <td>F</td>\n",
       "      <td>пенсионер</td>\n",
       "      <td>0</td>\n",
       "      <td>158616</td>\n",
       "      <td>сыграть свадьбу</td>\n",
       "    </tr>\n",
       "  </tbody>\n",
       "</table>\n",
       "</div>"
      ],
      "text/plain": [
       "   children  days_employed  dob_years education  education_id  \\\n",
       "0         1           8437         42    высшее             0   \n",
       "1         1           4024         36   среднее             1   \n",
       "2         0           5623         33   Среднее             1   \n",
       "3         3           4124         32   среднее             1   \n",
       "4         0          14177         53   среднее             1   \n",
       "\n",
       "      family_status  family_status_id gender income_type  debt  total_income  \\\n",
       "0   женат / замужем                 0      F   сотрудник     0        253875   \n",
       "1   женат / замужем                 0      F   сотрудник     0        112080   \n",
       "2   женат / замужем                 0      M   сотрудник     0        145885   \n",
       "3   женат / замужем                 0      M   сотрудник     0        267628   \n",
       "4  гражданский брак                 1      F   пенсионер     0        158616   \n",
       "\n",
       "                      purpose  \n",
       "0               покупка жилья  \n",
       "1     приобретение автомобиля  \n",
       "2               покупка жилья  \n",
       "3  дополнительное образование  \n",
       "4             сыграть свадьбу  "
      ]
     },
     "execution_count": 28,
     "metadata": {},
     "output_type": "execute_result"
    }
   ],
   "source": [
    "# получение первых 5 строк таблицы data методом head()\n",
    "data.head()"
   ]
  },
  {
   "cell_type": "markdown",
   "metadata": {},
   "source": [
    "**Вывод**"
   ]
  },
  {
   "cell_type": "markdown",
   "metadata": {},
   "source": [
    "Приведение вещественного типа `float64` к целочисленному `int` в нашем случае исключает появление пропусков значений  `NaN` в столбце, ускоряет расчеты и придает лаконичный вид данным."
   ]
  },
  {
   "cell_type": "markdown",
   "metadata": {},
   "source": [
    "### Обработка дубликатов"
   ]
  },
  {
   "cell_type": "markdown",
   "metadata": {},
   "source": [
    "Определим количество дубликатов в таблице `data` и сохраним это значение в переменной `initial_duplicated_sum`:"
   ]
  },
  {
   "cell_type": "code",
   "execution_count": 29,
   "metadata": {
    "scrolled": true
   },
   "outputs": [
    {
     "data": {
      "text/plain": [
       "54"
      ]
     },
     "execution_count": 29,
     "metadata": {},
     "output_type": "execute_result"
    }
   ],
   "source": [
    "# определение дубликатов в таблице data методом duplicated() и их количества\n",
    "# методом sum() с сохранением в переменной 'initial_duplicated_sum'\n",
    "initial_duplicated_sum = data.duplicated().sum()\n",
    "\n",
    "# вывод переменной 'initial_duplicated_sum'\n",
    "initial_duplicated_sum"
   ]
  },
  {
   "cell_type": "markdown",
   "metadata": {},
   "source": [
    "Как было зачемено ранее, значения полей в столбце `education` не приведены к нижнему регистру. Подсчитаем количество уникальных значений в этом поле:"
   ]
  },
  {
   "cell_type": "code",
   "execution_count": 30,
   "metadata": {},
   "outputs": [
    {
     "data": {
      "text/plain": [
       "среднее                13750\n",
       "высшее                  4718\n",
       "СРЕДНЕЕ                  772\n",
       "Среднее                  711\n",
       "неоконченное высшее      668\n",
       "ВЫСШЕЕ                   274\n",
       "Высшее                   268\n",
       "начальное                250\n",
       "Неоконченное высшее       47\n",
       "НЕОКОНЧЕННОЕ ВЫСШЕЕ       29\n",
       "НАЧАЛЬНОЕ                 17\n",
       "Начальное                 15\n",
       "ученая степень             4\n",
       "Ученая степень             1\n",
       "УЧЕНАЯ СТЕПЕНЬ             1\n",
       "Name: education, dtype: int64"
      ]
     },
     "execution_count": 30,
     "metadata": {},
     "output_type": "execute_result"
    }
   ],
   "source": [
    "# получение уникальных значений по столбцу 'education'  \n",
    "# и их количества в выборке методом value_counts()\n",
    "data['education'].value_counts()"
   ]
  },
  {
   "cell_type": "markdown",
   "metadata": {},
   "source": [
    "Действительно, значения в разном регистре дублируют друг друга. Избавимся от дубликатов приведением строк к нижнему регистру:"
   ]
  },
  {
   "cell_type": "code",
   "execution_count": 31,
   "metadata": {},
   "outputs": [
    {
     "data": {
      "text/plain": [
       "среднее                15233\n",
       "высшее                  5260\n",
       "неоконченное высшее      744\n",
       "начальное                282\n",
       "ученая степень             6\n",
       "Name: education, dtype: int64"
      ]
     },
     "execution_count": 31,
     "metadata": {},
     "output_type": "execute_result"
    }
   ],
   "source": [
    "# приведение значений в поле 'education' к нижнему\n",
    "# регистру методом str с атрибутом lower()\n",
    "data['education'] = data['education'].str.lower()\n",
    "\n",
    "# проверка - получение уникальных значений по столбцу   \n",
    "# 'education' и их количества в выборке методом value_counts()\n",
    "data['education'].value_counts()"
   ]
  },
  {
   "cell_type": "markdown",
   "metadata": {},
   "source": [
    "Уникальных значений стало меньше - видны четкие категории по виду образования."
   ]
  },
  {
   "cell_type": "markdown",
   "metadata": {},
   "source": [
    "Проверим столбец `family_status`:"
   ]
  },
  {
   "cell_type": "code",
   "execution_count": 32,
   "metadata": {},
   "outputs": [
    {
     "data": {
      "text/plain": [
       "женат / замужем          12380\n",
       "гражданский брак          4177\n",
       "Не женат / не замужем     2813\n",
       "в разводе                 1195\n",
       "вдовец / вдова             960\n",
       "Name: family_status, dtype: int64"
      ]
     },
     "execution_count": 32,
     "metadata": {},
     "output_type": "execute_result"
    }
   ],
   "source": [
    "# получение уникальных значений по столбцу 'family_status'  \n",
    "# и их количества в выборке методом value_counts()\n",
    "data['family_status'].value_counts()"
   ]
  },
  {
   "cell_type": "markdown",
   "metadata": {},
   "source": [
    "Различия в категориальных переменных не видны, но значение поля `Не женат / не замужем` написано с заглавной буквы. Для лаконичности приведем все значения к нижнему регистру:"
   ]
  },
  {
   "cell_type": "code",
   "execution_count": 33,
   "metadata": {},
   "outputs": [
    {
     "data": {
      "text/plain": [
       "женат / замужем          12380\n",
       "гражданский брак          4177\n",
       "не женат / не замужем     2813\n",
       "в разводе                 1195\n",
       "вдовец / вдова             960\n",
       "Name: family_status, dtype: int64"
      ]
     },
     "execution_count": 33,
     "metadata": {},
     "output_type": "execute_result"
    }
   ],
   "source": [
    "# приведение значений в поле 'family_status' к нижнему\n",
    "# регистру методом str с атрибутом lower()\n",
    "data['family_status'] = data['family_status'].str.lower()\n",
    "\n",
    "# проверка - получение уникальных значений по столбцу   \n",
    "# 'education' и их количества в выборке методом value_counts()\n",
    "data['family_status'].value_counts()"
   ]
  },
  {
   "cell_type": "markdown",
   "metadata": {},
   "source": [
    "Значения столбца `income_type` проверялись на уникальность ранее, при определении категорий по типу занятости - артефактов выявлено не было. После проведенных манипуляций еще раз определим количество дубликатов в таблице `data` и сохраним это значение в переменной `later_duplicated_sum`:"
   ]
  },
  {
   "cell_type": "code",
   "execution_count": 34,
   "metadata": {},
   "outputs": [
    {
     "data": {
      "text/plain": [
       "71"
      ]
     },
     "execution_count": 34,
     "metadata": {},
     "output_type": "execute_result"
    }
   ],
   "source": [
    "# определение дубликатов в таблице data методом duplicated() и их количества\n",
    "# методом sum() с сохранением в переменной 'later_duplicated_sum'\n",
    "later_duplicated_sum = data.duplicated().sum()\n",
    "\n",
    "# вывод переменной 'later_duplicated_sum'\n",
    "later_duplicated_sum"
   ]
  },
  {
   "cell_type": "markdown",
   "metadata": {},
   "source": [
    "Сравним переменные `initial_duplicated_sum` и `later_duplicated_sum`:"
   ]
  },
  {
   "cell_type": "code",
   "execution_count": 35,
   "metadata": {},
   "outputs": [
    {
     "name": "stdout",
     "output_type": "stream",
     "text": [
      "Количество дубликатов после приведения строк к нижнему регистру увеличилось на 17\n"
     ]
    }
   ],
   "source": [
    "# сравнение переменных 'initial_duplicated_sum' и 'later_duplicated_sum' \n",
    "# и вывод заключения на экран с помощью конструкции if-elif-else \n",
    "if initial_duplicated_sum < later_duplicated_sum:\n",
    "    print('Количество дубликатов после приведения строк к нижнему регистру увеличилось на',\\\n",
    "         later_duplicated_sum - initial_duplicated_sum)\n",
    "elif initial_duplicated_sum > later_duplicated_sum:\n",
    "    print('Количество дубликатов после приведения строк к нижнему регистру уменьшилось на',\\\n",
    "         initial_duplicated_sum - later_duplicated_sum)\n",
    "else:\n",
    "    print('Количество дубликатов после приведения строк к нижнему регистру не изменилось') "
   ]
  },
  {
   "cell_type": "markdown",
   "metadata": {},
   "source": [
    "Удалим дубликаты в таблице `data`:"
   ]
  },
  {
   "cell_type": "code",
   "execution_count": 36,
   "metadata": {},
   "outputs": [],
   "source": [
    "# удаление дубликатов в таблице data методом drop_duplicates() и сброс индексов методом\n",
    "# reset_index() и значением drop=True (чтобы не создавать столбец со старыми значениями индексов)\n",
    "data = data.drop_duplicates().reset_index(drop=True)"
   ]
  },
  {
   "cell_type": "markdown",
   "metadata": {},
   "source": [
    "**Вывод**"
   ]
  },
  {
   "cell_type": "markdown",
   "metadata": {},
   "source": [
    "Возможных причин появления дубликатов в столбце `education` две: человеческий фактор при внесении заявки на кредит в форму банка, а также возникновение технических проблем - данные могли быть получены из разных систем с разными регистрами представления категориальных переменных. Появление же полностью одинаковых полей в таблице `data` возможно из-за дублирования записей в процессе выгрузки данных. Поиск дубликатов должен производится как специальными методами, так и вручную с учетом регистра, их присутствие в таблице может привести к некорректным результатам исследования."
   ]
  },
  {
   "cell_type": "markdown",
   "metadata": {},
   "source": [
    "### Лемматизация и категоризация данных"
   ]
  },
  {
   "cell_type": "markdown",
   "metadata": {},
   "source": [
    "Как было зачемено ранее, не все словоформы значений в столбце `purpose` (цель получения кредита) приведены к лемме (начальной, словарной форме). Игнорирование данного факта помешает категоризации данных - проверка вхождения опредленных подстрок в строку даст некорректный результат. Убедимся в этом - подсчитаем количество уникальных значений поля `purpose`:"
   ]
  },
  {
   "cell_type": "code",
   "execution_count": 37,
   "metadata": {},
   "outputs": [
    {
     "data": {
      "text/plain": [
       "свадьба                                   791\n",
       "на проведение свадьбы                     768\n",
       "сыграть свадьбу                           765\n",
       "операции с недвижимостью                  675\n",
       "покупка коммерческой недвижимости         661\n",
       "операции с жильем                         652\n",
       "покупка жилья для сдачи                   651\n",
       "операции с коммерческой недвижимостью     650\n",
       "покупка жилья                             646\n",
       "жилье                                     646\n",
       "покупка жилья для семьи                   638\n",
       "строительство собственной недвижимости    635\n",
       "недвижимость                              633\n",
       "операции со своей недвижимостью           627\n",
       "строительство жилой недвижимости          624\n",
       "покупка недвижимости                      621\n",
       "покупка своего жилья                      620\n",
       "строительство недвижимости                619\n",
       "ремонт жилью                              607\n",
       "покупка жилой недвижимости                606\n",
       "на покупку своего автомобиля              505\n",
       "заняться высшим образованием              496\n",
       "автомобиль                                494\n",
       "сделка с подержанным автомобилем          486\n",
       "свой автомобиль                           478\n",
       "автомобили                                478\n",
       "на покупку подержанного автомобиля        478\n",
       "на покупку автомобиля                     471\n",
       "приобретение автомобиля                   461\n",
       "дополнительное образование                460\n",
       "сделка с автомобилем                      455\n",
       "высшее образование                        452\n",
       "образование                               447\n",
       "получение дополнительного образования     446\n",
       "получение образования                     442\n",
       "профильное образование                    436\n",
       "получение высшего образования             426\n",
       "заняться образованием                     408\n",
       "Name: purpose, dtype: int64"
      ]
     },
     "execution_count": 37,
     "metadata": {},
     "output_type": "execute_result"
    }
   ],
   "source": [
    "# получение уникальных значений по столбцу 'purpose'  \n",
    "# и их количества в выборке методом value_counts()\n",
    "data['purpose'].value_counts()"
   ]
  },
  {
   "cell_type": "markdown",
   "metadata": {},
   "source": [
    "Прослеживаются четыре основные категории целей получения кредита:\n",
    "1. недвижимость\n",
    "2. автомобиль\n",
    "3. образование\n",
    "4. свадьба"
   ]
  },
  {
   "cell_type": "markdown",
   "metadata": {},
   "source": [
    "Лемматизируем значения в столбце `purpose` и обозначим категории в новом столбце `type_purpose`, а их id в `type_purpose_id`. Для этого ранее была импортирована библиотека `pymystem3`, которая с помощью метода `lemmatize()` выдает список лемматизированных слов."
   ]
  },
  {
   "cell_type": "markdown",
   "metadata": {},
   "source": [
    "Создадим функцию `create_purpose_category_and_id`, принимающую на вход записи столбца `purpose` с возвратом названий и id категорий на выходе:"
   ]
  },
  {
   "cell_type": "code",
   "execution_count": 38,
   "metadata": {},
   "outputs": [],
   "source": [
    "# создание функции 'create_purpose_category_and_id()' с аргументом 'value'\n",
    "def create_purpose_category_and_id(value):\n",
    "    ''' \n",
    "    Возвращает категорию цели кредита и ее id по лемматизированным значениям 'value'\n",
    "    (вхождении названия категории в список лемм 'purpose_lemm', сформированным методом\n",
    "    lemmatize() для каждой записи):\n",
    "        - 'недвижимость, 0' при нахождении слов 'недвижимость' или 'жилье'\n",
    "        - 'автомобиль, 1' при нахождении слова 'автомобиль'\n",
    "        - 'образование, 2' при нахождении слова 'образование'\n",
    "        - 'свадьба, 3' при нахождении слова 'свадьба' \n",
    "        - 'прочие цели, 4' во всех остальных случаях\n",
    "    '''\n",
    "    purpose_lemm = m.lemmatize(value)\n",
    "    if 'недвижимость' in purpose_lemm:\n",
    "        return pd.Series(['недвижимость', 0])\n",
    "    if 'жилье' in purpose_lemm:\n",
    "        return pd.Series(['недвижимость', 0])\n",
    "    if 'автомобиль' in purpose_lemm:\n",
    "        return pd.Series(['автомобиль', 1])\n",
    "    if 'образование' in purpose_lemm:\n",
    "        return pd.Series(['образование', 2])  \n",
    "    if 'свадьба' in purpose_lemm:\n",
    "        return pd.Series(['свадьба', 3])\n",
    "    return pd.Series(['иные цели', 4])"
   ]
  },
  {
   "cell_type": "markdown",
   "metadata": {},
   "source": [
    "Применим данную функцию к таблице `data` - создадим новые столбцы `purpose_type` (тип цели кредита) и `purpose_type_id` (id категории цели кредита):"
   ]
  },
  {
   "cell_type": "code",
   "execution_count": 39,
   "metadata": {},
   "outputs": [
    {
     "data": {
      "text/html": [
       "<div>\n",
       "<style scoped>\n",
       "    .dataframe tbody tr th:only-of-type {\n",
       "        vertical-align: middle;\n",
       "    }\n",
       "\n",
       "    .dataframe tbody tr th {\n",
       "        vertical-align: top;\n",
       "    }\n",
       "\n",
       "    .dataframe thead th {\n",
       "        text-align: right;\n",
       "    }\n",
       "</style>\n",
       "<table border=\"1\" class=\"dataframe\">\n",
       "  <thead>\n",
       "    <tr style=\"text-align: right;\">\n",
       "      <th></th>\n",
       "      <th>children</th>\n",
       "      <th>days_employed</th>\n",
       "      <th>dob_years</th>\n",
       "      <th>education</th>\n",
       "      <th>education_id</th>\n",
       "      <th>family_status</th>\n",
       "      <th>family_status_id</th>\n",
       "      <th>gender</th>\n",
       "      <th>income_type</th>\n",
       "      <th>debt</th>\n",
       "      <th>total_income</th>\n",
       "      <th>purpose</th>\n",
       "      <th>purpose_type</th>\n",
       "      <th>purpose_type_id</th>\n",
       "    </tr>\n",
       "  </thead>\n",
       "  <tbody>\n",
       "    <tr>\n",
       "      <td>0</td>\n",
       "      <td>1</td>\n",
       "      <td>8437</td>\n",
       "      <td>42</td>\n",
       "      <td>высшее</td>\n",
       "      <td>0</td>\n",
       "      <td>женат / замужем</td>\n",
       "      <td>0</td>\n",
       "      <td>F</td>\n",
       "      <td>сотрудник</td>\n",
       "      <td>0</td>\n",
       "      <td>253875</td>\n",
       "      <td>покупка жилья</td>\n",
       "      <td>недвижимость</td>\n",
       "      <td>0</td>\n",
       "    </tr>\n",
       "    <tr>\n",
       "      <td>1</td>\n",
       "      <td>1</td>\n",
       "      <td>4024</td>\n",
       "      <td>36</td>\n",
       "      <td>среднее</td>\n",
       "      <td>1</td>\n",
       "      <td>женат / замужем</td>\n",
       "      <td>0</td>\n",
       "      <td>F</td>\n",
       "      <td>сотрудник</td>\n",
       "      <td>0</td>\n",
       "      <td>112080</td>\n",
       "      <td>приобретение автомобиля</td>\n",
       "      <td>автомобиль</td>\n",
       "      <td>1</td>\n",
       "    </tr>\n",
       "    <tr>\n",
       "      <td>2</td>\n",
       "      <td>0</td>\n",
       "      <td>5623</td>\n",
       "      <td>33</td>\n",
       "      <td>среднее</td>\n",
       "      <td>1</td>\n",
       "      <td>женат / замужем</td>\n",
       "      <td>0</td>\n",
       "      <td>M</td>\n",
       "      <td>сотрудник</td>\n",
       "      <td>0</td>\n",
       "      <td>145885</td>\n",
       "      <td>покупка жилья</td>\n",
       "      <td>недвижимость</td>\n",
       "      <td>0</td>\n",
       "    </tr>\n",
       "    <tr>\n",
       "      <td>3</td>\n",
       "      <td>3</td>\n",
       "      <td>4124</td>\n",
       "      <td>32</td>\n",
       "      <td>среднее</td>\n",
       "      <td>1</td>\n",
       "      <td>женат / замужем</td>\n",
       "      <td>0</td>\n",
       "      <td>M</td>\n",
       "      <td>сотрудник</td>\n",
       "      <td>0</td>\n",
       "      <td>267628</td>\n",
       "      <td>дополнительное образование</td>\n",
       "      <td>образование</td>\n",
       "      <td>2</td>\n",
       "    </tr>\n",
       "    <tr>\n",
       "      <td>4</td>\n",
       "      <td>0</td>\n",
       "      <td>14177</td>\n",
       "      <td>53</td>\n",
       "      <td>среднее</td>\n",
       "      <td>1</td>\n",
       "      <td>гражданский брак</td>\n",
       "      <td>1</td>\n",
       "      <td>F</td>\n",
       "      <td>пенсионер</td>\n",
       "      <td>0</td>\n",
       "      <td>158616</td>\n",
       "      <td>сыграть свадьбу</td>\n",
       "      <td>свадьба</td>\n",
       "      <td>3</td>\n",
       "    </tr>\n",
       "  </tbody>\n",
       "</table>\n",
       "</div>"
      ],
      "text/plain": [
       "   children  days_employed  dob_years education  education_id  \\\n",
       "0         1           8437         42    высшее             0   \n",
       "1         1           4024         36   среднее             1   \n",
       "2         0           5623         33   среднее             1   \n",
       "3         3           4124         32   среднее             1   \n",
       "4         0          14177         53   среднее             1   \n",
       "\n",
       "      family_status  family_status_id gender income_type  debt  total_income  \\\n",
       "0   женат / замужем                 0      F   сотрудник     0        253875   \n",
       "1   женат / замужем                 0      F   сотрудник     0        112080   \n",
       "2   женат / замужем                 0      M   сотрудник     0        145885   \n",
       "3   женат / замужем                 0      M   сотрудник     0        267628   \n",
       "4  гражданский брак                 1      F   пенсионер     0        158616   \n",
       "\n",
       "                      purpose  purpose_type  purpose_type_id  \n",
       "0               покупка жилья  недвижимость                0  \n",
       "1     приобретение автомобиля    автомобиль                1  \n",
       "2               покупка жилья  недвижимость                0  \n",
       "3  дополнительное образование   образование                2  \n",
       "4             сыграть свадьбу       свадьба                3  "
      ]
     },
     "execution_count": 39,
     "metadata": {},
     "output_type": "execute_result"
    }
   ],
   "source": [
    "# создание столбцов 'purpose_type' и 'purpose_type_id' в таблице data методом\n",
    "# apply() с применением функции create_category_purpose_and_id() к столбцу 'purpose'\n",
    "data[['purpose_type', 'purpose_type_id']] = data['purpose'].apply(create_purpose_category_and_id)\n",
    "\n",
    "# проверка - получение первых 5 строк таблицы data_cut методом head()\n",
    "data.head()"
   ]
  },
  {
   "cell_type": "markdown",
   "metadata": {},
   "source": [
    "Категоризируем клиентов по уровню дохода. Для этого обозначим сами уровни:\n",
    "* нижний квартиль (первые 25% значений уровня дохода) - малоимущий\n",
    "* интерквартильный размах (центральные 50% значений) - средний класс\n",
    "* верхняя квартиль (верхние 25%) - богатый"
   ]
  },
  {
   "cell_type": "markdown",
   "metadata": {},
   "source": [
    "Создадим функцию `create_total_income_type_and_id`, принимающую на вход значения дохода с возвратом названий и id категорий на выходе:"
   ]
  },
  {
   "cell_type": "code",
   "execution_count": 40,
   "metadata": {},
   "outputs": [],
   "source": [
    "# создание функции 'create_total_income_type_and_id()' с аргументом 'value'\n",
    "def create_total_income_type_and_id(value):\n",
    "    ''' \n",
    "    Возвращает категорию клиента по уровню дохода и ее id сравнивая значения 'value'\n",
    "    со значениями квартилей столбца 'total_income', округленных до ближайшего целого\n",
    "    параметром interpolation='nearest':\n",
    "        - 'малоимущий, 2' при доходе меньше первого квартиля\n",
    "        - 'средний класс, 1' при доходе в промежутке интерквартильного размаха\n",
    "        - 'богатый, 0' при доходе выше третьего квартиля\n",
    "    '''\n",
    "    lower_quantile = data['total_income'].quantile(0.25, interpolation='nearest')\n",
    "    upper_quantile = data['total_income'].quantile(0.75, interpolation='nearest')\n",
    "    if value <= lower_quantile:\n",
    "        return pd.Series(['малоимущий', 2])\n",
    "    if value >= upper_quantile:\n",
    "        return pd.Series(['богатый', 0])\n",
    "    return pd.Series(['средний класс', 1])"
   ]
  },
  {
   "cell_type": "markdown",
   "metadata": {},
   "source": [
    "Применим данную функцию к таблице `data` - создадим новые столбцы `total_income_type` (категория дохода) и `total_income_type_id` (id категории дохода):"
   ]
  },
  {
   "cell_type": "code",
   "execution_count": 41,
   "metadata": {},
   "outputs": [],
   "source": [
    "# создание столбцов 'total_income_type' и 'total_income_type_id' в таблице data методом\n",
    "# apply() с применением функции create_total_income_type_and_id() к столбцу 'total_income'\n",
    "data[['total_income_type', 'total_income_type_id']] = data['total_income']\\\n",
    "                                                          .apply(create_total_income_type_and_id)"
   ]
  },
  {
   "cell_type": "markdown",
   "metadata": {},
   "source": [
    "Поместим полученные столбцы после `total_income`:"
   ]
  },
  {
   "cell_type": "code",
   "execution_count": 42,
   "metadata": {},
   "outputs": [
    {
     "data": {
      "text/html": [
       "<div>\n",
       "<style scoped>\n",
       "    .dataframe tbody tr th:only-of-type {\n",
       "        vertical-align: middle;\n",
       "    }\n",
       "\n",
       "    .dataframe tbody tr th {\n",
       "        vertical-align: top;\n",
       "    }\n",
       "\n",
       "    .dataframe thead th {\n",
       "        text-align: right;\n",
       "    }\n",
       "</style>\n",
       "<table border=\"1\" class=\"dataframe\">\n",
       "  <thead>\n",
       "    <tr style=\"text-align: right;\">\n",
       "      <th></th>\n",
       "      <th>children</th>\n",
       "      <th>days_employed</th>\n",
       "      <th>dob_years</th>\n",
       "      <th>education</th>\n",
       "      <th>education_id</th>\n",
       "      <th>family_status</th>\n",
       "      <th>family_status_id</th>\n",
       "      <th>gender</th>\n",
       "      <th>income_type</th>\n",
       "      <th>debt</th>\n",
       "      <th>total_income</th>\n",
       "      <th>total_income_type</th>\n",
       "      <th>total_income_type_id</th>\n",
       "      <th>purpose</th>\n",
       "      <th>purpose_type</th>\n",
       "      <th>purpose_type_id</th>\n",
       "    </tr>\n",
       "  </thead>\n",
       "  <tbody>\n",
       "    <tr>\n",
       "      <td>0</td>\n",
       "      <td>1</td>\n",
       "      <td>8437</td>\n",
       "      <td>42</td>\n",
       "      <td>высшее</td>\n",
       "      <td>0</td>\n",
       "      <td>женат / замужем</td>\n",
       "      <td>0</td>\n",
       "      <td>F</td>\n",
       "      <td>сотрудник</td>\n",
       "      <td>0</td>\n",
       "      <td>253875</td>\n",
       "      <td>богатый</td>\n",
       "      <td>0</td>\n",
       "      <td>покупка жилья</td>\n",
       "      <td>недвижимость</td>\n",
       "      <td>0</td>\n",
       "    </tr>\n",
       "    <tr>\n",
       "      <td>1</td>\n",
       "      <td>1</td>\n",
       "      <td>4024</td>\n",
       "      <td>36</td>\n",
       "      <td>среднее</td>\n",
       "      <td>1</td>\n",
       "      <td>женат / замужем</td>\n",
       "      <td>0</td>\n",
       "      <td>F</td>\n",
       "      <td>сотрудник</td>\n",
       "      <td>0</td>\n",
       "      <td>112080</td>\n",
       "      <td>средний класс</td>\n",
       "      <td>1</td>\n",
       "      <td>приобретение автомобиля</td>\n",
       "      <td>автомобиль</td>\n",
       "      <td>1</td>\n",
       "    </tr>\n",
       "    <tr>\n",
       "      <td>2</td>\n",
       "      <td>0</td>\n",
       "      <td>5623</td>\n",
       "      <td>33</td>\n",
       "      <td>среднее</td>\n",
       "      <td>1</td>\n",
       "      <td>женат / замужем</td>\n",
       "      <td>0</td>\n",
       "      <td>M</td>\n",
       "      <td>сотрудник</td>\n",
       "      <td>0</td>\n",
       "      <td>145885</td>\n",
       "      <td>средний класс</td>\n",
       "      <td>1</td>\n",
       "      <td>покупка жилья</td>\n",
       "      <td>недвижимость</td>\n",
       "      <td>0</td>\n",
       "    </tr>\n",
       "    <tr>\n",
       "      <td>3</td>\n",
       "      <td>3</td>\n",
       "      <td>4124</td>\n",
       "      <td>32</td>\n",
       "      <td>среднее</td>\n",
       "      <td>1</td>\n",
       "      <td>женат / замужем</td>\n",
       "      <td>0</td>\n",
       "      <td>M</td>\n",
       "      <td>сотрудник</td>\n",
       "      <td>0</td>\n",
       "      <td>267628</td>\n",
       "      <td>богатый</td>\n",
       "      <td>0</td>\n",
       "      <td>дополнительное образование</td>\n",
       "      <td>образование</td>\n",
       "      <td>2</td>\n",
       "    </tr>\n",
       "    <tr>\n",
       "      <td>4</td>\n",
       "      <td>0</td>\n",
       "      <td>14177</td>\n",
       "      <td>53</td>\n",
       "      <td>среднее</td>\n",
       "      <td>1</td>\n",
       "      <td>гражданский брак</td>\n",
       "      <td>1</td>\n",
       "      <td>F</td>\n",
       "      <td>пенсионер</td>\n",
       "      <td>0</td>\n",
       "      <td>158616</td>\n",
       "      <td>средний класс</td>\n",
       "      <td>1</td>\n",
       "      <td>сыграть свадьбу</td>\n",
       "      <td>свадьба</td>\n",
       "      <td>3</td>\n",
       "    </tr>\n",
       "  </tbody>\n",
       "</table>\n",
       "</div>"
      ],
      "text/plain": [
       "   children  days_employed  dob_years education  education_id  \\\n",
       "0         1           8437         42    высшее             0   \n",
       "1         1           4024         36   среднее             1   \n",
       "2         0           5623         33   среднее             1   \n",
       "3         3           4124         32   среднее             1   \n",
       "4         0          14177         53   среднее             1   \n",
       "\n",
       "      family_status  family_status_id gender income_type  debt  total_income  \\\n",
       "0   женат / замужем                 0      F   сотрудник     0        253875   \n",
       "1   женат / замужем                 0      F   сотрудник     0        112080   \n",
       "2   женат / замужем                 0      M   сотрудник     0        145885   \n",
       "3   женат / замужем                 0      M   сотрудник     0        267628   \n",
       "4  гражданский брак                 1      F   пенсионер     0        158616   \n",
       "\n",
       "  total_income_type  total_income_type_id                     purpose  \\\n",
       "0           богатый                     0               покупка жилья   \n",
       "1     средний класс                     1     приобретение автомобиля   \n",
       "2     средний класс                     1               покупка жилья   \n",
       "3           богатый                     0  дополнительное образование   \n",
       "4     средний класс                     1             сыграть свадьбу   \n",
       "\n",
       "   purpose_type  purpose_type_id  \n",
       "0  недвижимость                0  \n",
       "1    автомобиль                1  \n",
       "2  недвижимость                0  \n",
       "3   образование                2  \n",
       "4       свадьба                3  "
      ]
     },
     "execution_count": 42,
     "metadata": {},
     "output_type": "execute_result"
    }
   ],
   "source": [
    "# размещение столбца 'total_income_type' в таблице data после столбца\n",
    "# 'total_income' методами insert() (вставка) и pop() (извлечение)\n",
    "data.insert(data.columns.get_loc('total_income')+1,'total_income_type',\\\n",
    "            data.pop('total_income_type'))\n",
    "\n",
    "# размещение столбца 'total_income_type_id' в таблице data после столбца\n",
    "# 'total_income_type' методами insert() (вставка) и pop() (извлечение)\n",
    "data.insert(data.columns.get_loc('total_income_type')+1,'total_income_type_id',\\\n",
    "            data.pop('total_income_type_id'))\n",
    "\n",
    "# проверка - получение первых 5 строк таблицы data_cut методом head()\n",
    "data.head()"
   ]
  },
  {
   "cell_type": "markdown",
   "metadata": {},
   "source": [
    "Классифицируем по типу значения в столбце `income_type`. Для этого создадим словарь `income_type_dict_insert`, где ключи - типы занятости столбца `income_type`, значения - id категорий по типам занятости:"
   ]
  },
  {
   "cell_type": "code",
   "execution_count": 43,
   "metadata": {},
   "outputs": [],
   "source": [
    "# создание словаря 'income_type_dict_insert'\n",
    "income_type_dict_insert = {'сотрудник': 0,\n",
    "                           'пенсионер': 1,\n",
    "                           'компаньон': 2,\n",
    "                           'госслужащий': 3,\n",
    "                           'безработный': 4,\n",
    "                           'предприниматель': 5,\n",
    "                           'студент': 6,\n",
    "                           'в декрете': 7}"
   ]
  },
  {
   "cell_type": "markdown",
   "metadata": {},
   "source": [
    "В таблице `data` создадим новый столбец `income_type_id` (id типа занятости) и расположим его после `income_type`:"
   ]
  },
  {
   "cell_type": "code",
   "execution_count": 44,
   "metadata": {
    "scrolled": false
   },
   "outputs": [
    {
     "data": {
      "text/html": [
       "<div>\n",
       "<style scoped>\n",
       "    .dataframe tbody tr th:only-of-type {\n",
       "        vertical-align: middle;\n",
       "    }\n",
       "\n",
       "    .dataframe tbody tr th {\n",
       "        vertical-align: top;\n",
       "    }\n",
       "\n",
       "    .dataframe thead th {\n",
       "        text-align: right;\n",
       "    }\n",
       "</style>\n",
       "<table border=\"1\" class=\"dataframe\">\n",
       "  <thead>\n",
       "    <tr style=\"text-align: right;\">\n",
       "      <th></th>\n",
       "      <th>children</th>\n",
       "      <th>days_employed</th>\n",
       "      <th>dob_years</th>\n",
       "      <th>education</th>\n",
       "      <th>education_id</th>\n",
       "      <th>family_status</th>\n",
       "      <th>family_status_id</th>\n",
       "      <th>gender</th>\n",
       "      <th>income_type</th>\n",
       "      <th>income_type_id</th>\n",
       "      <th>debt</th>\n",
       "      <th>total_income</th>\n",
       "      <th>total_income_type</th>\n",
       "      <th>total_income_type_id</th>\n",
       "      <th>purpose</th>\n",
       "      <th>purpose_type</th>\n",
       "      <th>purpose_type_id</th>\n",
       "    </tr>\n",
       "  </thead>\n",
       "  <tbody>\n",
       "    <tr>\n",
       "      <td>0</td>\n",
       "      <td>1</td>\n",
       "      <td>8437</td>\n",
       "      <td>42</td>\n",
       "      <td>высшее</td>\n",
       "      <td>0</td>\n",
       "      <td>женат / замужем</td>\n",
       "      <td>0</td>\n",
       "      <td>F</td>\n",
       "      <td>сотрудник</td>\n",
       "      <td>0</td>\n",
       "      <td>0</td>\n",
       "      <td>253875</td>\n",
       "      <td>богатый</td>\n",
       "      <td>0</td>\n",
       "      <td>покупка жилья</td>\n",
       "      <td>недвижимость</td>\n",
       "      <td>0</td>\n",
       "    </tr>\n",
       "    <tr>\n",
       "      <td>1</td>\n",
       "      <td>1</td>\n",
       "      <td>4024</td>\n",
       "      <td>36</td>\n",
       "      <td>среднее</td>\n",
       "      <td>1</td>\n",
       "      <td>женат / замужем</td>\n",
       "      <td>0</td>\n",
       "      <td>F</td>\n",
       "      <td>сотрудник</td>\n",
       "      <td>0</td>\n",
       "      <td>0</td>\n",
       "      <td>112080</td>\n",
       "      <td>средний класс</td>\n",
       "      <td>1</td>\n",
       "      <td>приобретение автомобиля</td>\n",
       "      <td>автомобиль</td>\n",
       "      <td>1</td>\n",
       "    </tr>\n",
       "    <tr>\n",
       "      <td>2</td>\n",
       "      <td>0</td>\n",
       "      <td>5623</td>\n",
       "      <td>33</td>\n",
       "      <td>среднее</td>\n",
       "      <td>1</td>\n",
       "      <td>женат / замужем</td>\n",
       "      <td>0</td>\n",
       "      <td>M</td>\n",
       "      <td>сотрудник</td>\n",
       "      <td>0</td>\n",
       "      <td>0</td>\n",
       "      <td>145885</td>\n",
       "      <td>средний класс</td>\n",
       "      <td>1</td>\n",
       "      <td>покупка жилья</td>\n",
       "      <td>недвижимость</td>\n",
       "      <td>0</td>\n",
       "    </tr>\n",
       "    <tr>\n",
       "      <td>3</td>\n",
       "      <td>3</td>\n",
       "      <td>4124</td>\n",
       "      <td>32</td>\n",
       "      <td>среднее</td>\n",
       "      <td>1</td>\n",
       "      <td>женат / замужем</td>\n",
       "      <td>0</td>\n",
       "      <td>M</td>\n",
       "      <td>сотрудник</td>\n",
       "      <td>0</td>\n",
       "      <td>0</td>\n",
       "      <td>267628</td>\n",
       "      <td>богатый</td>\n",
       "      <td>0</td>\n",
       "      <td>дополнительное образование</td>\n",
       "      <td>образование</td>\n",
       "      <td>2</td>\n",
       "    </tr>\n",
       "    <tr>\n",
       "      <td>4</td>\n",
       "      <td>0</td>\n",
       "      <td>14177</td>\n",
       "      <td>53</td>\n",
       "      <td>среднее</td>\n",
       "      <td>1</td>\n",
       "      <td>гражданский брак</td>\n",
       "      <td>1</td>\n",
       "      <td>F</td>\n",
       "      <td>пенсионер</td>\n",
       "      <td>1</td>\n",
       "      <td>0</td>\n",
       "      <td>158616</td>\n",
       "      <td>средний класс</td>\n",
       "      <td>1</td>\n",
       "      <td>сыграть свадьбу</td>\n",
       "      <td>свадьба</td>\n",
       "      <td>3</td>\n",
       "    </tr>\n",
       "  </tbody>\n",
       "</table>\n",
       "</div>"
      ],
      "text/plain": [
       "   children  days_employed  dob_years education  education_id  \\\n",
       "0         1           8437         42    высшее             0   \n",
       "1         1           4024         36   среднее             1   \n",
       "2         0           5623         33   среднее             1   \n",
       "3         3           4124         32   среднее             1   \n",
       "4         0          14177         53   среднее             1   \n",
       "\n",
       "      family_status  family_status_id gender income_type  income_type_id  \\\n",
       "0   женат / замужем                 0      F   сотрудник               0   \n",
       "1   женат / замужем                 0      F   сотрудник               0   \n",
       "2   женат / замужем                 0      M   сотрудник               0   \n",
       "3   женат / замужем                 0      M   сотрудник               0   \n",
       "4  гражданский брак                 1      F   пенсионер               1   \n",
       "\n",
       "   debt  total_income total_income_type  total_income_type_id  \\\n",
       "0     0        253875           богатый                     0   \n",
       "1     0        112080     средний класс                     1   \n",
       "2     0        145885     средний класс                     1   \n",
       "3     0        267628           богатый                     0   \n",
       "4     0        158616     средний класс                     1   \n",
       "\n",
       "                      purpose  purpose_type  purpose_type_id  \n",
       "0               покупка жилья  недвижимость                0  \n",
       "1     приобретение автомобиля    автомобиль                1  \n",
       "2               покупка жилья  недвижимость                0  \n",
       "3  дополнительное образование   образование                2  \n",
       "4             сыграть свадьбу       свадьба                3  "
      ]
     },
     "execution_count": 44,
     "metadata": {},
     "output_type": "execute_result"
    }
   ],
   "source": [
    "# создание столбца 'income_type_id' в таблице data методом map() с использованием\n",
    "# словаря 'income_type_dict_insert' в качестве значений для подстановки\n",
    "data['income_type_id'] = data['income_type'].map(income_type_dict_insert)\n",
    "\n",
    "# размещение столбца 'income_type_id' в таблице data после столбца\n",
    "# 'income_type' методами insert() (вставка) и pop() (извлечение)\n",
    "data.insert(data.columns.get_loc('income_type')+1,'income_type_id',\\\n",
    "            data.pop('income_type_id'))\n",
    "\n",
    "# проверка - получение первых 5 строк таблицы data методом head()\n",
    "data.head()"
   ]
  },
  {
   "cell_type": "markdown",
   "metadata": {},
   "source": [
    "Также классифицируем по типу значения в столбце `children`. Для этого создадим создадим функцию `create_children_type_and_id`, принимающую на вход записи столбца `children` с возвратом названий и id категорий на выходе:"
   ]
  },
  {
   "cell_type": "code",
   "execution_count": 45,
   "metadata": {},
   "outputs": [],
   "source": [
    "# создание функции 'create_children_type_and_id()' с аргументом 'value'\n",
    "def create_children_type_and_id(value):\n",
    "    ''' \n",
    "    Возвращает категорию клиента по количеству детей и ее id сравнивая \n",
    "    значения 'value' по условию:\n",
    "        - 'бездетный, 0' при отсутствии детей\n",
    "        - 'малодетный, 1' при наличии одного-двух детей\n",
    "        - 'многодетный, 2' при наличии более 3 детей\n",
    "    '''\n",
    "    if value == 0:\n",
    "        return pd.Series(['бездетный', 1])\n",
    "    if value >= 3:\n",
    "        return pd.Series(['многодетный', 2])\n",
    "    return pd.Series(['малодетный', 0])"
   ]
  },
  {
   "cell_type": "markdown",
   "metadata": {},
   "source": [
    "В таблице `data` создадим новые поля `children_type` (категория детности) и `children_type_id` (id категории детности):"
   ]
  },
  {
   "cell_type": "code",
   "execution_count": 46,
   "metadata": {},
   "outputs": [],
   "source": [
    "# создание столбцов 'children_type' и 'children_type_id' в таблице data методом apply()\n",
    "# с применением функции create_children_type_and_id() к столбцу 'children'\n",
    "data[['children_type', 'children_type_id']] = data['children'].apply(create_children_type_and_id)"
   ]
  },
  {
   "cell_type": "markdown",
   "metadata": {},
   "source": [
    "Поместим полученные столбцы после `children`:"
   ]
  },
  {
   "cell_type": "code",
   "execution_count": 47,
   "metadata": {},
   "outputs": [
    {
     "data": {
      "text/html": [
       "<div>\n",
       "<style scoped>\n",
       "    .dataframe tbody tr th:only-of-type {\n",
       "        vertical-align: middle;\n",
       "    }\n",
       "\n",
       "    .dataframe tbody tr th {\n",
       "        vertical-align: top;\n",
       "    }\n",
       "\n",
       "    .dataframe thead th {\n",
       "        text-align: right;\n",
       "    }\n",
       "</style>\n",
       "<table border=\"1\" class=\"dataframe\">\n",
       "  <thead>\n",
       "    <tr style=\"text-align: right;\">\n",
       "      <th></th>\n",
       "      <th>children</th>\n",
       "      <th>children_type</th>\n",
       "      <th>children_type_id</th>\n",
       "      <th>days_employed</th>\n",
       "      <th>dob_years</th>\n",
       "      <th>education</th>\n",
       "      <th>education_id</th>\n",
       "      <th>family_status</th>\n",
       "      <th>family_status_id</th>\n",
       "      <th>gender</th>\n",
       "      <th>income_type</th>\n",
       "      <th>income_type_id</th>\n",
       "      <th>debt</th>\n",
       "      <th>total_income</th>\n",
       "      <th>total_income_type</th>\n",
       "      <th>total_income_type_id</th>\n",
       "      <th>purpose</th>\n",
       "      <th>purpose_type</th>\n",
       "      <th>purpose_type_id</th>\n",
       "    </tr>\n",
       "  </thead>\n",
       "  <tbody>\n",
       "    <tr>\n",
       "      <td>0</td>\n",
       "      <td>1</td>\n",
       "      <td>малодетный</td>\n",
       "      <td>0</td>\n",
       "      <td>8437</td>\n",
       "      <td>42</td>\n",
       "      <td>высшее</td>\n",
       "      <td>0</td>\n",
       "      <td>женат / замужем</td>\n",
       "      <td>0</td>\n",
       "      <td>F</td>\n",
       "      <td>сотрудник</td>\n",
       "      <td>0</td>\n",
       "      <td>0</td>\n",
       "      <td>253875</td>\n",
       "      <td>богатый</td>\n",
       "      <td>0</td>\n",
       "      <td>покупка жилья</td>\n",
       "      <td>недвижимость</td>\n",
       "      <td>0</td>\n",
       "    </tr>\n",
       "    <tr>\n",
       "      <td>1</td>\n",
       "      <td>1</td>\n",
       "      <td>малодетный</td>\n",
       "      <td>0</td>\n",
       "      <td>4024</td>\n",
       "      <td>36</td>\n",
       "      <td>среднее</td>\n",
       "      <td>1</td>\n",
       "      <td>женат / замужем</td>\n",
       "      <td>0</td>\n",
       "      <td>F</td>\n",
       "      <td>сотрудник</td>\n",
       "      <td>0</td>\n",
       "      <td>0</td>\n",
       "      <td>112080</td>\n",
       "      <td>средний класс</td>\n",
       "      <td>1</td>\n",
       "      <td>приобретение автомобиля</td>\n",
       "      <td>автомобиль</td>\n",
       "      <td>1</td>\n",
       "    </tr>\n",
       "    <tr>\n",
       "      <td>2</td>\n",
       "      <td>0</td>\n",
       "      <td>бездетный</td>\n",
       "      <td>1</td>\n",
       "      <td>5623</td>\n",
       "      <td>33</td>\n",
       "      <td>среднее</td>\n",
       "      <td>1</td>\n",
       "      <td>женат / замужем</td>\n",
       "      <td>0</td>\n",
       "      <td>M</td>\n",
       "      <td>сотрудник</td>\n",
       "      <td>0</td>\n",
       "      <td>0</td>\n",
       "      <td>145885</td>\n",
       "      <td>средний класс</td>\n",
       "      <td>1</td>\n",
       "      <td>покупка жилья</td>\n",
       "      <td>недвижимость</td>\n",
       "      <td>0</td>\n",
       "    </tr>\n",
       "    <tr>\n",
       "      <td>3</td>\n",
       "      <td>3</td>\n",
       "      <td>многодетный</td>\n",
       "      <td>2</td>\n",
       "      <td>4124</td>\n",
       "      <td>32</td>\n",
       "      <td>среднее</td>\n",
       "      <td>1</td>\n",
       "      <td>женат / замужем</td>\n",
       "      <td>0</td>\n",
       "      <td>M</td>\n",
       "      <td>сотрудник</td>\n",
       "      <td>0</td>\n",
       "      <td>0</td>\n",
       "      <td>267628</td>\n",
       "      <td>богатый</td>\n",
       "      <td>0</td>\n",
       "      <td>дополнительное образование</td>\n",
       "      <td>образование</td>\n",
       "      <td>2</td>\n",
       "    </tr>\n",
       "    <tr>\n",
       "      <td>4</td>\n",
       "      <td>0</td>\n",
       "      <td>бездетный</td>\n",
       "      <td>1</td>\n",
       "      <td>14177</td>\n",
       "      <td>53</td>\n",
       "      <td>среднее</td>\n",
       "      <td>1</td>\n",
       "      <td>гражданский брак</td>\n",
       "      <td>1</td>\n",
       "      <td>F</td>\n",
       "      <td>пенсионер</td>\n",
       "      <td>1</td>\n",
       "      <td>0</td>\n",
       "      <td>158616</td>\n",
       "      <td>средний класс</td>\n",
       "      <td>1</td>\n",
       "      <td>сыграть свадьбу</td>\n",
       "      <td>свадьба</td>\n",
       "      <td>3</td>\n",
       "    </tr>\n",
       "  </tbody>\n",
       "</table>\n",
       "</div>"
      ],
      "text/plain": [
       "   children children_type  children_type_id  days_employed  dob_years  \\\n",
       "0         1    малодетный                 0           8437         42   \n",
       "1         1    малодетный                 0           4024         36   \n",
       "2         0     бездетный                 1           5623         33   \n",
       "3         3   многодетный                 2           4124         32   \n",
       "4         0     бездетный                 1          14177         53   \n",
       "\n",
       "  education  education_id     family_status  family_status_id gender  \\\n",
       "0    высшее             0   женат / замужем                 0      F   \n",
       "1   среднее             1   женат / замужем                 0      F   \n",
       "2   среднее             1   женат / замужем                 0      M   \n",
       "3   среднее             1   женат / замужем                 0      M   \n",
       "4   среднее             1  гражданский брак                 1      F   \n",
       "\n",
       "  income_type  income_type_id  debt  total_income total_income_type  \\\n",
       "0   сотрудник               0     0        253875           богатый   \n",
       "1   сотрудник               0     0        112080     средний класс   \n",
       "2   сотрудник               0     0        145885     средний класс   \n",
       "3   сотрудник               0     0        267628           богатый   \n",
       "4   пенсионер               1     0        158616     средний класс   \n",
       "\n",
       "   total_income_type_id                     purpose  purpose_type  \\\n",
       "0                     0               покупка жилья  недвижимость   \n",
       "1                     1     приобретение автомобиля    автомобиль   \n",
       "2                     1               покупка жилья  недвижимость   \n",
       "3                     0  дополнительное образование   образование   \n",
       "4                     1             сыграть свадьбу       свадьба   \n",
       "\n",
       "   purpose_type_id  \n",
       "0                0  \n",
       "1                1  \n",
       "2                0  \n",
       "3                2  \n",
       "4                3  "
      ]
     },
     "execution_count": 47,
     "metadata": {},
     "output_type": "execute_result"
    }
   ],
   "source": [
    "# размещение столбца 'children_type' в таблице data после столбца\n",
    "# 'children' методами insert() (вставка) и pop() (извлечение)\n",
    "data.insert(data.columns.get_loc('children')+1,'children_type',\\\n",
    "            data.pop('children_type'))\n",
    "\n",
    "# размещение столбца 'tchildren_type_id' в таблице data после столбца\n",
    "# 'children_type' методами insert() (вставка) и pop() (извлечение)\n",
    "data.insert(data.columns.get_loc('children_type')+1,'children_type_id',\\\n",
    "            data.pop('children_type_id'))\n",
    "\n",
    "# проверка - получение первых 5 строк таблицы data_cut методом head()\n",
    "data.head()"
   ]
  },
  {
   "cell_type": "markdown",
   "metadata": {},
   "source": [
    "Напишем функцию `create_category_dict` для создания \"словарей\" категоризированных данных в столбцах. Она будет возвращать датафрейм с \"ключом\" (категорией) и \"значением\" (id категориии):"
   ]
  },
  {
   "cell_type": "code",
   "execution_count": 48,
   "metadata": {},
   "outputs": [],
   "source": [
    "# создание функции 'create_category_dict()' с аргументами 'key' и 'value'\n",
    "def create_category_dict(key, value):\n",
    "    ''' \n",
    "    Возвращает датафрейм с \"ключом\" (категорией) - 'key' \n",
    "    и \"значением\" (id категориии) - 'value'\n",
    "    ''' \n",
    "    category_dict = data[[key, value]]\\\n",
    "                        .drop_duplicates().reset_index(drop=True)\n",
    "\n",
    "    return category_dict"
   ]
  },
  {
   "cell_type": "markdown",
   "metadata": {},
   "source": [
    "Вызовем функцию для столбцов `education` и `education_id`. Получим словарь `edu_dict`:"
   ]
  },
  {
   "cell_type": "code",
   "execution_count": 49,
   "metadata": {},
   "outputs": [
    {
     "data": {
      "text/html": [
       "<div>\n",
       "<style scoped>\n",
       "    .dataframe tbody tr th:only-of-type {\n",
       "        vertical-align: middle;\n",
       "    }\n",
       "\n",
       "    .dataframe tbody tr th {\n",
       "        vertical-align: top;\n",
       "    }\n",
       "\n",
       "    .dataframe thead th {\n",
       "        text-align: right;\n",
       "    }\n",
       "</style>\n",
       "<table border=\"1\" class=\"dataframe\">\n",
       "  <thead>\n",
       "    <tr style=\"text-align: right;\">\n",
       "      <th></th>\n",
       "      <th>education</th>\n",
       "      <th>education_id</th>\n",
       "    </tr>\n",
       "  </thead>\n",
       "  <tbody>\n",
       "    <tr>\n",
       "      <td>0</td>\n",
       "      <td>высшее</td>\n",
       "      <td>0</td>\n",
       "    </tr>\n",
       "    <tr>\n",
       "      <td>1</td>\n",
       "      <td>среднее</td>\n",
       "      <td>1</td>\n",
       "    </tr>\n",
       "    <tr>\n",
       "      <td>2</td>\n",
       "      <td>неоконченное высшее</td>\n",
       "      <td>2</td>\n",
       "    </tr>\n",
       "    <tr>\n",
       "      <td>3</td>\n",
       "      <td>начальное</td>\n",
       "      <td>3</td>\n",
       "    </tr>\n",
       "    <tr>\n",
       "      <td>4</td>\n",
       "      <td>ученая степень</td>\n",
       "      <td>4</td>\n",
       "    </tr>\n",
       "  </tbody>\n",
       "</table>\n",
       "</div>"
      ],
      "text/plain": [
       "             education  education_id\n",
       "0               высшее             0\n",
       "1              среднее             1\n",
       "2  неоконченное высшее             2\n",
       "3            начальное             3\n",
       "4       ученая степень             4"
      ]
     },
     "execution_count": 49,
     "metadata": {},
     "output_type": "execute_result"
    }
   ],
   "source": [
    "# вызов функции 'create_category_dict()' для столбцов 'education' и 'education_id'\n",
    "edu_dict = create_category_dict('education', 'education_id')\n",
    "\n",
    "# вывод переменной 'edu_dict'\n",
    "edu_dict"
   ]
  },
  {
   "cell_type": "markdown",
   "metadata": {},
   "source": [
    "То же самое для полей `family_status` и `family_status_id` с переменной `family_stat_dict`:"
   ]
  },
  {
   "cell_type": "code",
   "execution_count": 50,
   "metadata": {},
   "outputs": [
    {
     "data": {
      "text/html": [
       "<div>\n",
       "<style scoped>\n",
       "    .dataframe tbody tr th:only-of-type {\n",
       "        vertical-align: middle;\n",
       "    }\n",
       "\n",
       "    .dataframe tbody tr th {\n",
       "        vertical-align: top;\n",
       "    }\n",
       "\n",
       "    .dataframe thead th {\n",
       "        text-align: right;\n",
       "    }\n",
       "</style>\n",
       "<table border=\"1\" class=\"dataframe\">\n",
       "  <thead>\n",
       "    <tr style=\"text-align: right;\">\n",
       "      <th></th>\n",
       "      <th>family_status</th>\n",
       "      <th>family_status_id</th>\n",
       "    </tr>\n",
       "  </thead>\n",
       "  <tbody>\n",
       "    <tr>\n",
       "      <td>0</td>\n",
       "      <td>женат / замужем</td>\n",
       "      <td>0</td>\n",
       "    </tr>\n",
       "    <tr>\n",
       "      <td>1</td>\n",
       "      <td>гражданский брак</td>\n",
       "      <td>1</td>\n",
       "    </tr>\n",
       "    <tr>\n",
       "      <td>2</td>\n",
       "      <td>вдовец / вдова</td>\n",
       "      <td>2</td>\n",
       "    </tr>\n",
       "    <tr>\n",
       "      <td>3</td>\n",
       "      <td>в разводе</td>\n",
       "      <td>3</td>\n",
       "    </tr>\n",
       "    <tr>\n",
       "      <td>4</td>\n",
       "      <td>не женат / не замужем</td>\n",
       "      <td>4</td>\n",
       "    </tr>\n",
       "  </tbody>\n",
       "</table>\n",
       "</div>"
      ],
      "text/plain": [
       "           family_status  family_status_id\n",
       "0        женат / замужем                 0\n",
       "1       гражданский брак                 1\n",
       "2         вдовец / вдова                 2\n",
       "3              в разводе                 3\n",
       "4  не женат / не замужем                 4"
      ]
     },
     "execution_count": 50,
     "metadata": {},
     "output_type": "execute_result"
    }
   ],
   "source": [
    "# вызов функции 'create_category_dict()' для столбцов 'family_status' и 'family_status_id'\n",
    "family_stat_dict = create_category_dict('family_status', 'family_status_id')\n",
    "\n",
    "# вывод переменной 'family_stat_dict'\n",
    "family_stat_dict"
   ]
  },
  {
   "cell_type": "markdown",
   "metadata": {},
   "source": [
    "Столбцов `purpose_type` и `purpose_type_id` c переменной `purpose_dict`:"
   ]
  },
  {
   "cell_type": "code",
   "execution_count": 51,
   "metadata": {},
   "outputs": [
    {
     "data": {
      "text/html": [
       "<div>\n",
       "<style scoped>\n",
       "    .dataframe tbody tr th:only-of-type {\n",
       "        vertical-align: middle;\n",
       "    }\n",
       "\n",
       "    .dataframe tbody tr th {\n",
       "        vertical-align: top;\n",
       "    }\n",
       "\n",
       "    .dataframe thead th {\n",
       "        text-align: right;\n",
       "    }\n",
       "</style>\n",
       "<table border=\"1\" class=\"dataframe\">\n",
       "  <thead>\n",
       "    <tr style=\"text-align: right;\">\n",
       "      <th></th>\n",
       "      <th>purpose_type</th>\n",
       "      <th>purpose_type_id</th>\n",
       "    </tr>\n",
       "  </thead>\n",
       "  <tbody>\n",
       "    <tr>\n",
       "      <td>0</td>\n",
       "      <td>недвижимость</td>\n",
       "      <td>0</td>\n",
       "    </tr>\n",
       "    <tr>\n",
       "      <td>1</td>\n",
       "      <td>автомобиль</td>\n",
       "      <td>1</td>\n",
       "    </tr>\n",
       "    <tr>\n",
       "      <td>2</td>\n",
       "      <td>образование</td>\n",
       "      <td>2</td>\n",
       "    </tr>\n",
       "    <tr>\n",
       "      <td>3</td>\n",
       "      <td>свадьба</td>\n",
       "      <td>3</td>\n",
       "    </tr>\n",
       "  </tbody>\n",
       "</table>\n",
       "</div>"
      ],
      "text/plain": [
       "   purpose_type  purpose_type_id\n",
       "0  недвижимость                0\n",
       "1    автомобиль                1\n",
       "2   образование                2\n",
       "3       свадьба                3"
      ]
     },
     "execution_count": 51,
     "metadata": {},
     "output_type": "execute_result"
    }
   ],
   "source": [
    "# вызов функции 'create_category_dict()' для столбцов 'purpose_type' и 'purpose_type_id'\n",
    "purpose_dict = create_category_dict('purpose_type', 'purpose_type_id')\n",
    "\n",
    "# вывод переменной 'purpose_dict'\n",
    "purpose_dict"
   ]
  },
  {
   "cell_type": "markdown",
   "metadata": {},
   "source": [
    "Также создадим словарь для столбцов `income_type` и `income_type_id` c переменной `income_type_dict`:"
   ]
  },
  {
   "cell_type": "code",
   "execution_count": 52,
   "metadata": {},
   "outputs": [
    {
     "data": {
      "text/html": [
       "<div>\n",
       "<style scoped>\n",
       "    .dataframe tbody tr th:only-of-type {\n",
       "        vertical-align: middle;\n",
       "    }\n",
       "\n",
       "    .dataframe tbody tr th {\n",
       "        vertical-align: top;\n",
       "    }\n",
       "\n",
       "    .dataframe thead th {\n",
       "        text-align: right;\n",
       "    }\n",
       "</style>\n",
       "<table border=\"1\" class=\"dataframe\">\n",
       "  <thead>\n",
       "    <tr style=\"text-align: right;\">\n",
       "      <th></th>\n",
       "      <th>income_type</th>\n",
       "      <th>income_type_id</th>\n",
       "    </tr>\n",
       "  </thead>\n",
       "  <tbody>\n",
       "    <tr>\n",
       "      <td>0</td>\n",
       "      <td>сотрудник</td>\n",
       "      <td>0</td>\n",
       "    </tr>\n",
       "    <tr>\n",
       "      <td>1</td>\n",
       "      <td>пенсионер</td>\n",
       "      <td>1</td>\n",
       "    </tr>\n",
       "    <tr>\n",
       "      <td>2</td>\n",
       "      <td>компаньон</td>\n",
       "      <td>2</td>\n",
       "    </tr>\n",
       "    <tr>\n",
       "      <td>3</td>\n",
       "      <td>госслужащий</td>\n",
       "      <td>3</td>\n",
       "    </tr>\n",
       "    <tr>\n",
       "      <td>4</td>\n",
       "      <td>безработный</td>\n",
       "      <td>4</td>\n",
       "    </tr>\n",
       "    <tr>\n",
       "      <td>5</td>\n",
       "      <td>предприниматель</td>\n",
       "      <td>5</td>\n",
       "    </tr>\n",
       "    <tr>\n",
       "      <td>6</td>\n",
       "      <td>студент</td>\n",
       "      <td>6</td>\n",
       "    </tr>\n",
       "    <tr>\n",
       "      <td>7</td>\n",
       "      <td>в декрете</td>\n",
       "      <td>7</td>\n",
       "    </tr>\n",
       "  </tbody>\n",
       "</table>\n",
       "</div>"
      ],
      "text/plain": [
       "       income_type  income_type_id\n",
       "0        сотрудник               0\n",
       "1        пенсионер               1\n",
       "2        компаньон               2\n",
       "3      госслужащий               3\n",
       "4      безработный               4\n",
       "5  предприниматель               5\n",
       "6          студент               6\n",
       "7        в декрете               7"
      ]
     },
     "execution_count": 52,
     "metadata": {},
     "output_type": "execute_result"
    }
   ],
   "source": [
    "# вызов функции 'create_category_dict()' для столбцов 'income_type' и 'income_type_id'\n",
    "income_type_dict = create_category_dict('income_type', 'income_type_id')\n",
    "\n",
    "# вывод переменной 'income_type_dict'\n",
    "income_type_dict"
   ]
  },
  {
   "cell_type": "markdown",
   "metadata": {},
   "source": [
    "И полей `total_income_type` и `total_income_type_id` c переменной `total_income_type_dict`:"
   ]
  },
  {
   "cell_type": "code",
   "execution_count": 53,
   "metadata": {
    "scrolled": true
   },
   "outputs": [
    {
     "data": {
      "text/html": [
       "<div>\n",
       "<style scoped>\n",
       "    .dataframe tbody tr th:only-of-type {\n",
       "        vertical-align: middle;\n",
       "    }\n",
       "\n",
       "    .dataframe tbody tr th {\n",
       "        vertical-align: top;\n",
       "    }\n",
       "\n",
       "    .dataframe thead th {\n",
       "        text-align: right;\n",
       "    }\n",
       "</style>\n",
       "<table border=\"1\" class=\"dataframe\">\n",
       "  <thead>\n",
       "    <tr style=\"text-align: right;\">\n",
       "      <th></th>\n",
       "      <th>total_income_type</th>\n",
       "      <th>total_income_type_id</th>\n",
       "    </tr>\n",
       "  </thead>\n",
       "  <tbody>\n",
       "    <tr>\n",
       "      <td>0</td>\n",
       "      <td>богатый</td>\n",
       "      <td>0</td>\n",
       "    </tr>\n",
       "    <tr>\n",
       "      <td>1</td>\n",
       "      <td>средний класс</td>\n",
       "      <td>1</td>\n",
       "    </tr>\n",
       "    <tr>\n",
       "      <td>2</td>\n",
       "      <td>малоимущий</td>\n",
       "      <td>2</td>\n",
       "    </tr>\n",
       "  </tbody>\n",
       "</table>\n",
       "</div>"
      ],
      "text/plain": [
       "  total_income_type  total_income_type_id\n",
       "0           богатый                     0\n",
       "1     средний класс                     1\n",
       "2        малоимущий                     2"
      ]
     },
     "execution_count": 53,
     "metadata": {},
     "output_type": "execute_result"
    }
   ],
   "source": [
    "# вызов функции 'create_category_dict()' для столбцов 'total_income_type' и 'total_income_type_id'\n",
    "total_income_type_dict = create_category_dict('total_income_type', 'total_income_type_id')\n",
    "\n",
    "# вывод переменной 'total_income_type_dict'\n",
    "total_income_type_dict"
   ]
  },
  {
   "cell_type": "markdown",
   "metadata": {},
   "source": [
    "А также `children_type` и `children_type_id` c переменной `children_type_dict`:"
   ]
  },
  {
   "cell_type": "code",
   "execution_count": 54,
   "metadata": {
    "scrolled": true
   },
   "outputs": [
    {
     "data": {
      "text/html": [
       "<div>\n",
       "<style scoped>\n",
       "    .dataframe tbody tr th:only-of-type {\n",
       "        vertical-align: middle;\n",
       "    }\n",
       "\n",
       "    .dataframe tbody tr th {\n",
       "        vertical-align: top;\n",
       "    }\n",
       "\n",
       "    .dataframe thead th {\n",
       "        text-align: right;\n",
       "    }\n",
       "</style>\n",
       "<table border=\"1\" class=\"dataframe\">\n",
       "  <thead>\n",
       "    <tr style=\"text-align: right;\">\n",
       "      <th></th>\n",
       "      <th>children_type</th>\n",
       "      <th>children_type_id</th>\n",
       "    </tr>\n",
       "  </thead>\n",
       "  <tbody>\n",
       "    <tr>\n",
       "      <td>0</td>\n",
       "      <td>малодетный</td>\n",
       "      <td>0</td>\n",
       "    </tr>\n",
       "    <tr>\n",
       "      <td>1</td>\n",
       "      <td>бездетный</td>\n",
       "      <td>1</td>\n",
       "    </tr>\n",
       "    <tr>\n",
       "      <td>2</td>\n",
       "      <td>многодетный</td>\n",
       "      <td>2</td>\n",
       "    </tr>\n",
       "  </tbody>\n",
       "</table>\n",
       "</div>"
      ],
      "text/plain": [
       "  children_type  children_type_id\n",
       "0    малодетный                 0\n",
       "1     бездетный                 1\n",
       "2   многодетный                 2"
      ]
     },
     "execution_count": 54,
     "metadata": {},
     "output_type": "execute_result"
    }
   ],
   "source": [
    "# вызов функции 'create_category_dict()' для столбцов 'children_type' и 'children_type_id'\n",
    "children_type_dict = create_category_dict('children_type', 'children_type_id')\n",
    "\n",
    "# вывод переменной 'children_type_dict'\n",
    "children_type_dict"
   ]
  },
  {
   "cell_type": "markdown",
   "metadata": {},
   "source": [
    "**Вывод**"
   ]
  },
  {
   "cell_type": "markdown",
   "metadata": {},
   "source": [
    "Игнорирование лемматизации фактически создает помехи исследованию данных в столбцах со стороковым типом значений - проверка вхождения подстроки в строку в таком случае даст непредсказуемый и некорректный результат. Представление категорий в строковом типе в датасетах усложняет визуальное восприятие информации, а также увеличивает время обрабоки данных. Для решения данных проблем в этом разделе была проведена:\n",
    "* лемматизация столбца `purpose` с выделением категорий в `purpose_type` и их id в `purpose_type_id`\n",
    "* классификация:\n",
    "    - по количеству детей `children_type` с помещением их id в столбец `children_type_id`\n",
    "    - типам занятости `income_type` и id в столбец `income_type_id`\n",
    "    - уровня дохода `total_income_type` с помещением их id в столбец `total_income_type_id`\n",
    "* создание словарей *\"значение\"* -> *\"id\"* соответствующих категорий:\n",
    "    - `edu_dict`\n",
    "    - `family_stat_dict`\n",
    "    - `purpose_dict`\n",
    "    - `income_type_dict`\n",
    "    - `total_income_type_dict`\n",
    "    - `children_type_dict` "
   ]
  },
  {
   "cell_type": "markdown",
   "metadata": {},
   "source": [
    "## Проверка гипотез исследования"
   ]
  },
  {
   "cell_type": "markdown",
   "metadata": {},
   "source": [
    "Для последующего анализа создадим функцию `create_pivot_analysis`, которая будет возвращать сводную таблицу с категориями и долями \"должников\" по каждой категории:"
   ]
  },
  {
   "cell_type": "code",
   "execution_count": 55,
   "metadata": {},
   "outputs": [],
   "source": [
    "# создание функции 'create_pivot_analysis()' с аргументом 'category'\n",
    "def create_pivot_analysis(category):\n",
    "    '''\n",
    "    Возвращает сводную таблицу с категориями\n",
    "    и долями \"должников\" по каждой категории.\n",
    "    '''\n",
    "    pivot_category = data.pivot_table(index=[category], values= 'debt', aggfunc=['mean'])\\\n",
    "                         .sort_values(by=('mean', 'debt'), ascending=False).round(3)\n",
    "\n",
    "    return pivot_category"
   ]
  },
  {
   "cell_type": "markdown",
   "metadata": {},
   "source": [
    "**Вопрос I.** Есть ли зависимость между наличием детей и возвратом кредита в срок?"
   ]
  },
  {
   "cell_type": "markdown",
   "metadata": {},
   "source": [
    "Для ответа на этот вопрос вызовем функцию `create_pivot_analysis` с аргументом `children`. Получим долю клиентов, не вернувших кредит в срок, по категориям детности. Сохраним в переменной `pivot_children`:"
   ]
  },
  {
   "cell_type": "code",
   "execution_count": 56,
   "metadata": {},
   "outputs": [
    {
     "data": {
      "text/html": [
       "<div>\n",
       "<style scoped>\n",
       "    .dataframe tbody tr th:only-of-type {\n",
       "        vertical-align: middle;\n",
       "    }\n",
       "\n",
       "    .dataframe tbody tr th {\n",
       "        vertical-align: top;\n",
       "    }\n",
       "\n",
       "    .dataframe thead tr th {\n",
       "        text-align: left;\n",
       "    }\n",
       "\n",
       "    .dataframe thead tr:last-of-type th {\n",
       "        text-align: right;\n",
       "    }\n",
       "</style>\n",
       "<table border=\"1\" class=\"dataframe\">\n",
       "  <thead>\n",
       "    <tr>\n",
       "      <th></th>\n",
       "      <th>mean</th>\n",
       "    </tr>\n",
       "    <tr>\n",
       "      <th></th>\n",
       "      <th>debt</th>\n",
       "    </tr>\n",
       "    <tr>\n",
       "      <th>children_type</th>\n",
       "      <th></th>\n",
       "    </tr>\n",
       "  </thead>\n",
       "  <tbody>\n",
       "    <tr>\n",
       "      <td>малодетный</td>\n",
       "      <td>0.093</td>\n",
       "    </tr>\n",
       "    <tr>\n",
       "      <td>многодетный</td>\n",
       "      <td>0.082</td>\n",
       "    </tr>\n",
       "    <tr>\n",
       "      <td>бездетный</td>\n",
       "      <td>0.075</td>\n",
       "    </tr>\n",
       "  </tbody>\n",
       "</table>\n",
       "</div>"
      ],
      "text/plain": [
       "                mean\n",
       "                debt\n",
       "children_type       \n",
       "малодетный     0.093\n",
       "многодетный    0.082\n",
       "бездетный      0.075"
      ]
     },
     "execution_count": 56,
     "metadata": {},
     "output_type": "execute_result"
    }
   ],
   "source": [
    "# вызов функции 'create_pivot_analysis()' с аргументом 'children'\n",
    "pivot_children = create_pivot_analysis('children_type')\n",
    "\n",
    "# вывод переменной 'pivot_children'\n",
    "pivot_children"
   ]
  },
  {
   "cell_type": "markdown",
   "metadata": {},
   "source": [
    "Как видно из полученной таблицы, доли \"должников\" от общего числа клиентов по категориям разнятся."
   ]
  },
  {
   "cell_type": "markdown",
   "metadata": {},
   "source": [
    "**Вывод**"
   ]
  },
  {
   "cell_type": "markdown",
   "metadata": {},
   "source": [
    "По итогу исследования наблюдаем, что зависимость между наличием детей и возвратом кредита прослеживается - доля клиентов, просрочивших обязательства по кредиту, с 1-3 детьми составляет 9%, у многодетных 8%, бездетных - 7.5%.\n",
    "\n",
    "В результате исследования первая гипотеза подтверждена."
   ]
  },
  {
   "cell_type": "markdown",
   "metadata": {},
   "source": [
    "**Вопрос II.** Есть ли зависимость между семейным положением и возвратом кредита в срок?"
   ]
  },
  {
   "cell_type": "markdown",
   "metadata": {},
   "source": [
    "Сгруппируем с помощью функции `create_pivot_analysis` сводную таблицу с долей клиентов, не вернувших кредит в срок, по семейному положению и сохраним ее в переменной `pivot_family_status`:"
   ]
  },
  {
   "cell_type": "code",
   "execution_count": 57,
   "metadata": {
    "scrolled": false
   },
   "outputs": [
    {
     "data": {
      "text/html": [
       "<div>\n",
       "<style scoped>\n",
       "    .dataframe tbody tr th:only-of-type {\n",
       "        vertical-align: middle;\n",
       "    }\n",
       "\n",
       "    .dataframe tbody tr th {\n",
       "        vertical-align: top;\n",
       "    }\n",
       "\n",
       "    .dataframe thead tr th {\n",
       "        text-align: left;\n",
       "    }\n",
       "\n",
       "    .dataframe thead tr:last-of-type th {\n",
       "        text-align: right;\n",
       "    }\n",
       "</style>\n",
       "<table border=\"1\" class=\"dataframe\">\n",
       "  <thead>\n",
       "    <tr>\n",
       "      <th></th>\n",
       "      <th>mean</th>\n",
       "    </tr>\n",
       "    <tr>\n",
       "      <th></th>\n",
       "      <th>debt</th>\n",
       "    </tr>\n",
       "    <tr>\n",
       "      <th>family_status</th>\n",
       "      <th></th>\n",
       "    </tr>\n",
       "  </thead>\n",
       "  <tbody>\n",
       "    <tr>\n",
       "      <td>не женат / не замужем</td>\n",
       "      <td>0.098</td>\n",
       "    </tr>\n",
       "    <tr>\n",
       "      <td>гражданский брак</td>\n",
       "      <td>0.093</td>\n",
       "    </tr>\n",
       "    <tr>\n",
       "      <td>женат / замужем</td>\n",
       "      <td>0.075</td>\n",
       "    </tr>\n",
       "    <tr>\n",
       "      <td>в разводе</td>\n",
       "      <td>0.071</td>\n",
       "    </tr>\n",
       "    <tr>\n",
       "      <td>вдовец / вдова</td>\n",
       "      <td>0.066</td>\n",
       "    </tr>\n",
       "  </tbody>\n",
       "</table>\n",
       "</div>"
      ],
      "text/plain": [
       "                        mean\n",
       "                        debt\n",
       "family_status               \n",
       "не женат / не замужем  0.098\n",
       "гражданский брак       0.093\n",
       "женат / замужем        0.075\n",
       "в разводе              0.071\n",
       "вдовец / вдова         0.066"
      ]
     },
     "execution_count": 57,
     "metadata": {},
     "output_type": "execute_result"
    }
   ],
   "source": [
    "# вызов функции 'create_pivot_analysis()' с аргументом 'family_status'\n",
    "pivot_family_status = create_pivot_analysis('family_status')\n",
    "\n",
    "# вывод переменной 'pivot_family_status'\n",
    "pivot_family_status"
   ]
  },
  {
   "cell_type": "markdown",
   "metadata": {},
   "source": [
    "Наблюдаем отличия в долях \"должников\" по группам: самая большая - у клиентов, не состоящих в официальных отношениях, малая - у овдовевших и разведенных."
   ]
  },
  {
   "cell_type": "markdown",
   "metadata": {},
   "source": [
    "**Вывод**"
   ]
  },
  {
   "cell_type": "markdown",
   "metadata": {},
   "source": [
    "Результаты показывают зависимость между семейным положением и возвратом кредита в срок - доля просрочек по кредитным обязательствам у клиентов, не состоящих в официальных отношениях больше всего и колеблется между 9 и 10%. Овдовевшие и разведенные клиенты чаще возвращают средства в срок, их доля от общего числа в группе - около 7%.\n",
    "\n",
    "В результате исследования вторая гипотеза подтверждена."
   ]
  },
  {
   "cell_type": "markdown",
   "metadata": {},
   "source": [
    "**Вопрос III.** Есть ли зависимость между уровнем дохода и возвратом кредита в срок?"
   ]
  },
  {
   "cell_type": "markdown",
   "metadata": {},
   "source": [
    "Сформируем с помощью функции `create_pivot_analysis` долю клиентов с имевшейся задолженностью по кредитным обязательствам в группах по уровню дохода и сохраним в переменной `pivot_total_income_type`:"
   ]
  },
  {
   "cell_type": "code",
   "execution_count": 58,
   "metadata": {
    "scrolled": true
   },
   "outputs": [
    {
     "data": {
      "text/html": [
       "<div>\n",
       "<style scoped>\n",
       "    .dataframe tbody tr th:only-of-type {\n",
       "        vertical-align: middle;\n",
       "    }\n",
       "\n",
       "    .dataframe tbody tr th {\n",
       "        vertical-align: top;\n",
       "    }\n",
       "\n",
       "    .dataframe thead tr th {\n",
       "        text-align: left;\n",
       "    }\n",
       "\n",
       "    .dataframe thead tr:last-of-type th {\n",
       "        text-align: right;\n",
       "    }\n",
       "</style>\n",
       "<table border=\"1\" class=\"dataframe\">\n",
       "  <thead>\n",
       "    <tr>\n",
       "      <th></th>\n",
       "      <th>mean</th>\n",
       "    </tr>\n",
       "    <tr>\n",
       "      <th></th>\n",
       "      <th>debt</th>\n",
       "    </tr>\n",
       "    <tr>\n",
       "      <th>total_income_type</th>\n",
       "      <th></th>\n",
       "    </tr>\n",
       "  </thead>\n",
       "  <tbody>\n",
       "    <tr>\n",
       "      <td>средний класс</td>\n",
       "      <td>0.087</td>\n",
       "    </tr>\n",
       "    <tr>\n",
       "      <td>малоимущий</td>\n",
       "      <td>0.080</td>\n",
       "    </tr>\n",
       "    <tr>\n",
       "      <td>богатый</td>\n",
       "      <td>0.071</td>\n",
       "    </tr>\n",
       "  </tbody>\n",
       "</table>\n",
       "</div>"
      ],
      "text/plain": [
       "                    mean\n",
       "                    debt\n",
       "total_income_type       \n",
       "средний класс      0.087\n",
       "малоимущий         0.080\n",
       "богатый            0.071"
      ]
     },
     "execution_count": 58,
     "metadata": {},
     "output_type": "execute_result"
    }
   ],
   "source": [
    "# вызов функции 'create_pivot_analysis()' с аргументом 'total_income_type'\n",
    "pivot_total_income_type = create_pivot_analysis('total_income_type')\n",
    "\n",
    "# вывод переменной 'pivot_total_income_type'\n",
    "pivot_total_income_type"
   ]
  },
  {
   "cell_type": "markdown",
   "metadata": {},
   "source": [
    "Видим, что доля просрочек по кредиту зависит от уровня дохода."
   ]
  },
  {
   "cell_type": "markdown",
   "metadata": {},
   "source": [
    "**Вывод**"
   ]
  },
  {
   "cell_type": "markdown",
   "metadata": {},
   "source": [
    "Как видно из полученных значений, доля клиентов, вовремя не выполнивших кредитные обязательства, больше среди среднего класса и малоимущих, что довольно ожидаемо.\n",
    "\n",
    "В результате исследования третья гипотеза подтверждена."
   ]
  },
  {
   "cell_type": "markdown",
   "metadata": {},
   "source": [
    "**Вопрос IV.** Как разные цели кредита влияют на его возврат в срок?"
   ]
  },
  {
   "cell_type": "markdown",
   "metadata": {},
   "source": [
    "Объединим с помощью функции `create_pivot_analysis` сводную таблицу с долями клиентов, не вернувших кредит в срок, по целям кредитования. Сохраним в переменной `pivot_purpose_type`:"
   ]
  },
  {
   "cell_type": "code",
   "execution_count": 59,
   "metadata": {
    "scrolled": true
   },
   "outputs": [
    {
     "data": {
      "text/html": [
       "<div>\n",
       "<style scoped>\n",
       "    .dataframe tbody tr th:only-of-type {\n",
       "        vertical-align: middle;\n",
       "    }\n",
       "\n",
       "    .dataframe tbody tr th {\n",
       "        vertical-align: top;\n",
       "    }\n",
       "\n",
       "    .dataframe thead tr th {\n",
       "        text-align: left;\n",
       "    }\n",
       "\n",
       "    .dataframe thead tr:last-of-type th {\n",
       "        text-align: right;\n",
       "    }\n",
       "</style>\n",
       "<table border=\"1\" class=\"dataframe\">\n",
       "  <thead>\n",
       "    <tr>\n",
       "      <th></th>\n",
       "      <th>mean</th>\n",
       "    </tr>\n",
       "    <tr>\n",
       "      <th></th>\n",
       "      <th>debt</th>\n",
       "    </tr>\n",
       "    <tr>\n",
       "      <th>purpose_type</th>\n",
       "      <th></th>\n",
       "    </tr>\n",
       "  </thead>\n",
       "  <tbody>\n",
       "    <tr>\n",
       "      <td>автомобиль</td>\n",
       "      <td>0.094</td>\n",
       "    </tr>\n",
       "    <tr>\n",
       "      <td>образование</td>\n",
       "      <td>0.092</td>\n",
       "    </tr>\n",
       "    <tr>\n",
       "      <td>свадьба</td>\n",
       "      <td>0.080</td>\n",
       "    </tr>\n",
       "    <tr>\n",
       "      <td>недвижимость</td>\n",
       "      <td>0.072</td>\n",
       "    </tr>\n",
       "  </tbody>\n",
       "</table>\n",
       "</div>"
      ],
      "text/plain": [
       "               mean\n",
       "               debt\n",
       "purpose_type       \n",
       "автомобиль    0.094\n",
       "образование   0.092\n",
       "свадьба       0.080\n",
       "недвижимость  0.072"
      ]
     },
     "execution_count": 59,
     "metadata": {},
     "output_type": "execute_result"
    }
   ],
   "source": [
    "# вызов функции 'create_pivot_analysis()' с аргументом 'purpose_type'\n",
    "pivot_purpose_type = create_pivot_analysis('purpose_type')\n",
    "\n",
    "# вывод переменной 'pivot_purpose_type'\n",
    "pivot_purpose_type"
   ]
  },
  {
   "cell_type": "markdown",
   "metadata": {},
   "source": [
    "Как видно из полученной таблицы, доли \"должников\" от общего числа клиентов по категориям отлчаются на 1-3%."
   ]
  },
  {
   "cell_type": "markdown",
   "metadata": {},
   "source": [
    "**Вывод**"
   ]
  },
  {
   "cell_type": "markdown",
   "metadata": {},
   "source": [
    "Цели кредита также оказывают влияние на невыполнение обязательств в срок - доли просрочек по категориям несколько разнятся.\n",
    "\n",
    "В результате исследования четвертая гипотеза подтверждена."
   ]
  },
  {
   "cell_type": "markdown",
   "metadata": {},
   "source": [
    "## Общий вывод исследования"
   ]
  },
  {
   "cell_type": "markdown",
   "metadata": {},
   "source": [
    "**Рабочие гипотезы**\n",
    "1. наличие детей влияет на возврат кредита в срок\n",
    "2. возврат кредита в срок зависит от семейного положения заемщика\n",
    "3. возврат кредита в срок зависит от уровня дохода заемщика\n",
    "4. различные цели кредита влияют на его возврат в срок\n",
    "\n",
    "По итогу исследования наблюдаем, что **зависимость между наличием детей и возвратом кредита прослеживается** - доля клиентов, просрочивших обязательства по кредиту, с одним-тремя детьми составляет 9%, у многодетных 8%, бездетных - 7.5%.\n",
    "\n",
    "Скорее всего, это связано с дополнительными расходами на детей, и, соответственно, другим типом бюджета. У бездетных клиентов трата средств связана только с собственными нуждами и формируется исходя только из своих потребностей.\n",
    "\n",
    "**Результаты показывают зависимость между семейным положением и возвратом кредита в срок** - доля просрочек по кредитным обязательствам у клиентов, не состоящих в официальных отношениях больше всего и колеблется между 9 и 10%. К этому приводит отсутствие совместного семейного бюджета, траты которого обсуждаются и контролируются обоими супругами. \n",
    "\n",
    "Играет роль также психологический фактор нахождения в браке и, как следствие, рациональность подхода к совместным тратам. Плюсом к этому дети рождаются зачастую именно в официальных браках, а это, как указывалось ранее, дополнительный стимулирующий фактор \"осторожных\" трат и финансовой дисциплины. \n",
    "\n",
    "Овдовевшие и разведенные клиенты в буквальном смысле остаются \"одни\", не могут рассчитывать на партнера и грамотнее планируют свой бюджет.  \n",
    "\n",
    "Как видно из полученных значений, **доля клиентов, вовремя не выполнивших кредитные обязательства, больше среди среднего класса и малоимущих**, что довольно ожидаемо. Доля \"должников\" по категории малоимущих несколько ниже среднего класса, так как клиенты данного уровня заработка умеют строже планировать ограниченные средства и более неприхотливы в бытовом плане.\n",
    "\n",
    "**Довольно весом вклад цели кредитования в возможность невыплаты займа вовремя**. При оформлении автокредитов, клиенты чаще руководствуются личными предпочтениями и реже - рациональностью покупки, при этом не обращая внимания на стоимость содержания того или иного авто, что со временем вносит заметные траты в бюджет. \n",
    "\n",
    "Кредиты на образование могут быть невозвращены вовремя в связи с долгим поиском работы после обучения, а также личными обстоятельствами по прекращению или приостановлению образования. \n",
    "\n",
    "Свадебные кредиты погашаются вовремя ввиду материальной поддержки родственников клиентов. \n",
    "\n",
    "Дорогие ипотечные кредиты выдаются на более продолжительный срок, чем по остальным категориям - ежемесячный платеж меньше, процентная ставка ниже. Также, клиенты, оформляющие кредиты на недвижимость, трезво оценивают свои силы и планируют расходы исходя из размера ежемесячного платежа, стараясь при этом больше работать или получать дополнительный доход на стороне для нивелирования трат, связанных со взятыми на себя кредитными обязательствами.\n",
    "\n",
    "**Итог**\n",
    "- первая гипотеза подтверждена\n",
    "- вторая гипотеза подтверждена\n",
    "- третья гипотеза подтверждена\n",
    "- четвертая гипотеза подтверждена"
   ]
  }
 ],
 "metadata": {
  "ExecuteTimeLog": [
   {
    "duration": 683,
    "start_time": "2021-08-30T22:44:49.098Z"
   },
   {
    "duration": 52,
    "start_time": "2021-08-30T22:44:49.783Z"
   },
   {
    "duration": 19,
    "start_time": "2021-08-30T22:44:49.837Z"
   },
   {
    "duration": 15,
    "start_time": "2021-08-30T22:44:49.858Z"
   },
   {
    "duration": 18,
    "start_time": "2021-08-30T22:44:49.875Z"
   },
   {
    "duration": 6,
    "start_time": "2021-08-30T22:44:49.895Z"
   },
   {
    "duration": 7,
    "start_time": "2021-08-30T22:44:49.987Z"
   },
   {
    "duration": 19,
    "start_time": "2021-08-30T22:44:50.634Z"
   },
   {
    "duration": 10,
    "start_time": "2021-08-30T22:44:51.146Z"
   },
   {
    "duration": 5,
    "start_time": "2021-08-30T22:44:51.546Z"
   },
   {
    "duration": 8,
    "start_time": "2021-08-30T22:44:51.553Z"
   },
   {
    "duration": 12,
    "start_time": "2021-08-30T22:44:51.818Z"
   },
   {
    "duration": 5,
    "start_time": "2021-08-30T22:44:52.015Z"
   },
   {
    "duration": 6,
    "start_time": "2021-08-30T22:44:52.022Z"
   },
   {
    "duration": 10,
    "start_time": "2021-08-30T22:44:52.179Z"
   },
   {
    "duration": 4,
    "start_time": "2021-08-30T22:44:52.191Z"
   },
   {
    "duration": 21,
    "start_time": "2021-08-30T22:44:52.234Z"
   },
   {
    "duration": 13,
    "start_time": "2021-08-30T22:44:52.386Z"
   },
   {
    "duration": 6,
    "start_time": "2021-08-30T22:44:52.401Z"
   },
   {
    "duration": 17,
    "start_time": "2021-08-30T22:44:52.503Z"
   },
   {
    "duration": 7,
    "start_time": "2021-08-30T22:44:52.522Z"
   },
   {
    "duration": 18,
    "start_time": "2021-08-30T22:44:52.655Z"
   },
   {
    "duration": 19,
    "start_time": "2021-08-30T22:44:52.674Z"
   },
   {
    "duration": 3,
    "start_time": "2021-08-30T22:44:52.754Z"
   },
   {
    "duration": 21,
    "start_time": "2021-08-30T22:44:52.874Z"
   },
   {
    "duration": 10,
    "start_time": "2021-08-30T22:44:52.896Z"
   },
   {
    "duration": 7,
    "start_time": "2021-08-30T22:44:52.974Z"
   },
   {
    "duration": 5,
    "start_time": "2021-08-30T22:44:52.983Z"
   },
   {
    "duration": 4,
    "start_time": "2021-08-30T22:44:53.230Z"
   },
   {
    "duration": 10131,
    "start_time": "2021-08-30T22:44:53.386Z"
   },
   {
    "duration": 16,
    "start_time": "2021-08-30T22:45:03.519Z"
   },
   {
    "duration": 3,
    "start_time": "2021-08-30T22:45:03.536Z"
   },
   {
    "duration": 17,
    "start_time": "2021-08-30T22:45:03.540Z"
   },
   {
    "duration": 27,
    "start_time": "2021-08-30T22:45:03.558Z"
   },
   {
    "duration": 13,
    "start_time": "2021-08-30T22:45:03.587Z"
   },
   {
    "duration": 11,
    "start_time": "2021-08-30T22:45:03.602Z"
   },
   {
    "duration": 11,
    "start_time": "2021-08-30T22:45:03.615Z"
   },
   {
    "duration": 10,
    "start_time": "2021-08-30T22:45:03.628Z"
   },
   {
    "duration": 53,
    "start_time": "2021-08-30T22:45:03.640Z"
   },
   {
    "duration": 10,
    "start_time": "2021-08-30T22:45:03.695Z"
   },
   {
    "duration": 34,
    "start_time": "2021-08-30T22:45:03.707Z"
   },
   {
    "duration": 4,
    "start_time": "2021-08-30T22:45:03.743Z"
   },
   {
    "duration": 19,
    "start_time": "2021-08-30T22:45:03.748Z"
   },
   {
    "duration": 28,
    "start_time": "2021-08-30T22:45:03.769Z"
   },
   {
    "duration": 4,
    "start_time": "2021-08-30T22:45:03.799Z"
   },
   {
    "duration": 546,
    "start_time": "2021-08-30T22:50:15.881Z"
   },
   {
    "duration": 51,
    "start_time": "2021-08-30T22:50:16.428Z"
   },
   {
    "duration": 18,
    "start_time": "2021-08-30T22:50:16.481Z"
   },
   {
    "duration": 10,
    "start_time": "2021-08-30T22:50:16.500Z"
   },
   {
    "duration": 8,
    "start_time": "2021-08-30T22:50:16.512Z"
   },
   {
    "duration": 5,
    "start_time": "2021-08-30T22:50:16.522Z"
   },
   {
    "duration": 6,
    "start_time": "2021-08-30T22:50:16.528Z"
   },
   {
    "duration": 18,
    "start_time": "2021-08-30T22:50:16.536Z"
   },
   {
    "duration": 9,
    "start_time": "2021-08-30T22:50:16.585Z"
   },
   {
    "duration": 5,
    "start_time": "2021-08-30T22:50:16.595Z"
   },
   {
    "duration": 7,
    "start_time": "2021-08-30T22:50:16.601Z"
   },
   {
    "duration": 13,
    "start_time": "2021-08-30T22:50:16.610Z"
   },
   {
    "duration": 9,
    "start_time": "2021-08-30T22:50:16.624Z"
   },
   {
    "duration": 12,
    "start_time": "2021-08-30T22:50:16.634Z"
   },
   {
    "duration": 12,
    "start_time": "2021-08-30T22:50:16.647Z"
   },
   {
    "duration": 3,
    "start_time": "2021-08-30T22:50:16.684Z"
   },
   {
    "duration": 23,
    "start_time": "2021-08-30T22:50:16.689Z"
   },
   {
    "duration": 13,
    "start_time": "2021-08-30T22:50:16.714Z"
   },
   {
    "duration": 6,
    "start_time": "2021-08-30T22:50:16.728Z"
   },
   {
    "duration": 16,
    "start_time": "2021-08-30T22:50:16.736Z"
   },
   {
    "duration": 6,
    "start_time": "2021-08-30T22:50:16.754Z"
   },
   {
    "duration": 16,
    "start_time": "2021-08-30T22:50:16.785Z"
   },
   {
    "duration": 18,
    "start_time": "2021-08-30T22:50:16.804Z"
   },
   {
    "duration": 3,
    "start_time": "2021-08-30T22:50:16.824Z"
   },
   {
    "duration": 21,
    "start_time": "2021-08-30T22:50:16.828Z"
   },
   {
    "duration": 33,
    "start_time": "2021-08-30T22:50:16.851Z"
   },
   {
    "duration": 6,
    "start_time": "2021-08-30T22:50:16.886Z"
   },
   {
    "duration": 8,
    "start_time": "2021-08-30T22:50:16.893Z"
   },
   {
    "duration": 4,
    "start_time": "2021-08-30T22:50:16.903Z"
   },
   {
    "duration": 10139,
    "start_time": "2021-08-30T22:50:16.908Z"
   },
   {
    "duration": 16,
    "start_time": "2021-08-30T22:50:27.049Z"
   },
   {
    "duration": 2,
    "start_time": "2021-08-30T22:50:27.067Z"
   },
   {
    "duration": 28,
    "start_time": "2021-08-30T22:50:27.070Z"
   },
   {
    "duration": 11,
    "start_time": "2021-08-30T22:50:27.099Z"
   },
   {
    "duration": 10,
    "start_time": "2021-08-30T22:50:27.111Z"
   },
   {
    "duration": 10,
    "start_time": "2021-08-30T22:50:27.122Z"
   },
   {
    "duration": 10,
    "start_time": "2021-08-30T22:50:27.133Z"
   },
   {
    "duration": 40,
    "start_time": "2021-08-30T22:50:27.146Z"
   },
   {
    "duration": 14,
    "start_time": "2021-08-30T22:50:27.187Z"
   },
   {
    "duration": 4,
    "start_time": "2021-08-30T22:50:27.202Z"
   },
   {
    "duration": 21,
    "start_time": "2021-08-30T22:50:27.207Z"
   },
   {
    "duration": 3,
    "start_time": "2021-08-30T22:50:27.230Z"
   },
   {
    "duration": 12,
    "start_time": "2021-08-30T22:50:27.235Z"
   },
   {
    "duration": 45,
    "start_time": "2021-08-30T22:50:27.248Z"
   },
   {
    "duration": 4,
    "start_time": "2021-08-30T22:50:27.294Z"
   },
   {
    "duration": 508,
    "start_time": "2021-08-30T22:52:27.737Z"
   },
   {
    "duration": 51,
    "start_time": "2021-08-30T22:52:28.247Z"
   },
   {
    "duration": 17,
    "start_time": "2021-08-30T22:52:28.299Z"
   },
   {
    "duration": 11,
    "start_time": "2021-08-30T22:52:28.318Z"
   },
   {
    "duration": 9,
    "start_time": "2021-08-30T22:52:28.330Z"
   },
   {
    "duration": 8,
    "start_time": "2021-08-30T22:52:28.340Z"
   },
   {
    "duration": 5,
    "start_time": "2021-08-30T22:52:28.350Z"
   },
   {
    "duration": 39,
    "start_time": "2021-08-30T22:52:28.357Z"
   },
   {
    "duration": 8,
    "start_time": "2021-08-30T22:52:28.398Z"
   },
   {
    "duration": 4,
    "start_time": "2021-08-30T22:52:28.407Z"
   },
   {
    "duration": 7,
    "start_time": "2021-08-30T22:52:28.412Z"
   },
   {
    "duration": 11,
    "start_time": "2021-08-30T22:52:28.421Z"
   },
   {
    "duration": 6,
    "start_time": "2021-08-30T22:52:28.433Z"
   },
   {
    "duration": 5,
    "start_time": "2021-08-30T22:52:28.441Z"
   },
   {
    "duration": 46,
    "start_time": "2021-08-30T22:52:28.447Z"
   },
   {
    "duration": 4,
    "start_time": "2021-08-30T22:52:28.495Z"
   },
   {
    "duration": 23,
    "start_time": "2021-08-30T22:52:28.501Z"
   },
   {
    "duration": 15,
    "start_time": "2021-08-30T22:52:28.525Z"
   },
   {
    "duration": 7,
    "start_time": "2021-08-30T22:52:28.542Z"
   },
   {
    "duration": 17,
    "start_time": "2021-08-30T22:52:28.584Z"
   },
   {
    "duration": 8,
    "start_time": "2021-08-30T22:52:28.603Z"
   },
   {
    "duration": 18,
    "start_time": "2021-08-30T22:52:28.613Z"
   },
   {
    "duration": 17,
    "start_time": "2021-08-30T22:52:28.634Z"
   },
   {
    "duration": 4,
    "start_time": "2021-08-30T22:52:28.653Z"
   },
   {
    "duration": 19,
    "start_time": "2021-08-30T22:52:28.685Z"
   },
   {
    "duration": 11,
    "start_time": "2021-08-30T22:52:28.706Z"
   },
   {
    "duration": 7,
    "start_time": "2021-08-30T22:52:28.719Z"
   },
   {
    "duration": 5,
    "start_time": "2021-08-30T22:52:28.728Z"
   },
   {
    "duration": 4,
    "start_time": "2021-08-30T22:52:28.735Z"
   },
   {
    "duration": 9754,
    "start_time": "2021-08-30T22:52:28.740Z"
   },
   {
    "duration": 16,
    "start_time": "2021-08-30T22:52:38.496Z"
   },
   {
    "duration": 2,
    "start_time": "2021-08-30T22:52:38.514Z"
   },
   {
    "duration": 17,
    "start_time": "2021-08-30T22:52:38.518Z"
   },
   {
    "duration": 11,
    "start_time": "2021-08-30T22:52:38.537Z"
   },
   {
    "duration": 38,
    "start_time": "2021-08-30T22:52:38.550Z"
   },
   {
    "duration": 10,
    "start_time": "2021-08-30T22:52:38.590Z"
   },
   {
    "duration": 10,
    "start_time": "2021-08-30T22:52:38.601Z"
   },
   {
    "duration": 9,
    "start_time": "2021-08-30T22:52:38.613Z"
   },
   {
    "duration": 12,
    "start_time": "2021-08-30T22:52:38.624Z"
   },
   {
    "duration": 3,
    "start_time": "2021-08-30T22:52:38.638Z"
   },
   {
    "duration": 50,
    "start_time": "2021-08-30T22:52:38.642Z"
   },
   {
    "duration": 3,
    "start_time": "2021-08-30T22:52:38.694Z"
   },
   {
    "duration": 12,
    "start_time": "2021-08-30T22:52:38.699Z"
   },
   {
    "duration": 15,
    "start_time": "2021-08-30T22:52:38.712Z"
   },
   {
    "duration": 3,
    "start_time": "2021-08-30T22:52:38.729Z"
   },
   {
    "duration": 602,
    "start_time": "2021-08-31T07:27:41.491Z"
   },
   {
    "duration": 57,
    "start_time": "2021-08-31T07:27:42.096Z"
   },
   {
    "duration": 21,
    "start_time": "2021-08-31T07:27:42.155Z"
   },
   {
    "duration": 14,
    "start_time": "2021-08-31T07:27:42.178Z"
   },
   {
    "duration": 11,
    "start_time": "2021-08-31T07:27:42.194Z"
   },
   {
    "duration": 35,
    "start_time": "2021-08-31T07:27:42.207Z"
   },
   {
    "duration": 6,
    "start_time": "2021-08-31T07:27:42.244Z"
   },
   {
    "duration": 33,
    "start_time": "2021-08-31T07:27:42.253Z"
   },
   {
    "duration": 10,
    "start_time": "2021-08-31T07:27:42.288Z"
   },
   {
    "duration": 7,
    "start_time": "2021-08-31T07:27:42.300Z"
   },
   {
    "duration": 8,
    "start_time": "2021-08-31T07:27:42.309Z"
   },
   {
    "duration": 30,
    "start_time": "2021-08-31T07:27:42.318Z"
   },
   {
    "duration": 6,
    "start_time": "2021-08-31T07:27:42.350Z"
   },
   {
    "duration": 9,
    "start_time": "2021-08-31T07:27:42.357Z"
   },
   {
    "duration": 14,
    "start_time": "2021-08-31T07:27:42.368Z"
   },
   {
    "duration": 14,
    "start_time": "2021-08-31T07:27:42.383Z"
   },
   {
    "duration": 42,
    "start_time": "2021-08-31T07:27:42.399Z"
   },
   {
    "duration": 14,
    "start_time": "2021-08-31T07:27:42.443Z"
   },
   {
    "duration": 7,
    "start_time": "2021-08-31T07:27:42.459Z"
   },
   {
    "duration": 27,
    "start_time": "2021-08-31T07:27:42.468Z"
   },
   {
    "duration": 7,
    "start_time": "2021-08-31T07:27:42.497Z"
   },
   {
    "duration": 39,
    "start_time": "2021-08-31T07:27:42.506Z"
   },
   {
    "duration": 17,
    "start_time": "2021-08-31T07:27:42.548Z"
   },
   {
    "duration": 3,
    "start_time": "2021-08-31T07:27:42.568Z"
   },
   {
    "duration": 31,
    "start_time": "2021-08-31T07:27:42.573Z"
   },
   {
    "duration": 10,
    "start_time": "2021-08-31T07:27:42.606Z"
   },
   {
    "duration": 27,
    "start_time": "2021-08-31T07:27:42.618Z"
   },
   {
    "duration": 12,
    "start_time": "2021-08-31T07:27:42.647Z"
   },
   {
    "duration": 7,
    "start_time": "2021-08-31T07:27:42.661Z"
   },
   {
    "duration": 12065,
    "start_time": "2021-08-31T07:27:42.670Z"
   },
   {
    "duration": 19,
    "start_time": "2021-08-31T07:27:54.740Z"
   },
   {
    "duration": 3,
    "start_time": "2021-08-31T07:27:54.761Z"
   },
   {
    "duration": 18,
    "start_time": "2021-08-31T07:27:54.766Z"
   },
   {
    "duration": 13,
    "start_time": "2021-08-31T07:27:54.786Z"
   },
   {
    "duration": 49,
    "start_time": "2021-08-31T07:27:54.801Z"
   },
   {
    "duration": 11,
    "start_time": "2021-08-31T07:27:54.852Z"
   },
   {
    "duration": 11,
    "start_time": "2021-08-31T07:27:54.865Z"
   },
   {
    "duration": 10,
    "start_time": "2021-08-31T07:27:54.878Z"
   },
   {
    "duration": 16,
    "start_time": "2021-08-31T07:27:54.890Z"
   },
   {
    "duration": 34,
    "start_time": "2021-08-31T07:27:54.908Z"
   },
   {
    "duration": 23,
    "start_time": "2021-08-31T07:27:54.944Z"
   },
   {
    "duration": 4,
    "start_time": "2021-08-31T07:27:54.969Z"
   },
   {
    "duration": 21,
    "start_time": "2021-08-31T07:27:54.974Z"
   },
   {
    "duration": 18,
    "start_time": "2021-08-31T07:27:54.997Z"
   },
   {
    "duration": 25,
    "start_time": "2021-08-31T07:27:55.017Z"
   },
   {
    "duration": 673,
    "start_time": "2021-08-31T07:28:47.412Z"
   },
   {
    "duration": 60,
    "start_time": "2021-08-31T07:28:48.087Z"
   },
   {
    "duration": 22,
    "start_time": "2021-08-31T07:28:48.149Z"
   },
   {
    "duration": 13,
    "start_time": "2021-08-31T07:28:48.173Z"
   },
   {
    "duration": 11,
    "start_time": "2021-08-31T07:28:48.188Z"
   },
   {
    "duration": 13,
    "start_time": "2021-08-31T07:28:48.201Z"
   },
   {
    "duration": 10,
    "start_time": "2021-08-31T07:28:48.241Z"
   },
   {
    "duration": 25,
    "start_time": "2021-08-31T07:28:48.253Z"
   },
   {
    "duration": 12,
    "start_time": "2021-08-31T07:28:48.282Z"
   },
   {
    "duration": 5,
    "start_time": "2021-08-31T07:28:48.297Z"
   },
   {
    "duration": 40,
    "start_time": "2021-08-31T07:28:48.304Z"
   },
   {
    "duration": 15,
    "start_time": "2021-08-31T07:28:48.346Z"
   },
   {
    "duration": 7,
    "start_time": "2021-08-31T07:28:48.363Z"
   },
   {
    "duration": 6,
    "start_time": "2021-08-31T07:28:48.371Z"
   },
   {
    "duration": 13,
    "start_time": "2021-08-31T07:28:48.379Z"
   },
   {
    "duration": 3,
    "start_time": "2021-08-31T07:28:48.394Z"
   },
   {
    "duration": 60,
    "start_time": "2021-08-31T07:28:48.399Z"
   },
   {
    "duration": 17,
    "start_time": "2021-08-31T07:28:48.461Z"
   },
   {
    "duration": 13,
    "start_time": "2021-08-31T07:28:48.480Z"
   },
   {
    "duration": 27,
    "start_time": "2021-08-31T07:28:48.496Z"
   },
   {
    "duration": 23,
    "start_time": "2021-08-31T07:28:48.525Z"
   },
   {
    "duration": 40,
    "start_time": "2021-08-31T07:28:48.550Z"
   },
   {
    "duration": 26,
    "start_time": "2021-08-31T07:28:48.591Z"
   },
   {
    "duration": 4,
    "start_time": "2021-08-31T07:28:48.619Z"
   },
   {
    "duration": 43,
    "start_time": "2021-08-31T07:28:48.625Z"
   },
   {
    "duration": 12,
    "start_time": "2021-08-31T07:28:48.670Z"
   },
   {
    "duration": 20,
    "start_time": "2021-08-31T07:28:48.686Z"
   },
   {
    "duration": 39,
    "start_time": "2021-08-31T07:28:48.708Z"
   },
   {
    "duration": 4,
    "start_time": "2021-08-31T07:28:48.749Z"
   },
   {
    "duration": 11995,
    "start_time": "2021-08-31T07:28:48.755Z"
   },
   {
    "duration": 18,
    "start_time": "2021-08-31T07:29:00.752Z"
   },
   {
    "duration": 6,
    "start_time": "2021-08-31T07:29:00.772Z"
   },
   {
    "duration": 58,
    "start_time": "2021-08-31T07:29:00.780Z"
   },
   {
    "duration": 25,
    "start_time": "2021-08-31T07:29:00.841Z"
   },
   {
    "duration": 22,
    "start_time": "2021-08-31T07:29:00.869Z"
   },
   {
    "duration": 20,
    "start_time": "2021-08-31T07:29:00.894Z"
   },
   {
    "duration": 38,
    "start_time": "2021-08-31T07:29:00.917Z"
   },
   {
    "duration": 24,
    "start_time": "2021-08-31T07:29:00.958Z"
   },
   {
    "duration": 39,
    "start_time": "2021-08-31T07:29:00.985Z"
   },
   {
    "duration": 13,
    "start_time": "2021-08-31T07:29:01.026Z"
   },
   {
    "duration": 93,
    "start_time": "2021-08-31T07:29:01.054Z"
   },
   {
    "duration": 13,
    "start_time": "2021-08-31T07:29:01.157Z"
   },
   {
    "duration": 23,
    "start_time": "2021-08-31T07:29:01.181Z"
   },
   {
    "duration": 35,
    "start_time": "2021-08-31T07:29:01.206Z"
   },
   {
    "duration": 9,
    "start_time": "2021-08-31T07:29:01.243Z"
   },
   {
    "duration": 751,
    "start_time": "2021-08-31T09:55:09.605Z"
   },
   {
    "duration": 62,
    "start_time": "2021-08-31T09:55:10.359Z"
   },
   {
    "duration": 29,
    "start_time": "2021-08-31T09:55:10.424Z"
   },
   {
    "duration": 32,
    "start_time": "2021-08-31T09:55:10.456Z"
   },
   {
    "duration": 11,
    "start_time": "2021-08-31T09:55:10.491Z"
   },
   {
    "duration": 11,
    "start_time": "2021-08-31T09:55:10.505Z"
   },
   {
    "duration": 8,
    "start_time": "2021-08-31T09:55:10.519Z"
   },
   {
    "duration": 67,
    "start_time": "2021-08-31T09:55:10.531Z"
   },
   {
    "duration": 13,
    "start_time": "2021-08-31T09:55:10.600Z"
   },
   {
    "duration": 8,
    "start_time": "2021-08-31T09:55:10.615Z"
   },
   {
    "duration": 17,
    "start_time": "2021-08-31T09:55:10.625Z"
   },
   {
    "duration": 43,
    "start_time": "2021-08-31T09:55:10.644Z"
   },
   {
    "duration": 7,
    "start_time": "2021-08-31T09:55:10.689Z"
   },
   {
    "duration": 7,
    "start_time": "2021-08-31T09:55:10.699Z"
   },
   {
    "duration": 17,
    "start_time": "2021-08-31T09:55:10.708Z"
   },
   {
    "duration": 6,
    "start_time": "2021-08-31T09:55:10.728Z"
   },
   {
    "duration": 95,
    "start_time": "2021-08-31T09:55:10.737Z"
   },
   {
    "duration": 26,
    "start_time": "2021-08-31T09:55:10.835Z"
   },
   {
    "duration": 26,
    "start_time": "2021-08-31T09:55:10.863Z"
   },
   {
    "duration": 28,
    "start_time": "2021-08-31T09:55:10.891Z"
   },
   {
    "duration": 13,
    "start_time": "2021-08-31T09:55:10.922Z"
   },
   {
    "duration": 55,
    "start_time": "2021-08-31T09:55:10.938Z"
   },
   {
    "duration": 28,
    "start_time": "2021-08-31T09:55:10.998Z"
   },
   {
    "duration": 4,
    "start_time": "2021-08-31T09:55:11.029Z"
   },
   {
    "duration": 61,
    "start_time": "2021-08-31T09:55:11.035Z"
   },
   {
    "duration": 15,
    "start_time": "2021-08-31T09:55:11.099Z"
   },
   {
    "duration": 10,
    "start_time": "2021-08-31T09:55:11.117Z"
   },
   {
    "duration": 7,
    "start_time": "2021-08-31T09:55:11.130Z"
   },
   {
    "duration": 44,
    "start_time": "2021-08-31T09:55:11.140Z"
   },
   {
    "duration": 17661,
    "start_time": "2021-08-31T09:55:11.188Z"
   },
   {
    "duration": 32,
    "start_time": "2021-08-31T09:55:28.852Z"
   },
   {
    "duration": 3,
    "start_time": "2021-08-31T09:55:28.887Z"
   },
   {
    "duration": 27,
    "start_time": "2021-08-31T09:55:28.893Z"
   },
   {
    "duration": 16,
    "start_time": "2021-08-31T09:55:28.923Z"
   },
   {
    "duration": 48,
    "start_time": "2021-08-31T09:55:28.941Z"
   },
   {
    "duration": 13,
    "start_time": "2021-08-31T09:55:28.992Z"
   },
   {
    "duration": 15,
    "start_time": "2021-08-31T09:55:29.008Z"
   },
   {
    "duration": 15,
    "start_time": "2021-08-31T09:55:29.026Z"
   },
   {
    "duration": 55,
    "start_time": "2021-08-31T09:55:29.044Z"
   },
   {
    "duration": 5,
    "start_time": "2021-08-31T09:55:29.101Z"
   },
   {
    "duration": 35,
    "start_time": "2021-08-31T09:55:29.108Z"
   },
   {
    "duration": 37,
    "start_time": "2021-08-31T09:55:29.146Z"
   },
   {
    "duration": 16,
    "start_time": "2021-08-31T09:55:29.186Z"
   },
   {
    "duration": 28,
    "start_time": "2021-08-31T09:55:29.205Z"
   },
   {
    "duration": 5,
    "start_time": "2021-08-31T09:55:29.235Z"
   },
   {
    "duration": 778,
    "start_time": "2021-09-01T06:27:35.015Z"
   },
   {
    "duration": 64,
    "start_time": "2021-09-01T06:27:35.796Z"
   },
   {
    "duration": 27,
    "start_time": "2021-09-01T06:27:35.863Z"
   },
   {
    "duration": 18,
    "start_time": "2021-09-01T06:27:35.893Z"
   },
   {
    "duration": 11,
    "start_time": "2021-09-01T06:27:35.913Z"
   },
   {
    "duration": 37,
    "start_time": "2021-09-01T06:27:35.927Z"
   },
   {
    "duration": 8,
    "start_time": "2021-09-01T06:27:35.966Z"
   },
   {
    "duration": 33,
    "start_time": "2021-09-01T06:27:35.980Z"
   },
   {
    "duration": 45,
    "start_time": "2021-09-01T06:27:36.018Z"
   },
   {
    "duration": 8,
    "start_time": "2021-09-01T06:27:36.066Z"
   },
   {
    "duration": 14,
    "start_time": "2021-09-01T06:27:36.077Z"
   },
   {
    "duration": 25,
    "start_time": "2021-09-01T06:27:36.093Z"
   },
   {
    "duration": 42,
    "start_time": "2021-09-01T06:27:36.121Z"
   },
   {
    "duration": 6,
    "start_time": "2021-09-01T06:27:36.165Z"
   },
   {
    "duration": 36,
    "start_time": "2021-09-01T06:27:36.173Z"
   },
   {
    "duration": 32,
    "start_time": "2021-09-01T06:27:36.212Z"
   },
   {
    "duration": 36,
    "start_time": "2021-09-01T06:27:36.246Z"
   },
   {
    "duration": 19,
    "start_time": "2021-09-01T06:27:36.285Z"
   },
   {
    "duration": 9,
    "start_time": "2021-09-01T06:27:36.306Z"
   },
   {
    "duration": 50,
    "start_time": "2021-09-01T06:27:36.317Z"
   },
   {
    "duration": 12,
    "start_time": "2021-09-01T06:27:36.370Z"
   },
   {
    "duration": 35,
    "start_time": "2021-09-01T06:27:36.385Z"
   },
   {
    "duration": 57,
    "start_time": "2021-09-01T06:27:36.427Z"
   },
   {
    "duration": 6,
    "start_time": "2021-09-01T06:27:36.488Z"
   },
   {
    "duration": 35,
    "start_time": "2021-09-01T06:27:36.497Z"
   },
   {
    "duration": 40,
    "start_time": "2021-09-01T06:27:36.535Z"
   },
   {
    "duration": 10,
    "start_time": "2021-09-01T06:27:36.577Z"
   },
   {
    "duration": 6,
    "start_time": "2021-09-01T06:27:36.590Z"
   },
   {
    "duration": 7,
    "start_time": "2021-09-01T06:27:36.599Z"
   },
   {
    "duration": 16922,
    "start_time": "2021-09-01T06:27:36.608Z"
   },
   {
    "duration": 34,
    "start_time": "2021-09-01T06:27:53.533Z"
   },
   {
    "duration": 4,
    "start_time": "2021-09-01T06:27:53.569Z"
   },
   {
    "duration": 25,
    "start_time": "2021-09-01T06:27:53.576Z"
   },
   {
    "duration": 16,
    "start_time": "2021-09-01T06:27:53.603Z"
   },
   {
    "duration": 53,
    "start_time": "2021-09-01T06:27:53.621Z"
   },
   {
    "duration": 15,
    "start_time": "2021-09-01T06:27:53.676Z"
   },
   {
    "duration": 14,
    "start_time": "2021-09-01T06:27:53.693Z"
   },
   {
    "duration": 13,
    "start_time": "2021-09-01T06:27:53.710Z"
   },
   {
    "duration": 20,
    "start_time": "2021-09-01T06:27:53.762Z"
   },
   {
    "duration": 5,
    "start_time": "2021-09-01T06:27:53.785Z"
   },
   {
    "duration": 36,
    "start_time": "2021-09-01T06:27:53.793Z"
   },
   {
    "duration": 35,
    "start_time": "2021-09-01T06:27:53.831Z"
   },
   {
    "duration": 16,
    "start_time": "2021-09-01T06:27:53.868Z"
   },
   {
    "duration": 24,
    "start_time": "2021-09-01T06:27:53.887Z"
   },
   {
    "duration": 5,
    "start_time": "2021-09-01T06:27:53.913Z"
   },
   {
    "duration": 610,
    "start_time": "2021-09-01T08:05:52.872Z"
   },
   {
    "duration": 573,
    "start_time": "2021-09-01T08:06:28.183Z"
   },
   {
    "duration": 51,
    "start_time": "2021-09-01T08:06:31.447Z"
   },
   {
    "duration": 18,
    "start_time": "2021-09-01T08:06:33.855Z"
   },
   {
    "duration": 11,
    "start_time": "2021-09-01T08:06:37.289Z"
   },
   {
    "duration": 9,
    "start_time": "2021-09-01T08:08:28.648Z"
   },
   {
    "duration": 6,
    "start_time": "2021-09-01T08:08:31.274Z"
   },
   {
    "duration": 6,
    "start_time": "2021-09-01T08:08:38.112Z"
   },
   {
    "duration": 19,
    "start_time": "2021-09-01T08:08:44.508Z"
   },
   {
    "duration": 12,
    "start_time": "2021-09-01T08:09:10.466Z"
   },
   {
    "duration": 17,
    "start_time": "2021-09-01T08:09:20.300Z"
   },
   {
    "duration": 12,
    "start_time": "2021-09-01T08:09:25.755Z"
   },
   {
    "duration": 13,
    "start_time": "2021-09-01T08:13:19.517Z"
   },
   {
    "duration": 9,
    "start_time": "2021-09-01T08:14:08.015Z"
   },
   {
    "duration": 5,
    "start_time": "2021-09-01T08:14:12.015Z"
   },
   {
    "duration": 44,
    "start_time": "2021-09-01T08:14:15.016Z"
   },
   {
    "duration": 306,
    "start_time": "2021-09-01T08:20:27.865Z"
   },
   {
    "duration": 11,
    "start_time": "2021-09-01T08:20:39.689Z"
   },
   {
    "duration": 13,
    "start_time": "2021-09-01T08:23:59.409Z"
   },
   {
    "duration": 14,
    "start_time": "2021-09-01T08:24:28.032Z"
   },
   {
    "duration": 14,
    "start_time": "2021-09-01T08:24:35.609Z"
   },
   {
    "duration": 14,
    "start_time": "2021-09-01T08:27:30.840Z"
   },
   {
    "duration": 15,
    "start_time": "2021-09-01T08:34:14.394Z"
   },
   {
    "duration": 7437,
    "start_time": "2021-09-01T08:36:26.236Z"
   },
   {
    "duration": 7,
    "start_time": "2021-09-01T08:37:02.596Z"
   },
   {
    "duration": 589,
    "start_time": "2021-09-01T08:43:44.509Z"
   },
   {
    "duration": 53,
    "start_time": "2021-09-01T08:43:46.145Z"
   },
   {
    "duration": 19,
    "start_time": "2021-09-01T08:43:46.896Z"
   },
   {
    "duration": 12,
    "start_time": "2021-09-01T08:43:47.577Z"
   },
   {
    "duration": 10,
    "start_time": "2021-09-01T08:43:49.857Z"
   },
   {
    "duration": 6,
    "start_time": "2021-09-01T08:43:54.869Z"
   },
   {
    "duration": 9,
    "start_time": "2021-09-01T08:43:58.217Z"
   },
   {
    "duration": 13,
    "start_time": "2021-09-01T08:44:03.660Z"
   },
   {
    "duration": 8,
    "start_time": "2021-09-01T08:48:01.548Z"
   },
   {
    "duration": 7,
    "start_time": "2021-09-01T08:49:56.136Z"
   },
   {
    "duration": 6,
    "start_time": "2021-09-01T08:50:49.850Z"
   },
   {
    "duration": 6,
    "start_time": "2021-09-01T08:51:02.515Z"
   },
   {
    "duration": 13,
    "start_time": "2021-09-01T08:52:00.396Z"
   },
   {
    "duration": 9,
    "start_time": "2021-09-01T08:52:27.315Z"
   },
   {
    "duration": 9,
    "start_time": "2021-09-01T08:54:40.713Z"
   },
   {
    "duration": 319,
    "start_time": "2021-09-01T08:54:54.723Z"
   },
   {
    "duration": 245,
    "start_time": "2021-09-01T08:55:28.748Z"
   },
   {
    "duration": 7,
    "start_time": "2021-09-01T08:55:41.924Z"
   },
   {
    "duration": 5,
    "start_time": "2021-09-01T08:55:53.002Z"
   },
   {
    "duration": 7,
    "start_time": "2021-09-01T08:56:03.123Z"
   },
   {
    "duration": 7,
    "start_time": "2021-09-01T08:56:16.112Z"
   },
   {
    "duration": 20,
    "start_time": "2021-09-01T08:57:12.635Z"
   },
   {
    "duration": 8,
    "start_time": "2021-09-01T08:57:25.120Z"
   },
   {
    "duration": 7,
    "start_time": "2021-09-01T08:57:37.464Z"
   },
   {
    "duration": 7,
    "start_time": "2021-09-01T09:08:42.671Z"
   },
   {
    "duration": 245,
    "start_time": "2021-09-01T09:10:37.285Z"
   },
   {
    "duration": 8,
    "start_time": "2021-09-01T09:10:44.461Z"
   },
   {
    "duration": 7,
    "start_time": "2021-09-01T09:10:53.061Z"
   },
   {
    "duration": 28,
    "start_time": "2021-09-01T09:18:06.772Z"
   },
   {
    "duration": 557,
    "start_time": "2021-09-01T09:18:57.202Z"
   },
   {
    "duration": 47,
    "start_time": "2021-09-01T09:18:57.761Z"
   },
   {
    "duration": 19,
    "start_time": "2021-09-01T09:18:57.929Z"
   },
   {
    "duration": 10,
    "start_time": "2021-09-01T09:18:58.170Z"
   },
   {
    "duration": 9,
    "start_time": "2021-09-01T09:18:59.566Z"
   },
   {
    "duration": 6,
    "start_time": "2021-09-01T09:19:00.003Z"
   },
   {
    "duration": 9,
    "start_time": "2021-09-01T09:19:00.365Z"
   },
   {
    "duration": 13,
    "start_time": "2021-09-01T09:19:01.059Z"
   },
   {
    "duration": 6,
    "start_time": "2021-09-01T09:19:02.365Z"
   },
   {
    "duration": 6,
    "start_time": "2021-09-01T09:19:03.520Z"
   },
   {
    "duration": 13,
    "start_time": "2021-09-01T09:19:05.664Z"
   },
   {
    "duration": 9,
    "start_time": "2021-09-01T09:19:07.401Z"
   },
   {
    "duration": 7,
    "start_time": "2021-09-01T09:19:11.493Z"
   },
   {
    "duration": 6,
    "start_time": "2021-09-01T09:19:13.342Z"
   },
   {
    "duration": 7,
    "start_time": "2021-09-01T09:19:56.775Z"
   },
   {
    "duration": 7,
    "start_time": "2021-09-01T09:20:43.181Z"
   },
   {
    "duration": 8,
    "start_time": "2021-09-01T09:20:58.501Z"
   },
   {
    "duration": 19,
    "start_time": "2021-09-01T09:21:05.852Z"
   },
   {
    "duration": 5,
    "start_time": "2021-09-01T09:21:41.679Z"
   },
   {
    "duration": 10,
    "start_time": "2021-09-01T09:21:46.252Z"
   },
   {
    "duration": 8,
    "start_time": "2021-09-01T09:21:54.824Z"
   },
   {
    "duration": 8,
    "start_time": "2021-09-01T09:22:05.000Z"
   },
   {
    "duration": 7,
    "start_time": "2021-09-01T09:22:10.481Z"
   },
   {
    "duration": 8,
    "start_time": "2021-09-01T09:23:55.935Z"
   },
   {
    "duration": 8,
    "start_time": "2021-09-01T09:24:54.767Z"
   },
   {
    "duration": 8,
    "start_time": "2021-09-01T09:25:06.166Z"
   },
   {
    "duration": 8,
    "start_time": "2021-09-01T09:25:21.374Z"
   },
   {
    "duration": 8,
    "start_time": "2021-09-01T09:25:27.662Z"
   },
   {
    "duration": 7,
    "start_time": "2021-09-01T09:29:39.015Z"
   },
   {
    "duration": 7,
    "start_time": "2021-09-01T09:30:06.771Z"
   },
   {
    "duration": 595,
    "start_time": "2021-09-01T09:30:22.237Z"
   },
   {
    "duration": 51,
    "start_time": "2021-09-01T09:30:22.834Z"
   },
   {
    "duration": 19,
    "start_time": "2021-09-01T09:30:22.890Z"
   },
   {
    "duration": 13,
    "start_time": "2021-09-01T09:30:23.216Z"
   },
   {
    "duration": 10,
    "start_time": "2021-09-01T09:30:24.410Z"
   },
   {
    "duration": 5,
    "start_time": "2021-09-01T09:30:25.155Z"
   },
   {
    "duration": 9,
    "start_time": "2021-09-01T09:30:25.437Z"
   },
   {
    "duration": 13,
    "start_time": "2021-09-01T09:30:27.919Z"
   },
   {
    "duration": 6,
    "start_time": "2021-09-01T09:30:29.061Z"
   },
   {
    "duration": 7,
    "start_time": "2021-09-01T09:30:29.299Z"
   },
   {
    "duration": 14,
    "start_time": "2021-09-01T09:30:32.532Z"
   },
   {
    "duration": 10,
    "start_time": "2021-09-01T09:30:33.846Z"
   },
   {
    "duration": 6,
    "start_time": "2021-09-01T09:30:37.382Z"
   },
   {
    "duration": 9,
    "start_time": "2021-09-01T09:30:41.156Z"
   },
   {
    "duration": 13,
    "start_time": "2021-09-01T09:31:06.286Z"
   },
   {
    "duration": 14,
    "start_time": "2021-09-01T09:31:38.132Z"
   },
   {
    "duration": 13,
    "start_time": "2021-09-01T09:31:45.071Z"
   },
   {
    "duration": 12,
    "start_time": "2021-09-01T09:32:04.148Z"
   },
   {
    "duration": 16,
    "start_time": "2021-09-01T09:33:54.992Z"
   },
   {
    "duration": 341,
    "start_time": "2021-09-01T09:35:45.083Z"
   },
   {
    "duration": 13,
    "start_time": "2021-09-01T09:36:36.511Z"
   },
   {
    "duration": 4,
    "start_time": "2021-09-01T09:41:53.653Z"
   },
   {
    "duration": 380,
    "start_time": "2021-09-01T09:44:48.348Z"
   },
   {
    "duration": 7,
    "start_time": "2021-09-01T09:45:30.859Z"
   },
   {
    "duration": 231,
    "start_time": "2021-09-01T09:46:55.734Z"
   },
   {
    "duration": 607,
    "start_time": "2021-09-01T09:47:41.461Z"
   },
   {
    "duration": 50,
    "start_time": "2021-09-01T09:47:42.071Z"
   },
   {
    "duration": 24,
    "start_time": "2021-09-01T09:47:42.305Z"
   },
   {
    "duration": 12,
    "start_time": "2021-09-01T09:47:42.711Z"
   },
   {
    "duration": 9,
    "start_time": "2021-09-01T09:47:44.188Z"
   },
   {
    "duration": 5,
    "start_time": "2021-09-01T09:47:44.713Z"
   },
   {
    "duration": 11,
    "start_time": "2021-09-01T09:47:45.082Z"
   },
   {
    "duration": 20,
    "start_time": "2021-09-01T09:47:45.760Z"
   },
   {
    "duration": 8,
    "start_time": "2021-09-01T09:47:47.708Z"
   },
   {
    "duration": 8,
    "start_time": "2021-09-01T09:47:48.122Z"
   },
   {
    "duration": 16,
    "start_time": "2021-09-01T09:47:53.583Z"
   },
   {
    "duration": 12,
    "start_time": "2021-09-01T09:47:55.112Z"
   },
   {
    "duration": 9,
    "start_time": "2021-09-01T09:48:27.357Z"
   },
   {
    "duration": 14,
    "start_time": "2021-09-01T09:49:05.116Z"
   },
   {
    "duration": 14,
    "start_time": "2021-09-01T09:49:23.220Z"
   },
   {
    "duration": 4,
    "start_time": "2021-09-01T09:49:31.072Z"
   },
   {
    "duration": 336,
    "start_time": "2021-09-01T09:49:33.044Z"
   },
   {
    "duration": 7,
    "start_time": "2021-09-01T09:50:22.644Z"
   },
   {
    "duration": 4,
    "start_time": "2021-09-01T09:50:50.162Z"
   },
   {
    "duration": 249,
    "start_time": "2021-09-01T09:50:56.182Z"
   },
   {
    "duration": 241,
    "start_time": "2021-09-01T09:51:11.431Z"
   },
   {
    "duration": 5,
    "start_time": "2021-09-01T09:52:20.390Z"
   },
   {
    "duration": 256,
    "start_time": "2021-09-01T09:52:39.305Z"
   },
   {
    "duration": 13,
    "start_time": "2021-09-01T09:53:22.603Z"
   },
   {
    "duration": 13,
    "start_time": "2021-09-01T09:53:47.642Z"
   },
   {
    "duration": 17,
    "start_time": "2021-09-01T09:53:54.551Z"
   },
   {
    "duration": 12,
    "start_time": "2021-09-01T09:54:00.156Z"
   },
   {
    "duration": 12,
    "start_time": "2021-09-01T09:54:29.621Z"
   },
   {
    "duration": 13,
    "start_time": "2021-09-01T09:54:57.596Z"
   },
   {
    "duration": 285,
    "start_time": "2021-09-01T09:56:15.555Z"
   },
   {
    "duration": 2,
    "start_time": "2021-09-01T09:56:26.675Z"
   },
   {
    "duration": 49,
    "start_time": "2021-09-01T09:56:27.402Z"
   },
   {
    "duration": 13,
    "start_time": "2021-09-01T09:56:27.758Z"
   },
   {
    "duration": 11,
    "start_time": "2021-09-01T09:56:28.183Z"
   },
   {
    "duration": 10,
    "start_time": "2021-09-01T09:56:29.705Z"
   },
   {
    "duration": 5,
    "start_time": "2021-09-01T09:56:30.193Z"
   },
   {
    "duration": 5,
    "start_time": "2021-09-01T09:56:30.540Z"
   },
   {
    "duration": 14,
    "start_time": "2021-09-01T09:56:31.475Z"
   },
   {
    "duration": 7,
    "start_time": "2021-09-01T09:56:32.385Z"
   },
   {
    "duration": 6,
    "start_time": "2021-09-01T09:56:32.762Z"
   },
   {
    "duration": 568,
    "start_time": "2021-09-01T09:56:45.124Z"
   },
   {
    "duration": 49,
    "start_time": "2021-09-01T09:56:45.694Z"
   },
   {
    "duration": 18,
    "start_time": "2021-09-01T09:56:46.602Z"
   },
   {
    "duration": 11,
    "start_time": "2021-09-01T09:56:47.301Z"
   },
   {
    "duration": 9,
    "start_time": "2021-09-01T09:56:49.202Z"
   },
   {
    "duration": 5,
    "start_time": "2021-09-01T09:56:49.819Z"
   },
   {
    "duration": 9,
    "start_time": "2021-09-01T09:56:50.298Z"
   },
   {
    "duration": 13,
    "start_time": "2021-09-01T09:56:51.431Z"
   },
   {
    "duration": 6,
    "start_time": "2021-09-01T09:56:52.989Z"
   },
   {
    "duration": 7,
    "start_time": "2021-09-01T09:56:53.800Z"
   },
   {
    "duration": 14,
    "start_time": "2021-09-01T09:56:54.794Z"
   },
   {
    "duration": 11,
    "start_time": "2021-09-01T09:56:55.384Z"
   },
   {
    "duration": 7,
    "start_time": "2021-09-01T09:56:56.385Z"
   },
   {
    "duration": 15,
    "start_time": "2021-09-01T09:56:56.712Z"
   },
   {
    "duration": 12,
    "start_time": "2021-09-01T09:56:58.404Z"
   },
   {
    "duration": 12,
    "start_time": "2021-09-01T09:57:23.036Z"
   },
   {
    "duration": 4,
    "start_time": "2021-09-01T09:57:34.341Z"
   },
   {
    "duration": 323,
    "start_time": "2021-09-01T09:57:36.063Z"
   },
   {
    "duration": 249,
    "start_time": "2021-09-01T09:57:50.087Z"
   },
   {
    "duration": 268,
    "start_time": "2021-09-01T09:58:00.042Z"
   },
   {
    "duration": 8,
    "start_time": "2021-09-01T09:58:34.112Z"
   },
   {
    "duration": 280,
    "start_time": "2021-09-01T09:59:04.833Z"
   },
   {
    "duration": 6,
    "start_time": "2021-09-01T09:59:32.592Z"
   },
   {
    "duration": 314,
    "start_time": "2021-09-01T09:59:59.181Z"
   },
   {
    "duration": 5,
    "start_time": "2021-09-01T10:01:09.161Z"
   },
   {
    "duration": 5,
    "start_time": "2021-09-01T10:02:35.399Z"
   },
   {
    "duration": 7,
    "start_time": "2021-09-01T10:02:46.924Z"
   },
   {
    "duration": 570,
    "start_time": "2021-09-01T10:03:15.110Z"
   },
   {
    "duration": 49,
    "start_time": "2021-09-01T10:03:15.682Z"
   },
   {
    "duration": 18,
    "start_time": "2021-09-01T10:03:15.733Z"
   },
   {
    "duration": 21,
    "start_time": "2021-09-01T10:03:15.753Z"
   },
   {
    "duration": 22,
    "start_time": "2021-09-01T10:03:15.775Z"
   },
   {
    "duration": 8,
    "start_time": "2021-09-01T10:03:15.798Z"
   },
   {
    "duration": 10,
    "start_time": "2021-09-01T10:03:15.808Z"
   },
   {
    "duration": 13,
    "start_time": "2021-09-01T10:03:15.820Z"
   },
   {
    "duration": 9,
    "start_time": "2021-09-01T10:03:15.835Z"
   },
   {
    "duration": 16,
    "start_time": "2021-09-01T10:03:15.846Z"
   },
   {
    "duration": 27,
    "start_time": "2021-09-01T10:03:15.864Z"
   },
   {
    "duration": 8,
    "start_time": "2021-09-01T10:03:15.893Z"
   },
   {
    "duration": 11,
    "start_time": "2021-09-01T10:03:15.903Z"
   },
   {
    "duration": 24,
    "start_time": "2021-09-01T10:03:15.916Z"
   },
   {
    "duration": 12,
    "start_time": "2021-09-01T10:03:15.942Z"
   },
   {
    "duration": 6,
    "start_time": "2021-09-01T10:03:15.956Z"
   },
   {
    "duration": 14,
    "start_time": "2021-09-01T10:03:15.963Z"
   },
   {
    "duration": 18,
    "start_time": "2021-09-01T10:03:15.978Z"
   },
   {
    "duration": 16,
    "start_time": "2021-09-01T10:03:15.997Z"
   },
   {
    "duration": 15,
    "start_time": "2021-09-01T10:03:16.015Z"
   },
   {
    "duration": 7,
    "start_time": "2021-09-01T10:03:16.032Z"
   },
   {
    "duration": 30,
    "start_time": "2021-09-01T10:03:16.040Z"
   },
   {
    "duration": 18,
    "start_time": "2021-09-01T10:03:16.073Z"
   },
   {
    "duration": 7,
    "start_time": "2021-09-01T10:03:16.093Z"
   },
   {
    "duration": 18,
    "start_time": "2021-09-01T10:03:16.102Z"
   },
   {
    "duration": 13,
    "start_time": "2021-09-01T10:03:16.122Z"
   },
   {
    "duration": 22,
    "start_time": "2021-09-01T10:03:16.136Z"
   },
   {
    "duration": 31,
    "start_time": "2021-09-01T10:03:16.160Z"
   },
   {
    "duration": 4,
    "start_time": "2021-09-01T10:03:16.193Z"
   },
   {
    "duration": 29,
    "start_time": "2021-09-01T10:03:16.199Z"
   },
   {
    "duration": 16,
    "start_time": "2021-09-01T10:03:16.230Z"
   },
   {
    "duration": 11,
    "start_time": "2021-09-01T10:03:16.248Z"
   },
   {
    "duration": 30,
    "start_time": "2021-09-01T10:03:16.261Z"
   },
   {
    "duration": 6,
    "start_time": "2021-09-01T10:03:16.293Z"
   },
   {
    "duration": 11057,
    "start_time": "2021-09-01T10:03:16.301Z"
   },
   {
    "duration": 19,
    "start_time": "2021-09-01T10:03:27.359Z"
   },
   {
    "duration": 11,
    "start_time": "2021-09-01T10:03:27.380Z"
   },
   {
    "duration": 16,
    "start_time": "2021-09-01T10:03:27.393Z"
   },
   {
    "duration": 12,
    "start_time": "2021-09-01T10:03:27.411Z"
   },
   {
    "duration": 10,
    "start_time": "2021-09-01T10:03:27.424Z"
   },
   {
    "duration": 9,
    "start_time": "2021-09-01T10:03:27.436Z"
   },
   {
    "duration": 52,
    "start_time": "2021-09-01T10:03:27.446Z"
   },
   {
    "duration": 10,
    "start_time": "2021-09-01T10:03:27.500Z"
   },
   {
    "duration": 15,
    "start_time": "2021-09-01T10:03:27.511Z"
   },
   {
    "duration": 3,
    "start_time": "2021-09-01T10:03:27.528Z"
   },
   {
    "duration": 25,
    "start_time": "2021-09-01T10:03:27.533Z"
   },
   {
    "duration": 3,
    "start_time": "2021-09-01T10:03:27.560Z"
   },
   {
    "duration": 10,
    "start_time": "2021-09-01T10:03:27.592Z"
   },
   {
    "duration": 16,
    "start_time": "2021-09-01T10:03:27.604Z"
   },
   {
    "duration": 3,
    "start_time": "2021-09-01T10:03:27.622Z"
   },
   {
    "duration": 12,
    "start_time": "2021-09-01T10:04:53.395Z"
   },
   {
    "duration": 4,
    "start_time": "2021-09-01T10:04:57.392Z"
   },
   {
    "duration": 5,
    "start_time": "2021-09-01T10:05:00.283Z"
   },
   {
    "duration": 15,
    "start_time": "2021-09-01T10:06:35.048Z"
   },
   {
    "duration": 11,
    "start_time": "2021-09-01T10:06:43.484Z"
   },
   {
    "duration": 9,
    "start_time": "2021-09-01T10:06:51.756Z"
   },
   {
    "duration": 315,
    "start_time": "2021-09-01T10:07:12.606Z"
   },
   {
    "duration": 12,
    "start_time": "2021-09-01T10:07:24.838Z"
   },
   {
    "duration": 11,
    "start_time": "2021-09-01T10:07:27.837Z"
   },
   {
    "duration": 8,
    "start_time": "2021-09-01T10:07:28.348Z"
   },
   {
    "duration": 4,
    "start_time": "2021-09-01T10:07:32.400Z"
   },
   {
    "duration": 5,
    "start_time": "2021-09-01T10:07:34.348Z"
   },
   {
    "duration": 243,
    "start_time": "2021-09-01T10:08:18.099Z"
   },
   {
    "duration": 9,
    "start_time": "2021-09-01T10:08:26.396Z"
   },
   {
    "duration": 10,
    "start_time": "2021-09-01T10:08:30.408Z"
   },
   {
    "duration": 261,
    "start_time": "2021-09-01T10:08:51.239Z"
   },
   {
    "duration": 17,
    "start_time": "2021-09-01T10:09:12.945Z"
   },
   {
    "duration": 13,
    "start_time": "2021-09-01T10:09:29.073Z"
   },
   {
    "duration": 239,
    "start_time": "2021-09-01T10:09:30.025Z"
   },
   {
    "duration": 12,
    "start_time": "2021-09-01T10:09:40.144Z"
   },
   {
    "duration": 13,
    "start_time": "2021-09-01T10:09:56.902Z"
   },
   {
    "duration": 12,
    "start_time": "2021-09-01T10:10:15.500Z"
   },
   {
    "duration": 12,
    "start_time": "2021-09-01T10:10:28.766Z"
   },
   {
    "duration": 11,
    "start_time": "2021-09-01T10:10:34.994Z"
   },
   {
    "duration": 13,
    "start_time": "2021-09-01T10:10:56.744Z"
   },
   {
    "duration": 13,
    "start_time": "2021-09-01T10:10:59.709Z"
   },
   {
    "duration": 11,
    "start_time": "2021-09-01T10:11:07.597Z"
   },
   {
    "duration": 13,
    "start_time": "2021-09-01T10:11:47.971Z"
   },
   {
    "duration": 12,
    "start_time": "2021-09-01T10:12:08.900Z"
   },
   {
    "duration": 237,
    "start_time": "2021-09-01T10:12:15.757Z"
   },
   {
    "duration": 12,
    "start_time": "2021-09-01T10:12:21.069Z"
   },
   {
    "duration": 11,
    "start_time": "2021-09-01T10:12:47.633Z"
   },
   {
    "duration": 12,
    "start_time": "2021-09-01T10:13:32.283Z"
   },
   {
    "duration": 12,
    "start_time": "2021-09-01T10:13:45.787Z"
   },
   {
    "duration": 10,
    "start_time": "2021-09-01T10:13:48.376Z"
   },
   {
    "duration": 355,
    "start_time": "2021-09-01T10:14:05.289Z"
   },
   {
    "duration": 11,
    "start_time": "2021-09-01T10:14:20.375Z"
   },
   {
    "duration": 625,
    "start_time": "2021-09-01T10:14:40.984Z"
   },
   {
    "duration": 50,
    "start_time": "2021-09-01T10:14:41.611Z"
   },
   {
    "duration": 19,
    "start_time": "2021-09-01T10:14:42.052Z"
   },
   {
    "duration": 12,
    "start_time": "2021-09-01T10:14:42.485Z"
   },
   {
    "duration": 9,
    "start_time": "2021-09-01T10:14:43.924Z"
   },
   {
    "duration": 5,
    "start_time": "2021-09-01T10:14:44.302Z"
   },
   {
    "duration": 9,
    "start_time": "2021-09-01T10:14:44.560Z"
   },
   {
    "duration": 13,
    "start_time": "2021-09-01T10:14:45.734Z"
   },
   {
    "duration": 6,
    "start_time": "2021-09-01T10:14:47.762Z"
   },
   {
    "duration": 6,
    "start_time": "2021-09-01T10:14:49.692Z"
   },
   {
    "duration": 13,
    "start_time": "2021-09-01T10:14:54.385Z"
   },
   {
    "duration": 10,
    "start_time": "2021-09-01T10:14:56.688Z"
   },
   {
    "duration": 7,
    "start_time": "2021-09-01T10:15:01.288Z"
   },
   {
    "duration": 13,
    "start_time": "2021-09-01T10:15:33.414Z"
   },
   {
    "duration": 12,
    "start_time": "2021-09-01T10:15:53.400Z"
   },
   {
    "duration": 13,
    "start_time": "2021-09-01T10:16:06.413Z"
   },
   {
    "duration": 10,
    "start_time": "2021-09-01T10:16:32.903Z"
   },
   {
    "duration": 10,
    "start_time": "2021-09-01T10:16:44.164Z"
   },
   {
    "duration": 13,
    "start_time": "2021-09-01T10:16:50.974Z"
   },
   {
    "duration": 5,
    "start_time": "2021-09-01T10:16:58.284Z"
   },
   {
    "duration": 8,
    "start_time": "2021-09-01T10:17:17.614Z"
   },
   {
    "duration": 590,
    "start_time": "2021-09-01T10:17:32.609Z"
   },
   {
    "duration": 51,
    "start_time": "2021-09-01T10:17:33.201Z"
   },
   {
    "duration": 20,
    "start_time": "2021-09-01T10:17:33.254Z"
   },
   {
    "duration": 22,
    "start_time": "2021-09-01T10:17:33.276Z"
   },
   {
    "duration": 16,
    "start_time": "2021-09-01T10:17:33.300Z"
   },
   {
    "duration": 6,
    "start_time": "2021-09-01T10:17:33.319Z"
   },
   {
    "duration": 9,
    "start_time": "2021-09-01T10:17:33.327Z"
   },
   {
    "duration": 15,
    "start_time": "2021-09-01T10:17:33.338Z"
   },
   {
    "duration": 7,
    "start_time": "2021-09-01T10:17:33.391Z"
   },
   {
    "duration": 19,
    "start_time": "2021-09-01T10:17:33.400Z"
   },
   {
    "duration": 25,
    "start_time": "2021-09-01T10:17:33.421Z"
   },
   {
    "duration": 11,
    "start_time": "2021-09-01T10:17:33.448Z"
   },
   {
    "duration": 15,
    "start_time": "2021-09-01T10:17:33.460Z"
   },
   {
    "duration": 28,
    "start_time": "2021-09-01T10:17:33.477Z"
   },
   {
    "duration": 26,
    "start_time": "2021-09-01T10:17:33.507Z"
   },
   {
    "duration": 7,
    "start_time": "2021-09-01T10:17:33.535Z"
   },
   {
    "duration": 10,
    "start_time": "2021-09-01T10:17:33.544Z"
   },
   {
    "duration": 19,
    "start_time": "2021-09-01T10:17:33.556Z"
   },
   {
    "duration": 18,
    "start_time": "2021-09-01T10:17:33.577Z"
   },
   {
    "duration": 24,
    "start_time": "2021-09-01T10:17:33.597Z"
   },
   {
    "duration": 14,
    "start_time": "2021-09-01T10:17:33.623Z"
   },
   {
    "duration": 26,
    "start_time": "2021-09-01T10:17:33.639Z"
   },
   {
    "duration": 14,
    "start_time": "2021-09-01T10:17:33.669Z"
   },
   {
    "duration": 8,
    "start_time": "2021-09-01T10:17:33.685Z"
   },
   {
    "duration": 26,
    "start_time": "2021-09-01T10:17:33.694Z"
   },
   {
    "duration": 15,
    "start_time": "2021-09-01T10:17:33.722Z"
   },
   {
    "duration": 21,
    "start_time": "2021-09-01T10:17:33.739Z"
   },
   {
    "duration": 35,
    "start_time": "2021-09-01T10:17:33.762Z"
   },
   {
    "duration": 4,
    "start_time": "2021-09-01T10:17:33.799Z"
   },
   {
    "duration": 33,
    "start_time": "2021-09-01T10:17:33.805Z"
   },
   {
    "duration": 14,
    "start_time": "2021-09-01T10:17:33.840Z"
   },
   {
    "duration": 7,
    "start_time": "2021-09-01T10:17:33.856Z"
   },
   {
    "duration": 29,
    "start_time": "2021-09-01T10:17:33.864Z"
   },
   {
    "duration": 14,
    "start_time": "2021-09-01T10:17:33.895Z"
   },
   {
    "duration": 11495,
    "start_time": "2021-09-01T10:17:33.910Z"
   },
   {
    "duration": 20,
    "start_time": "2021-09-01T10:17:45.406Z"
   },
   {
    "duration": 3,
    "start_time": "2021-09-01T10:17:45.428Z"
   },
   {
    "duration": 26,
    "start_time": "2021-09-01T10:17:45.433Z"
   },
   {
    "duration": 35,
    "start_time": "2021-09-01T10:17:45.461Z"
   },
   {
    "duration": 11,
    "start_time": "2021-09-01T10:17:45.498Z"
   },
   {
    "duration": 12,
    "start_time": "2021-09-01T10:17:45.511Z"
   },
   {
    "duration": 12,
    "start_time": "2021-09-01T10:17:45.525Z"
   },
   {
    "duration": 12,
    "start_time": "2021-09-01T10:17:45.539Z"
   },
   {
    "duration": 48,
    "start_time": "2021-09-01T10:17:45.553Z"
   },
   {
    "duration": 5,
    "start_time": "2021-09-01T10:17:45.603Z"
   },
   {
    "duration": 34,
    "start_time": "2021-09-01T10:17:45.609Z"
   },
   {
    "duration": 3,
    "start_time": "2021-09-01T10:17:45.645Z"
   },
   {
    "duration": 21,
    "start_time": "2021-09-01T10:17:45.650Z"
   },
   {
    "duration": 24,
    "start_time": "2021-09-01T10:17:45.673Z"
   },
   {
    "duration": 18,
    "start_time": "2021-09-01T10:17:45.698Z"
   },
   {
    "duration": 16,
    "start_time": "2021-09-01T10:18:12.989Z"
   },
   {
    "duration": 4,
    "start_time": "2021-09-01T10:18:21.578Z"
   },
   {
    "duration": 5,
    "start_time": "2021-09-01T10:18:24.427Z"
   },
   {
    "duration": 6,
    "start_time": "2021-09-01T10:18:28.728Z"
   },
   {
    "duration": 296,
    "start_time": "2021-09-01T10:18:59.683Z"
   },
   {
    "duration": 12,
    "start_time": "2021-09-01T10:19:18.492Z"
   },
   {
    "duration": 15,
    "start_time": "2021-09-01T10:19:21.561Z"
   },
   {
    "duration": 13,
    "start_time": "2021-09-01T10:19:29.146Z"
   },
   {
    "duration": 11,
    "start_time": "2021-09-01T10:19:37.762Z"
   },
   {
    "duration": 11,
    "start_time": "2021-09-01T10:20:13.689Z"
   },
   {
    "duration": 13,
    "start_time": "2021-09-01T10:20:16.823Z"
   },
   {
    "duration": 242,
    "start_time": "2021-09-01T10:20:21.778Z"
   },
   {
    "duration": 11,
    "start_time": "2021-09-01T10:20:36.570Z"
   },
   {
    "duration": 11,
    "start_time": "2021-09-01T10:22:07.410Z"
   },
   {
    "duration": 13,
    "start_time": "2021-09-01T10:22:25.796Z"
   },
   {
    "duration": 647,
    "start_time": "2021-09-01T10:22:39.093Z"
   },
   {
    "duration": 49,
    "start_time": "2021-09-01T10:22:39.741Z"
   },
   {
    "duration": 19,
    "start_time": "2021-09-01T10:22:39.814Z"
   },
   {
    "duration": 11,
    "start_time": "2021-09-01T10:22:40.096Z"
   },
   {
    "duration": 9,
    "start_time": "2021-09-01T10:22:41.776Z"
   },
   {
    "duration": 5,
    "start_time": "2021-09-01T10:22:42.180Z"
   },
   {
    "duration": 11,
    "start_time": "2021-09-01T10:22:42.423Z"
   },
   {
    "duration": 18,
    "start_time": "2021-09-01T10:22:43.169Z"
   },
   {
    "duration": 7,
    "start_time": "2021-09-01T10:22:44.237Z"
   },
   {
    "duration": 8,
    "start_time": "2021-09-01T10:22:45.111Z"
   },
   {
    "duration": 13,
    "start_time": "2021-09-01T10:22:47.026Z"
   },
   {
    "duration": 10,
    "start_time": "2021-09-01T10:22:49.340Z"
   },
   {
    "duration": 6,
    "start_time": "2021-09-01T10:23:00.577Z"
   },
   {
    "duration": 17,
    "start_time": "2021-09-01T10:23:19.786Z"
   },
   {
    "duration": 13,
    "start_time": "2021-09-01T10:23:36.217Z"
   },
   {
    "duration": 15,
    "start_time": "2021-09-01T10:23:49.294Z"
   },
   {
    "duration": 11,
    "start_time": "2021-09-01T10:24:19.170Z"
   },
   {
    "duration": 10,
    "start_time": "2021-09-01T10:24:24.596Z"
   },
   {
    "duration": 11,
    "start_time": "2021-09-01T10:25:05.707Z"
   },
   {
    "duration": 6,
    "start_time": "2021-09-01T10:25:11.305Z"
   },
   {
    "duration": 16,
    "start_time": "2021-09-01T10:27:25.076Z"
   },
   {
    "duration": 12,
    "start_time": "2021-09-01T10:27:33.455Z"
   },
   {
    "duration": 7,
    "start_time": "2021-09-01T10:27:53.212Z"
   },
   {
    "duration": 8,
    "start_time": "2021-09-01T10:28:20.673Z"
   },
   {
    "duration": 15,
    "start_time": "2021-09-01T10:28:32.034Z"
   },
   {
    "duration": 17,
    "start_time": "2021-09-01T10:29:58.962Z"
   },
   {
    "duration": 12,
    "start_time": "2021-09-01T10:29:59.763Z"
   },
   {
    "duration": 14,
    "start_time": "2021-09-01T10:30:20.720Z"
   },
   {
    "duration": 11,
    "start_time": "2021-09-01T10:30:32.448Z"
   },
   {
    "duration": 6,
    "start_time": "2021-09-01T10:32:21.897Z"
   },
   {
    "duration": 6,
    "start_time": "2021-09-01T10:32:46.210Z"
   },
   {
    "duration": 6,
    "start_time": "2021-09-01T10:32:49.660Z"
   },
   {
    "duration": 557,
    "start_time": "2021-09-01T10:34:19.636Z"
   },
   {
    "duration": 50,
    "start_time": "2021-09-01T10:34:20.785Z"
   },
   {
    "duration": 19,
    "start_time": "2021-09-01T10:34:20.837Z"
   },
   {
    "duration": 14,
    "start_time": "2021-09-01T10:34:20.858Z"
   },
   {
    "duration": 9,
    "start_time": "2021-09-01T10:34:23.080Z"
   },
   {
    "duration": 5,
    "start_time": "2021-09-01T10:34:23.664Z"
   },
   {
    "duration": 9,
    "start_time": "2021-09-01T10:34:24.011Z"
   },
   {
    "duration": 14,
    "start_time": "2021-09-01T10:34:25.212Z"
   },
   {
    "duration": 7,
    "start_time": "2021-09-01T10:34:26.224Z"
   },
   {
    "duration": 7,
    "start_time": "2021-09-01T10:34:27.321Z"
   },
   {
    "duration": 14,
    "start_time": "2021-09-01T10:34:28.224Z"
   },
   {
    "duration": 10,
    "start_time": "2021-09-01T10:34:41.362Z"
   },
   {
    "duration": 7,
    "start_time": "2021-09-01T10:34:42.019Z"
   },
   {
    "duration": 17,
    "start_time": "2021-09-01T10:34:42.337Z"
   },
   {
    "duration": 13,
    "start_time": "2021-09-01T10:34:42.400Z"
   },
   {
    "duration": 5,
    "start_time": "2021-09-01T10:34:44.675Z"
   },
   {
    "duration": 6,
    "start_time": "2021-09-01T10:34:46.278Z"
   },
   {
    "duration": 5,
    "start_time": "2021-09-01T10:35:20.525Z"
   },
   {
    "duration": 5,
    "start_time": "2021-09-01T10:35:29.610Z"
   },
   {
    "duration": 11,
    "start_time": "2021-09-01T10:36:49.567Z"
   },
   {
    "duration": 10,
    "start_time": "2021-09-01T10:36:57.619Z"
   },
   {
    "duration": 10,
    "start_time": "2021-09-01T10:37:05.413Z"
   },
   {
    "duration": 6,
    "start_time": "2021-09-01T10:41:07.415Z"
   },
   {
    "duration": 17,
    "start_time": "2021-09-01T10:42:04.289Z"
   },
   {
    "duration": 8,
    "start_time": "2021-09-01T10:42:12.168Z"
   },
   {
    "duration": 8,
    "start_time": "2021-09-01T10:44:55.888Z"
   },
   {
    "duration": 17,
    "start_time": "2021-09-01T10:45:21.701Z"
   },
   {
    "duration": 11,
    "start_time": "2021-09-01T10:46:20.854Z"
   },
   {
    "duration": 9,
    "start_time": "2021-09-01T10:48:41.275Z"
   },
   {
    "duration": 4,
    "start_time": "2021-09-01T10:49:36.613Z"
   },
   {
    "duration": 3,
    "start_time": "2021-09-01T10:49:37.765Z"
   },
   {
    "duration": 10,
    "start_time": "2021-09-01T10:49:41.238Z"
   },
   {
    "duration": 9,
    "start_time": "2021-09-01T10:50:16.117Z"
   },
   {
    "duration": 16,
    "start_time": "2021-09-01T10:54:44.976Z"
   },
   {
    "duration": 16,
    "start_time": "2021-09-01T10:55:27.621Z"
   },
   {
    "duration": 8,
    "start_time": "2021-09-01T11:10:27.104Z"
   },
   {
    "duration": 9,
    "start_time": "2021-09-01T11:10:37.580Z"
   },
   {
    "duration": 10,
    "start_time": "2021-09-01T11:10:53.405Z"
   },
   {
    "duration": 8,
    "start_time": "2021-09-01T11:11:02.347Z"
   },
   {
    "duration": 8,
    "start_time": "2021-09-01T11:11:45.148Z"
   },
   {
    "duration": 10,
    "start_time": "2021-09-01T11:11:54.028Z"
   },
   {
    "duration": 89,
    "start_time": "2021-09-01T11:15:05.567Z"
   },
   {
    "duration": 6,
    "start_time": "2021-09-01T11:15:10.730Z"
   },
   {
    "duration": 7,
    "start_time": "2021-09-01T11:19:09.012Z"
   },
   {
    "duration": 16,
    "start_time": "2021-09-01T11:19:09.946Z"
   },
   {
    "duration": 8,
    "start_time": "2021-09-01T11:19:12.409Z"
   },
   {
    "duration": 20,
    "start_time": "2021-09-01T11:19:14.699Z"
   },
   {
    "duration": 21,
    "start_time": "2021-09-01T11:19:46.227Z"
   },
   {
    "duration": 4,
    "start_time": "2021-09-01T11:20:34.101Z"
   },
   {
    "duration": 77,
    "start_time": "2021-09-01T11:20:59.907Z"
   },
   {
    "duration": 4,
    "start_time": "2021-09-01T11:21:10.933Z"
   },
   {
    "duration": 4,
    "start_time": "2021-09-01T11:21:21.561Z"
   },
   {
    "duration": 4,
    "start_time": "2021-09-01T11:22:04.572Z"
   },
   {
    "duration": 19,
    "start_time": "2021-09-01T11:22:13.043Z"
   },
   {
    "duration": 12,
    "start_time": "2021-09-01T11:22:13.907Z"
   },
   {
    "duration": 587,
    "start_time": "2021-09-01T11:25:02.649Z"
   },
   {
    "duration": 49,
    "start_time": "2021-09-01T11:25:03.237Z"
   },
   {
    "duration": 23,
    "start_time": "2021-09-01T11:25:03.288Z"
   },
   {
    "duration": 14,
    "start_time": "2021-09-01T11:25:03.313Z"
   },
   {
    "duration": 13,
    "start_time": "2021-09-01T11:25:03.329Z"
   },
   {
    "duration": 9,
    "start_time": "2021-09-01T11:25:03.343Z"
   },
   {
    "duration": 7,
    "start_time": "2021-09-01T11:25:03.353Z"
   },
   {
    "duration": 35,
    "start_time": "2021-09-01T11:25:03.362Z"
   },
   {
    "duration": 15,
    "start_time": "2021-09-01T11:25:03.400Z"
   },
   {
    "duration": 7,
    "start_time": "2021-09-01T11:25:03.417Z"
   },
   {
    "duration": 18,
    "start_time": "2021-09-01T11:25:03.425Z"
   },
   {
    "duration": 9,
    "start_time": "2021-09-01T11:25:03.444Z"
   },
   {
    "duration": 7,
    "start_time": "2021-09-01T11:25:03.454Z"
   },
   {
    "duration": 44,
    "start_time": "2021-09-01T11:25:03.463Z"
   },
   {
    "duration": 11,
    "start_time": "2021-09-01T11:25:03.509Z"
   },
   {
    "duration": 7,
    "start_time": "2021-09-01T11:25:03.521Z"
   },
   {
    "duration": 9,
    "start_time": "2021-09-01T11:25:03.529Z"
   },
   {
    "duration": 7,
    "start_time": "2021-09-01T11:25:03.539Z"
   },
   {
    "duration": 11,
    "start_time": "2021-09-01T11:25:03.548Z"
   },
   {
    "duration": 9,
    "start_time": "2021-09-01T11:25:03.560Z"
   },
   {
    "duration": 31,
    "start_time": "2021-09-01T11:25:03.570Z"
   },
   {
    "duration": 9,
    "start_time": "2021-09-01T11:25:03.604Z"
   },
   {
    "duration": 4,
    "start_time": "2021-09-01T11:25:03.618Z"
   },
   {
    "duration": 6,
    "start_time": "2021-09-01T11:25:03.624Z"
   },
   {
    "duration": 12,
    "start_time": "2021-09-01T11:25:03.632Z"
   },
   {
    "duration": 21,
    "start_time": "2021-09-01T11:25:03.646Z"
   },
   {
    "duration": 20,
    "start_time": "2021-09-01T11:25:03.691Z"
   },
   {
    "duration": 6,
    "start_time": "2021-09-01T11:25:03.713Z"
   },
   {
    "duration": 31,
    "start_time": "2021-09-01T11:25:03.721Z"
   },
   {
    "duration": 20,
    "start_time": "2021-09-01T11:25:03.754Z"
   },
   {
    "duration": 22,
    "start_time": "2021-09-01T11:25:03.776Z"
   },
   {
    "duration": 24,
    "start_time": "2021-09-01T11:25:03.800Z"
   },
   {
    "duration": 4,
    "start_time": "2021-09-01T11:25:03.826Z"
   },
   {
    "duration": 24,
    "start_time": "2021-09-01T11:25:03.831Z"
   },
   {
    "duration": 7,
    "start_time": "2021-09-01T11:25:03.856Z"
   },
   {
    "duration": 10,
    "start_time": "2021-09-01T11:25:03.864Z"
   },
   {
    "duration": 18,
    "start_time": "2021-09-01T11:25:03.875Z"
   },
   {
    "duration": 10998,
    "start_time": "2021-09-01T11:25:03.896Z"
   },
   {
    "duration": 20,
    "start_time": "2021-09-01T11:25:14.897Z"
   },
   {
    "duration": 3,
    "start_time": "2021-09-01T11:25:14.919Z"
   },
   {
    "duration": 17,
    "start_time": "2021-09-01T11:25:14.923Z"
   },
   {
    "duration": 12,
    "start_time": "2021-09-01T11:25:14.941Z"
   },
   {
    "duration": 40,
    "start_time": "2021-09-01T11:25:14.954Z"
   },
   {
    "duration": 16,
    "start_time": "2021-09-01T11:25:14.996Z"
   },
   {
    "duration": 13,
    "start_time": "2021-09-01T11:25:15.015Z"
   },
   {
    "duration": 21,
    "start_time": "2021-09-01T11:25:15.029Z"
   },
   {
    "duration": 19,
    "start_time": "2021-09-01T11:25:15.052Z"
   },
   {
    "duration": 20,
    "start_time": "2021-09-01T11:25:15.072Z"
   },
   {
    "duration": 27,
    "start_time": "2021-09-01T11:25:15.095Z"
   },
   {
    "duration": 3,
    "start_time": "2021-09-01T11:25:15.124Z"
   },
   {
    "duration": 14,
    "start_time": "2021-09-01T11:25:15.129Z"
   },
   {
    "duration": 17,
    "start_time": "2021-09-01T11:25:15.145Z"
   },
   {
    "duration": 3,
    "start_time": "2021-09-01T11:25:15.163Z"
   },
   {
    "duration": 16,
    "start_time": "2021-09-01T11:27:51.009Z"
   },
   {
    "duration": 20,
    "start_time": "2021-09-01T11:28:50.014Z"
   },
   {
    "duration": 640,
    "start_time": "2021-09-01T11:47:14.389Z"
   },
   {
    "duration": 54,
    "start_time": "2021-09-01T11:47:15.034Z"
   },
   {
    "duration": 19,
    "start_time": "2021-09-01T11:47:15.092Z"
   },
   {
    "duration": 17,
    "start_time": "2021-09-01T11:47:15.113Z"
   },
   {
    "duration": 11,
    "start_time": "2021-09-01T11:47:16.486Z"
   },
   {
    "duration": 6,
    "start_time": "2021-09-01T11:47:17.126Z"
   },
   {
    "duration": 9,
    "start_time": "2021-09-01T11:47:17.357Z"
   },
   {
    "duration": 15,
    "start_time": "2021-09-01T11:47:18.046Z"
   },
   {
    "duration": 7,
    "start_time": "2021-09-01T11:47:18.610Z"
   },
   {
    "duration": 6,
    "start_time": "2021-09-01T11:47:18.990Z"
   },
   {
    "duration": 13,
    "start_time": "2021-09-01T11:47:20.115Z"
   },
   {
    "duration": 11,
    "start_time": "2021-09-01T11:47:21.715Z"
   },
   {
    "duration": 8,
    "start_time": "2021-09-01T11:47:22.571Z"
   },
   {
    "duration": 15,
    "start_time": "2021-09-01T11:47:22.581Z"
   },
   {
    "duration": 14,
    "start_time": "2021-09-01T11:47:22.846Z"
   },
   {
    "duration": 6,
    "start_time": "2021-09-01T11:47:23.984Z"
   },
   {
    "duration": 4,
    "start_time": "2021-09-01T11:47:26.839Z"
   },
   {
    "duration": 4,
    "start_time": "2021-09-01T11:47:27.206Z"
   },
   {
    "duration": 4,
    "start_time": "2021-09-01T11:48:16.150Z"
   },
   {
    "duration": 5,
    "start_time": "2021-09-01T11:48:23.269Z"
   },
   {
    "duration": 12,
    "start_time": "2021-09-01T11:48:35.590Z"
   },
   {
    "duration": 8,
    "start_time": "2021-09-01T11:48:43.874Z"
   },
   {
    "duration": 7,
    "start_time": "2021-09-01T11:49:46.930Z"
   },
   {
    "duration": 8,
    "start_time": "2021-09-01T11:50:39.678Z"
   },
   {
    "duration": 15,
    "start_time": "2021-09-01T11:50:57.724Z"
   },
   {
    "duration": 7,
    "start_time": "2021-09-01T11:50:58.597Z"
   },
   {
    "duration": 16,
    "start_time": "2021-09-01T11:50:59.278Z"
   },
   {
    "duration": 8,
    "start_time": "2021-09-01T11:51:00.870Z"
   },
   {
    "duration": 18,
    "start_time": "2021-09-01T11:51:02.647Z"
   },
   {
    "duration": 19,
    "start_time": "2021-09-01T11:51:03.961Z"
   },
   {
    "duration": 5,
    "start_time": "2021-09-01T11:51:04.685Z"
   },
   {
    "duration": 18,
    "start_time": "2021-09-01T11:51:21.239Z"
   },
   {
    "duration": 8,
    "start_time": "2021-09-01T11:51:41.964Z"
   },
   {
    "duration": 4,
    "start_time": "2021-09-01T11:52:09.103Z"
   },
   {
    "duration": 9746,
    "start_time": "2021-09-01T11:52:48.465Z"
   },
   {
    "duration": 13,
    "start_time": "2021-09-01T11:53:08.974Z"
   },
   {
    "duration": 9886,
    "start_time": "2021-09-01T11:53:20.273Z"
   },
   {
    "duration": 11,
    "start_time": "2021-09-01T11:53:40.037Z"
   },
   {
    "duration": 10105,
    "start_time": "2021-09-01T11:54:19.473Z"
   },
   {
    "duration": 650,
    "start_time": "2021-09-01T12:05:42.400Z"
   },
   {
    "duration": 54,
    "start_time": "2021-09-01T12:05:43.052Z"
   },
   {
    "duration": 17,
    "start_time": "2021-09-01T12:05:43.108Z"
   },
   {
    "duration": 21,
    "start_time": "2021-09-01T12:05:43.127Z"
   },
   {
    "duration": 21,
    "start_time": "2021-09-01T12:05:43.150Z"
   },
   {
    "duration": 11,
    "start_time": "2021-09-01T12:05:43.172Z"
   },
   {
    "duration": 25,
    "start_time": "2021-09-01T12:05:43.184Z"
   },
   {
    "duration": 15,
    "start_time": "2021-09-01T12:05:43.211Z"
   },
   {
    "duration": 5,
    "start_time": "2021-09-01T12:05:43.228Z"
   },
   {
    "duration": 24,
    "start_time": "2021-09-01T12:05:43.235Z"
   },
   {
    "duration": 29,
    "start_time": "2021-09-01T12:05:43.260Z"
   },
   {
    "duration": 9,
    "start_time": "2021-09-01T12:05:43.291Z"
   },
   {
    "duration": 18,
    "start_time": "2021-09-01T12:05:43.302Z"
   },
   {
    "duration": 19,
    "start_time": "2021-09-01T12:05:43.321Z"
   },
   {
    "duration": 27,
    "start_time": "2021-09-01T12:05:43.342Z"
   },
   {
    "duration": 17,
    "start_time": "2021-09-01T12:05:43.371Z"
   },
   {
    "duration": 14,
    "start_time": "2021-09-01T12:05:43.390Z"
   },
   {
    "duration": 10,
    "start_time": "2021-09-01T12:05:43.406Z"
   },
   {
    "duration": 30,
    "start_time": "2021-09-01T12:05:43.418Z"
   },
   {
    "duration": 16,
    "start_time": "2021-09-01T12:05:43.450Z"
   },
   {
    "duration": 17,
    "start_time": "2021-09-01T12:05:43.468Z"
   },
   {
    "duration": 17,
    "start_time": "2021-09-01T12:05:43.487Z"
   },
   {
    "duration": 15,
    "start_time": "2021-09-01T12:05:43.507Z"
   },
   {
    "duration": 30,
    "start_time": "2021-09-01T12:05:43.524Z"
   },
   {
    "duration": 14,
    "start_time": "2021-09-01T12:05:43.555Z"
   },
   {
    "duration": 30,
    "start_time": "2021-09-01T12:05:43.570Z"
   },
   {
    "duration": 18,
    "start_time": "2021-09-01T12:05:43.602Z"
   },
   {
    "duration": 31,
    "start_time": "2021-09-01T12:05:43.622Z"
   },
   {
    "duration": 25,
    "start_time": "2021-09-01T12:05:43.655Z"
   },
   {
    "duration": 4,
    "start_time": "2021-09-01T12:05:43.681Z"
   },
   {
    "duration": 49,
    "start_time": "2021-09-01T12:05:43.686Z"
   },
   {
    "duration": 8,
    "start_time": "2021-09-01T12:05:43.737Z"
   },
   {
    "duration": 21,
    "start_time": "2021-09-01T12:05:43.746Z"
   },
   {
    "duration": 10532,
    "start_time": "2021-09-01T12:05:43.769Z"
   },
   {
    "duration": 3,
    "start_time": "2021-09-01T12:05:54.302Z"
   },
   {
    "duration": 23,
    "start_time": "2021-09-01T12:05:54.307Z"
   },
   {
    "duration": 12,
    "start_time": "2021-09-01T12:05:54.332Z"
   },
   {
    "duration": 31,
    "start_time": "2021-09-01T12:05:54.345Z"
   },
   {
    "duration": 465,
    "start_time": "2021-09-01T12:05:54.378Z"
   },
   {
    "duration": -316,
    "start_time": "2021-09-01T12:05:55.161Z"
   },
   {
    "duration": -332,
    "start_time": "2021-09-01T12:05:55.178Z"
   },
   {
    "duration": -346,
    "start_time": "2021-09-01T12:05:55.193Z"
   },
   {
    "duration": -362,
    "start_time": "2021-09-01T12:05:55.210Z"
   },
   {
    "duration": -414,
    "start_time": "2021-09-01T12:05:55.263Z"
   },
   {
    "duration": -465,
    "start_time": "2021-09-01T12:05:55.315Z"
   },
   {
    "duration": -516,
    "start_time": "2021-09-01T12:05:55.366Z"
   },
   {
    "duration": -542,
    "start_time": "2021-09-01T12:05:55.394Z"
   },
   {
    "duration": -570,
    "start_time": "2021-09-01T12:05:55.422Z"
   },
   {
    "duration": 21,
    "start_time": "2021-09-01T12:07:05.509Z"
   },
   {
    "duration": 13,
    "start_time": "2021-09-01T12:07:24.357Z"
   },
   {
    "duration": 11,
    "start_time": "2021-09-01T12:07:49.408Z"
   },
   {
    "duration": 11,
    "start_time": "2021-09-01T12:07:59.076Z"
   },
   {
    "duration": 11,
    "start_time": "2021-09-01T12:09:09.079Z"
   },
   {
    "duration": 7,
    "start_time": "2021-09-01T12:19:34.761Z"
   },
   {
    "duration": 7,
    "start_time": "2021-09-01T12:20:26.678Z"
   },
   {
    "duration": 9,
    "start_time": "2021-09-01T12:20:34.975Z"
   },
   {
    "duration": 6,
    "start_time": "2021-09-01T12:25:55.647Z"
   },
   {
    "duration": 7,
    "start_time": "2021-09-01T12:29:50.176Z"
   },
   {
    "duration": 7,
    "start_time": "2021-09-01T12:30:11.721Z"
   },
   {
    "duration": 5,
    "start_time": "2021-09-01T12:32:52.298Z"
   },
   {
    "duration": 876,
    "start_time": "2021-09-01T12:34:40.045Z"
   },
   {
    "duration": 816,
    "start_time": "2021-09-01T12:35:15.793Z"
   },
   {
    "duration": 1211,
    "start_time": "2021-09-02T07:55:42.426Z"
   },
   {
    "duration": 7790,
    "start_time": "2021-09-02T07:55:43.640Z"
   },
   {
    "duration": -378,
    "start_time": "2021-09-02T07:55:51.812Z"
   },
   {
    "duration": -399,
    "start_time": "2021-09-02T07:55:51.835Z"
   },
   {
    "duration": -418,
    "start_time": "2021-09-02T07:55:51.855Z"
   },
   {
    "duration": -425,
    "start_time": "2021-09-02T07:55:51.863Z"
   },
   {
    "duration": -431,
    "start_time": "2021-09-02T07:55:51.871Z"
   },
   {
    "duration": -439,
    "start_time": "2021-09-02T07:55:51.880Z"
   },
   {
    "duration": -445,
    "start_time": "2021-09-02T07:55:51.888Z"
   },
   {
    "duration": -455,
    "start_time": "2021-09-02T07:55:51.899Z"
   },
   {
    "duration": -462,
    "start_time": "2021-09-02T07:55:51.907Z"
   },
   {
    "duration": -471,
    "start_time": "2021-09-02T07:55:51.917Z"
   },
   {
    "duration": -480,
    "start_time": "2021-09-02T07:55:51.928Z"
   },
   {
    "duration": -487,
    "start_time": "2021-09-02T07:55:51.936Z"
   },
   {
    "duration": -496,
    "start_time": "2021-09-02T07:55:51.946Z"
   },
   {
    "duration": -514,
    "start_time": "2021-09-02T07:55:51.966Z"
   },
   {
    "duration": -522,
    "start_time": "2021-09-02T07:55:51.975Z"
   },
   {
    "duration": -529,
    "start_time": "2021-09-02T07:55:51.983Z"
   },
   {
    "duration": -536,
    "start_time": "2021-09-02T07:55:51.991Z"
   },
   {
    "duration": -543,
    "start_time": "2021-09-02T07:55:52.000Z"
   },
   {
    "duration": -549,
    "start_time": "2021-09-02T07:55:52.007Z"
   },
   {
    "duration": -554,
    "start_time": "2021-09-02T07:55:52.014Z"
   },
   {
    "duration": -560,
    "start_time": "2021-09-02T07:55:52.021Z"
   },
   {
    "duration": -566,
    "start_time": "2021-09-02T07:55:52.028Z"
   },
   {
    "duration": -658,
    "start_time": "2021-09-02T07:55:52.122Z"
   },
   {
    "duration": -663,
    "start_time": "2021-09-02T07:55:52.128Z"
   },
   {
    "duration": -745,
    "start_time": "2021-09-02T07:55:52.211Z"
   },
   {
    "duration": -750,
    "start_time": "2021-09-02T07:55:52.218Z"
   },
   {
    "duration": -757,
    "start_time": "2021-09-02T07:55:52.226Z"
   },
   {
    "duration": -762,
    "start_time": "2021-09-02T07:55:52.233Z"
   },
   {
    "duration": -769,
    "start_time": "2021-09-02T07:55:52.242Z"
   },
   {
    "duration": -775,
    "start_time": "2021-09-02T07:55:52.249Z"
   },
   {
    "duration": -780,
    "start_time": "2021-09-02T07:55:52.256Z"
   },
   {
    "duration": -919,
    "start_time": "2021-09-02T07:55:52.396Z"
   },
   {
    "duration": -927,
    "start_time": "2021-09-02T07:55:52.406Z"
   },
   {
    "duration": -933,
    "start_time": "2021-09-02T07:55:52.413Z"
   },
   {
    "duration": -947,
    "start_time": "2021-09-02T07:55:52.428Z"
   },
   {
    "duration": -1129,
    "start_time": "2021-09-02T07:55:52.612Z"
   },
   {
    "duration": -1218,
    "start_time": "2021-09-02T07:55:52.702Z"
   },
   {
    "duration": -1222,
    "start_time": "2021-09-02T07:55:52.708Z"
   },
   {
    "duration": -1229,
    "start_time": "2021-09-02T07:55:52.716Z"
   },
   {
    "duration": -1260,
    "start_time": "2021-09-02T07:55:52.749Z"
   },
   {
    "duration": -1267,
    "start_time": "2021-09-02T07:55:52.757Z"
   },
   {
    "duration": -1281,
    "start_time": "2021-09-02T07:55:52.772Z"
   },
   {
    "duration": -1311,
    "start_time": "2021-09-02T07:55:52.803Z"
   },
   {
    "duration": -1315,
    "start_time": "2021-09-02T07:55:52.809Z"
   },
   {
    "duration": -1321,
    "start_time": "2021-09-02T07:55:52.816Z"
   },
   {
    "duration": -1302,
    "start_time": "2021-09-02T07:55:52.859Z"
   },
   {
    "duration": -1324,
    "start_time": "2021-09-02T07:55:52.882Z"
   },
   {
    "duration": -1329,
    "start_time": "2021-09-02T07:55:52.889Z"
   },
   {
    "duration": 901,
    "start_time": "2021-09-02T07:56:15.972Z"
   },
   {
    "duration": 66,
    "start_time": "2021-09-02T07:56:16.875Z"
   },
   {
    "duration": 29,
    "start_time": "2021-09-02T07:56:16.944Z"
   },
   {
    "duration": 23,
    "start_time": "2021-09-02T07:56:16.975Z"
   },
   {
    "duration": 21,
    "start_time": "2021-09-02T07:56:17.000Z"
   },
   {
    "duration": 16,
    "start_time": "2021-09-02T07:56:17.024Z"
   },
   {
    "duration": 18,
    "start_time": "2021-09-02T07:56:17.042Z"
   },
   {
    "duration": 20,
    "start_time": "2021-09-02T07:56:17.063Z"
   },
   {
    "duration": 10,
    "start_time": "2021-09-02T07:56:17.087Z"
   },
   {
    "duration": 16,
    "start_time": "2021-09-02T07:56:17.100Z"
   },
   {
    "duration": 57,
    "start_time": "2021-09-02T07:56:17.119Z"
   },
   {
    "duration": 15,
    "start_time": "2021-09-02T07:56:17.179Z"
   },
   {
    "duration": 14,
    "start_time": "2021-09-02T07:56:17.197Z"
   },
   {
    "duration": 66,
    "start_time": "2021-09-02T07:56:17.214Z"
   },
   {
    "duration": 21,
    "start_time": "2021-09-02T07:56:17.283Z"
   },
   {
    "duration": 18,
    "start_time": "2021-09-02T07:56:17.307Z"
   },
   {
    "duration": 33,
    "start_time": "2021-09-02T07:56:17.328Z"
   },
   {
    "duration": 31,
    "start_time": "2021-09-02T07:56:17.364Z"
   },
   {
    "duration": 16,
    "start_time": "2021-09-02T07:56:17.397Z"
   },
   {
    "duration": 34,
    "start_time": "2021-09-02T07:56:17.415Z"
   },
   {
    "duration": 22,
    "start_time": "2021-09-02T07:56:17.452Z"
   },
   {
    "duration": 11,
    "start_time": "2021-09-02T07:56:17.476Z"
   },
   {
    "duration": 15,
    "start_time": "2021-09-02T07:56:17.492Z"
   },
   {
    "duration": 28,
    "start_time": "2021-09-02T07:56:17.511Z"
   },
   {
    "duration": 15,
    "start_time": "2021-09-02T07:56:17.557Z"
   },
   {
    "duration": 40,
    "start_time": "2021-09-02T07:56:17.575Z"
   },
   {
    "duration": 12,
    "start_time": "2021-09-02T07:56:17.618Z"
   },
   {
    "duration": 55,
    "start_time": "2021-09-02T07:56:17.632Z"
   },
   {
    "duration": 27,
    "start_time": "2021-09-02T07:56:17.689Z"
   },
   {
    "duration": 6,
    "start_time": "2021-09-02T07:56:17.718Z"
   },
   {
    "duration": 61,
    "start_time": "2021-09-02T07:56:17.726Z"
   },
   {
    "duration": 10,
    "start_time": "2021-09-02T07:56:17.789Z"
   },
   {
    "duration": 16,
    "start_time": "2021-09-02T07:56:17.801Z"
   },
   {
    "duration": 17106,
    "start_time": "2021-09-02T07:56:17.819Z"
   },
   {
    "duration": 6,
    "start_time": "2021-09-02T07:56:34.927Z"
   },
   {
    "duration": 63550,
    "start_time": "2021-09-02T07:56:34.935Z"
   },
   {
    "duration": 4,
    "start_time": "2021-09-02T07:57:38.488Z"
   },
   {
    "duration": 31,
    "start_time": "2021-09-02T07:57:38.495Z"
   },
   {
    "duration": 27,
    "start_time": "2021-09-02T07:57:38.529Z"
   },
   {
    "duration": 9260,
    "start_time": "2021-09-02T07:57:38.558Z"
   },
   {
    "duration": 36,
    "start_time": "2021-09-02T07:57:47.821Z"
   },
   {
    "duration": 20,
    "start_time": "2021-09-02T07:57:47.860Z"
   },
   {
    "duration": 23,
    "start_time": "2021-09-02T07:57:47.882Z"
   },
   {
    "duration": 50,
    "start_time": "2021-09-02T07:57:47.907Z"
   },
   {
    "duration": 15,
    "start_time": "2021-09-02T07:57:47.959Z"
   },
   {
    "duration": 16,
    "start_time": "2021-09-02T07:57:47.977Z"
   },
   {
    "duration": 67,
    "start_time": "2021-09-02T07:57:47.996Z"
   },
   {
    "duration": 45,
    "start_time": "2021-09-02T07:57:48.066Z"
   },
   {
    "duration": 65,
    "start_time": "2021-09-02T07:57:48.113Z"
   },
   {
    "duration": 41,
    "start_time": "2021-09-02T07:57:48.180Z"
   },
   {
    "duration": 994,
    "start_time": "2021-09-03T04:15:41.199Z"
   },
   {
    "duration": 90,
    "start_time": "2021-09-03T04:15:42.197Z"
   },
   {
    "duration": 43,
    "start_time": "2021-09-03T04:15:42.291Z"
   },
   {
    "duration": 38,
    "start_time": "2021-09-03T04:15:42.337Z"
   },
   {
    "duration": 17,
    "start_time": "2021-09-03T04:15:42.379Z"
   },
   {
    "duration": 11,
    "start_time": "2021-09-03T04:15:42.399Z"
   },
   {
    "duration": 9,
    "start_time": "2021-09-03T04:15:42.413Z"
   },
   {
    "duration": 21,
    "start_time": "2021-09-03T04:15:42.465Z"
   },
   {
    "duration": 15,
    "start_time": "2021-09-03T04:15:42.491Z"
   },
   {
    "duration": 12,
    "start_time": "2021-09-03T04:15:42.509Z"
   },
   {
    "duration": 57,
    "start_time": "2021-09-03T04:15:42.524Z"
   },
   {
    "duration": 16,
    "start_time": "2021-09-03T04:15:42.584Z"
   },
   {
    "duration": 12,
    "start_time": "2021-09-03T04:15:42.603Z"
   },
   {
    "duration": 58,
    "start_time": "2021-09-03T04:15:42.618Z"
   },
   {
    "duration": 18,
    "start_time": "2021-09-03T04:15:42.679Z"
   },
   {
    "duration": 8,
    "start_time": "2021-09-03T04:15:42.700Z"
   },
   {
    "duration": 10,
    "start_time": "2021-09-03T04:15:42.710Z"
   },
   {
    "duration": 42,
    "start_time": "2021-09-03T04:15:42.722Z"
   },
   {
    "duration": 13,
    "start_time": "2021-09-03T04:15:42.766Z"
   },
   {
    "duration": 23,
    "start_time": "2021-09-03T04:15:42.781Z"
   },
   {
    "duration": 15,
    "start_time": "2021-09-03T04:15:42.807Z"
   },
   {
    "duration": 9,
    "start_time": "2021-09-03T04:15:42.825Z"
   },
   {
    "duration": 13,
    "start_time": "2021-09-03T04:15:42.868Z"
   },
   {
    "duration": 30,
    "start_time": "2021-09-03T04:15:42.885Z"
   },
   {
    "duration": 14,
    "start_time": "2021-09-03T04:15:42.918Z"
   },
   {
    "duration": 38,
    "start_time": "2021-09-03T04:15:42.963Z"
   },
   {
    "duration": 13,
    "start_time": "2021-09-03T04:15:43.004Z"
   },
   {
    "duration": 61,
    "start_time": "2021-09-03T04:15:43.019Z"
   },
   {
    "duration": 27,
    "start_time": "2021-09-03T04:15:43.082Z"
   },
   {
    "duration": 5,
    "start_time": "2021-09-03T04:15:43.112Z"
   },
   {
    "duration": 58,
    "start_time": "2021-09-03T04:15:43.119Z"
   },
   {
    "duration": 11,
    "start_time": "2021-09-03T04:15:43.179Z"
   },
   {
    "duration": 22,
    "start_time": "2021-09-03T04:15:43.192Z"
   },
   {
    "duration": 17174,
    "start_time": "2021-09-03T04:15:43.217Z"
   },
   {
    "duration": 6,
    "start_time": "2021-09-03T04:16:00.394Z"
   },
   {
    "duration": 61044,
    "start_time": "2021-09-03T04:16:00.403Z"
   },
   {
    "duration": 13,
    "start_time": "2021-09-03T04:17:01.449Z"
   },
   {
    "duration": 32,
    "start_time": "2021-09-03T04:17:01.465Z"
   },
   {
    "duration": 5,
    "start_time": "2021-09-03T04:17:01.500Z"
   },
   {
    "duration": 8331,
    "start_time": "2021-09-03T04:17:01.507Z"
   },
   {
    "duration": 31,
    "start_time": "2021-09-03T04:17:09.841Z"
   },
   {
    "duration": 17,
    "start_time": "2021-09-03T04:17:09.874Z"
   },
   {
    "duration": 16,
    "start_time": "2021-09-03T04:17:09.893Z"
   },
   {
    "duration": 60,
    "start_time": "2021-09-03T04:17:09.911Z"
   },
   {
    "duration": 14,
    "start_time": "2021-09-03T04:17:09.974Z"
   },
   {
    "duration": 14,
    "start_time": "2021-09-03T04:17:09.991Z"
   },
   {
    "duration": 76,
    "start_time": "2021-09-03T04:17:10.007Z"
   },
   {
    "duration": 46,
    "start_time": "2021-09-03T04:17:10.085Z"
   },
   {
    "duration": 61,
    "start_time": "2021-09-03T04:17:10.133Z"
   },
   {
    "duration": 67,
    "start_time": "2021-09-03T04:17:10.196Z"
   }
  ],
  "kernelspec": {
   "display_name": "Python 3",
   "language": "python",
   "name": "python3"
  },
  "language_info": {
   "codemirror_mode": {
    "name": "ipython",
    "version": 3
   },
   "file_extension": ".py",
   "mimetype": "text/x-python",
   "name": "python",
   "nbconvert_exporter": "python",
   "pygments_lexer": "ipython3",
   "version": "3.7.10"
  },
  "toc": {
   "base_numbering": 1,
   "nav_menu": {
    "height": "339px",
    "width": "498px"
   },
   "number_sections": true,
   "sideBar": true,
   "skip_h1_title": true,
   "title_cell": "Содержание",
   "title_sidebar": "Содержание",
   "toc_cell": true,
   "toc_position": {},
   "toc_section_display": true,
   "toc_window_display": false
  }
 },
 "nbformat": 4,
 "nbformat_minor": 2
}
